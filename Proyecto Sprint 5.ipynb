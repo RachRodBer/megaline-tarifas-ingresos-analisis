{
 "cells": [
  {
   "cell_type": "markdown",
   "metadata": {},
   "source": [
    "<b>¡Hola RACHEL!</b>\n",
    "\n",
    "Mi nombre es Alejandro Abia y tengo el gusto de revisar tu proyecto.\n",
    "\n",
    "A continuación, encontrarás mis comentarios en celdas pintadas de tres colores (verde, amarillo y rojo), a manera de semáforo. Por favor, <b>no las borres ni muevas de posición</b> mientras dure el proceso de revisión.\n",
    "\n",
    "<div class=\"alert alert-block alert-success\">\n",
    "<b>Éxito</b> <a class=\"tocSkip\"></a>\n",
    "En celdas verdes encontrarás comentarios en relación a tus aciertos y fortalezas.\n",
    "</div>\n",
    "<div class=\"alert alert-block alert-warning\">\n",
    "<b>Antención</b> <a class=\"tocSkip\"></a>\n",
    "Utilizaré el color amarillo para llamar tu atención, expresar algo importante o compartirte alguna idea de valor.\n",
    "</div>\n",
    "<div class=\"alert alert-block alert-danger\">\n",
    "<b>A resolver</b> <a class=\"tocSkip\"></a>\n",
    "En rojo emitiré aquellos puntos que deberás atender para aprobar la revisión.\n",
    "</div>\n",
    "<div class=\"alert alert-block alert-info\">\n",
    "<b>Comentario estudiante</b><a class=\"tocSkip\"></a>\n",
    "Es factible que, a lo largo del proceso de revisión, quieras dejarme comentarios. Si es el caso, por favor realízalo dentro de celdas azules como esta.\n",
    "</div>\n",
    "Respecto del proceso de revisión, tu proyecto será aceptado una vez que los comentarios en rojo hayan sido atendidos.\n",
    "¡Empecemos!"
   ]
  },
  {
   "cell_type": "markdown",
   "metadata": {
    "id": "3rYiDeEH0q0f"
   },
   "source": [
    "# ¿Cuál es la mejor tarifa?\n",
    "\n",
    "Trabajas como analista para el operador de telecomunicaciones Megaline. La empresa ofrece a sus clientes dos tarifas de prepago, Surf y Ultimate. El departamento comercial quiere saber cuál de las tarifas genera más ingresos para poder ajustar el presupuesto de publicidad.\n",
    "\n",
    "Vas a realizar un análisis preliminar de las tarifas basado en una selección de clientes relativamente pequeña. Tendrás los datos de 500 clientes de Megaline: quiénes son los clientes, de dónde son, qué tarifa usan, así como la cantidad de llamadas que hicieron y los mensajes de texto que enviaron en 2018. Tu trabajo es analizar el comportamiento de los clientes y determinar qué tarifa de prepago genera más ingresos."
   ]
  },
  {
   "cell_type": "markdown",
   "metadata": {
    "id": "VNddPNRQ0q0w"
   },
   "source": [
    "[Te proporcionamos algunos comentarios para orientarte mientras completas este proyecto. Pero debes asegurarte de eliminar todos los comentarios entre corchetes antes de entregar tu proyecto.]\n",
    "\n",
    "[Antes de sumergirte en el análisis de datos, explica por tu propia cuenta el propósito del proyecto y las acciones que planeas realizar.]\n",
    "\n",
    "[Ten en cuenta que estudiar, modificar y analizar datos es un proceso iterativo. Es normal volver a los pasos anteriores y corregirlos/ampliarlos para permitir nuevos pasos.]"
   ]
  },
  {
   "cell_type": "markdown",
   "metadata": {},
   "source": [
    "En este proyecto buscaremos identificar cuál de las tarifas de prepago de Megaline (Surf o Ultimate) genera más ingresos. Este análisis ayudará a ajustar el presupuesto de publicidad. Para lograrlo limpiaremos y analizaremos los datos de 500 clientes sobre su tarifa, llamadas y mensajes de texto en 2018, además, calcularemos y compararemos los ingresos generados por cada tarifa. Se utilizarán también gráficas para que pueda ser más entendible la información.\n"
   ]
  },
  {
   "cell_type": "markdown",
   "metadata": {
    "id": "MQi4IPy70q0y"
   },
   "source": [
    "## Inicialización"
   ]
  },
  {
   "cell_type": "code",
   "execution_count": 1,
   "metadata": {
    "id": "MtYIuBxu0q0z"
   },
   "outputs": [],
   "source": [
    "# Cargar todas las librerías\n",
    "\n",
    "import pandas as pd\n",
    "import numpy as np\n",
    "from scipy import stats as st\n",
    "import math\n",
    "import matplotlib.pyplot as plt"
   ]
  },
  {
   "cell_type": "markdown",
   "metadata": {
    "id": "4ysWWC5i0q00"
   },
   "source": [
    "## Cargar datos"
   ]
  },
  {
   "cell_type": "code",
   "execution_count": 2,
   "metadata": {
    "id": "CCqPW7rS0q01"
   },
   "outputs": [],
   "source": [
    "# Carga los archivos de datos en diferentes DataFrames\n",
    "calls_df = pd.read_csv('/datasets/megaline_calls.csv')\n",
    "internet_df = pd.read_csv('/datasets/megaline_internet.csv')\n",
    "msn_df = pd.read_csv('/datasets/megaline_messages.csv')\n",
    "plans_df = pd.read_csv('/datasets/megaline_plans.csv')\n",
    "users_df = pd.read_csv('/datasets/megaline_users.csv')\n"
   ]
  },
  {
   "cell_type": "markdown",
   "metadata": {},
   "source": [
    "<div class=\"alert alert-block alert-success\">\n",
    "<b>Éxito</b> <a class=\"tocSkip\"></a>\n",
    "Importaste correctamente todas las librerías necesarias y cargaste los archivos CSV en DataFrames, verificando las primeras filas para entender el contenido de cada DataFrame.\n",
    "</div>"
   ]
  },
  {
   "cell_type": "markdown",
   "metadata": {
    "id": "69qqoJ3r0q01"
   },
   "source": [
    "## Preparar los datos"
   ]
  },
  {
   "cell_type": "markdown",
   "metadata": {},
   "source": [
    "Procederemos a visualizar las primeras 5 filas de cada DF para analizar la información que contiene cada una.\n"
   ]
  },
  {
   "cell_type": "code",
   "execution_count": 3,
   "metadata": {},
   "outputs": [
    {
     "data": {
      "text/html": [
       "<div>\n",
       "<style scoped>\n",
       "    .dataframe tbody tr th:only-of-type {\n",
       "        vertical-align: middle;\n",
       "    }\n",
       "\n",
       "    .dataframe tbody tr th {\n",
       "        vertical-align: top;\n",
       "    }\n",
       "\n",
       "    .dataframe thead th {\n",
       "        text-align: right;\n",
       "    }\n",
       "</style>\n",
       "<table border=\"1\" class=\"dataframe\">\n",
       "  <thead>\n",
       "    <tr style=\"text-align: right;\">\n",
       "      <th></th>\n",
       "      <th>id</th>\n",
       "      <th>user_id</th>\n",
       "      <th>call_date</th>\n",
       "      <th>duration</th>\n",
       "    </tr>\n",
       "  </thead>\n",
       "  <tbody>\n",
       "    <tr>\n",
       "      <th>0</th>\n",
       "      <td>1000_93</td>\n",
       "      <td>1000</td>\n",
       "      <td>2018-12-27</td>\n",
       "      <td>8.52</td>\n",
       "    </tr>\n",
       "    <tr>\n",
       "      <th>1</th>\n",
       "      <td>1000_145</td>\n",
       "      <td>1000</td>\n",
       "      <td>2018-12-27</td>\n",
       "      <td>13.66</td>\n",
       "    </tr>\n",
       "    <tr>\n",
       "      <th>2</th>\n",
       "      <td>1000_247</td>\n",
       "      <td>1000</td>\n",
       "      <td>2018-12-27</td>\n",
       "      <td>14.48</td>\n",
       "    </tr>\n",
       "    <tr>\n",
       "      <th>3</th>\n",
       "      <td>1000_309</td>\n",
       "      <td>1000</td>\n",
       "      <td>2018-12-28</td>\n",
       "      <td>5.76</td>\n",
       "    </tr>\n",
       "    <tr>\n",
       "      <th>4</th>\n",
       "      <td>1000_380</td>\n",
       "      <td>1000</td>\n",
       "      <td>2018-12-30</td>\n",
       "      <td>4.22</td>\n",
       "    </tr>\n",
       "  </tbody>\n",
       "</table>\n",
       "</div>"
      ],
      "text/plain": [
       "         id  user_id   call_date  duration\n",
       "0   1000_93     1000  2018-12-27      8.52\n",
       "1  1000_145     1000  2018-12-27     13.66\n",
       "2  1000_247     1000  2018-12-27     14.48\n",
       "3  1000_309     1000  2018-12-28      5.76\n",
       "4  1000_380     1000  2018-12-30      4.22"
      ]
     },
     "execution_count": 3,
     "metadata": {},
     "output_type": "execute_result"
    }
   ],
   "source": [
    "calls_df.head()"
   ]
  },
  {
   "cell_type": "code",
   "execution_count": 4,
   "metadata": {},
   "outputs": [
    {
     "data": {
      "text/html": [
       "<div>\n",
       "<style scoped>\n",
       "    .dataframe tbody tr th:only-of-type {\n",
       "        vertical-align: middle;\n",
       "    }\n",
       "\n",
       "    .dataframe tbody tr th {\n",
       "        vertical-align: top;\n",
       "    }\n",
       "\n",
       "    .dataframe thead th {\n",
       "        text-align: right;\n",
       "    }\n",
       "</style>\n",
       "<table border=\"1\" class=\"dataframe\">\n",
       "  <thead>\n",
       "    <tr style=\"text-align: right;\">\n",
       "      <th></th>\n",
       "      <th>id</th>\n",
       "      <th>user_id</th>\n",
       "      <th>session_date</th>\n",
       "      <th>mb_used</th>\n",
       "    </tr>\n",
       "  </thead>\n",
       "  <tbody>\n",
       "    <tr>\n",
       "      <th>0</th>\n",
       "      <td>1000_13</td>\n",
       "      <td>1000</td>\n",
       "      <td>2018-12-29</td>\n",
       "      <td>89.86</td>\n",
       "    </tr>\n",
       "    <tr>\n",
       "      <th>1</th>\n",
       "      <td>1000_204</td>\n",
       "      <td>1000</td>\n",
       "      <td>2018-12-31</td>\n",
       "      <td>0.00</td>\n",
       "    </tr>\n",
       "    <tr>\n",
       "      <th>2</th>\n",
       "      <td>1000_379</td>\n",
       "      <td>1000</td>\n",
       "      <td>2018-12-28</td>\n",
       "      <td>660.40</td>\n",
       "    </tr>\n",
       "    <tr>\n",
       "      <th>3</th>\n",
       "      <td>1000_413</td>\n",
       "      <td>1000</td>\n",
       "      <td>2018-12-26</td>\n",
       "      <td>270.99</td>\n",
       "    </tr>\n",
       "    <tr>\n",
       "      <th>4</th>\n",
       "      <td>1000_442</td>\n",
       "      <td>1000</td>\n",
       "      <td>2018-12-27</td>\n",
       "      <td>880.22</td>\n",
       "    </tr>\n",
       "  </tbody>\n",
       "</table>\n",
       "</div>"
      ],
      "text/plain": [
       "         id  user_id session_date  mb_used\n",
       "0   1000_13     1000   2018-12-29    89.86\n",
       "1  1000_204     1000   2018-12-31     0.00\n",
       "2  1000_379     1000   2018-12-28   660.40\n",
       "3  1000_413     1000   2018-12-26   270.99\n",
       "4  1000_442     1000   2018-12-27   880.22"
      ]
     },
     "execution_count": 4,
     "metadata": {},
     "output_type": "execute_result"
    }
   ],
   "source": [
    "internet_df.head()"
   ]
  },
  {
   "cell_type": "code",
   "execution_count": 5,
   "metadata": {},
   "outputs": [
    {
     "data": {
      "text/html": [
       "<div>\n",
       "<style scoped>\n",
       "    .dataframe tbody tr th:only-of-type {\n",
       "        vertical-align: middle;\n",
       "    }\n",
       "\n",
       "    .dataframe tbody tr th {\n",
       "        vertical-align: top;\n",
       "    }\n",
       "\n",
       "    .dataframe thead th {\n",
       "        text-align: right;\n",
       "    }\n",
       "</style>\n",
       "<table border=\"1\" class=\"dataframe\">\n",
       "  <thead>\n",
       "    <tr style=\"text-align: right;\">\n",
       "      <th></th>\n",
       "      <th>id</th>\n",
       "      <th>user_id</th>\n",
       "      <th>message_date</th>\n",
       "    </tr>\n",
       "  </thead>\n",
       "  <tbody>\n",
       "    <tr>\n",
       "      <th>0</th>\n",
       "      <td>1000_125</td>\n",
       "      <td>1000</td>\n",
       "      <td>2018-12-27</td>\n",
       "    </tr>\n",
       "    <tr>\n",
       "      <th>1</th>\n",
       "      <td>1000_160</td>\n",
       "      <td>1000</td>\n",
       "      <td>2018-12-31</td>\n",
       "    </tr>\n",
       "    <tr>\n",
       "      <th>2</th>\n",
       "      <td>1000_223</td>\n",
       "      <td>1000</td>\n",
       "      <td>2018-12-31</td>\n",
       "    </tr>\n",
       "    <tr>\n",
       "      <th>3</th>\n",
       "      <td>1000_251</td>\n",
       "      <td>1000</td>\n",
       "      <td>2018-12-27</td>\n",
       "    </tr>\n",
       "    <tr>\n",
       "      <th>4</th>\n",
       "      <td>1000_255</td>\n",
       "      <td>1000</td>\n",
       "      <td>2018-12-26</td>\n",
       "    </tr>\n",
       "  </tbody>\n",
       "</table>\n",
       "</div>"
      ],
      "text/plain": [
       "         id  user_id message_date\n",
       "0  1000_125     1000   2018-12-27\n",
       "1  1000_160     1000   2018-12-31\n",
       "2  1000_223     1000   2018-12-31\n",
       "3  1000_251     1000   2018-12-27\n",
       "4  1000_255     1000   2018-12-26"
      ]
     },
     "execution_count": 5,
     "metadata": {},
     "output_type": "execute_result"
    }
   ],
   "source": [
    "msn_df.head()"
   ]
  },
  {
   "cell_type": "code",
   "execution_count": 6,
   "metadata": {},
   "outputs": [
    {
     "data": {
      "text/html": [
       "<div>\n",
       "<style scoped>\n",
       "    .dataframe tbody tr th:only-of-type {\n",
       "        vertical-align: middle;\n",
       "    }\n",
       "\n",
       "    .dataframe tbody tr th {\n",
       "        vertical-align: top;\n",
       "    }\n",
       "\n",
       "    .dataframe thead th {\n",
       "        text-align: right;\n",
       "    }\n",
       "</style>\n",
       "<table border=\"1\" class=\"dataframe\">\n",
       "  <thead>\n",
       "    <tr style=\"text-align: right;\">\n",
       "      <th></th>\n",
       "      <th>messages_included</th>\n",
       "      <th>mb_per_month_included</th>\n",
       "      <th>minutes_included</th>\n",
       "      <th>usd_monthly_pay</th>\n",
       "      <th>usd_per_gb</th>\n",
       "      <th>usd_per_message</th>\n",
       "      <th>usd_per_minute</th>\n",
       "      <th>plan_name</th>\n",
       "    </tr>\n",
       "  </thead>\n",
       "  <tbody>\n",
       "    <tr>\n",
       "      <th>0</th>\n",
       "      <td>50</td>\n",
       "      <td>15360</td>\n",
       "      <td>500</td>\n",
       "      <td>20</td>\n",
       "      <td>10</td>\n",
       "      <td>0.03</td>\n",
       "      <td>0.03</td>\n",
       "      <td>surf</td>\n",
       "    </tr>\n",
       "    <tr>\n",
       "      <th>1</th>\n",
       "      <td>1000</td>\n",
       "      <td>30720</td>\n",
       "      <td>3000</td>\n",
       "      <td>70</td>\n",
       "      <td>7</td>\n",
       "      <td>0.01</td>\n",
       "      <td>0.01</td>\n",
       "      <td>ultimate</td>\n",
       "    </tr>\n",
       "  </tbody>\n",
       "</table>\n",
       "</div>"
      ],
      "text/plain": [
       "   messages_included  mb_per_month_included  minutes_included  \\\n",
       "0                 50                  15360               500   \n",
       "1               1000                  30720              3000   \n",
       "\n",
       "   usd_monthly_pay  usd_per_gb  usd_per_message  usd_per_minute plan_name  \n",
       "0               20          10             0.03            0.03      surf  \n",
       "1               70           7             0.01            0.01  ultimate  "
      ]
     },
     "execution_count": 6,
     "metadata": {},
     "output_type": "execute_result"
    }
   ],
   "source": [
    "plans_df.head()"
   ]
  },
  {
   "cell_type": "code",
   "execution_count": 7,
   "metadata": {},
   "outputs": [
    {
     "data": {
      "text/html": [
       "<div>\n",
       "<style scoped>\n",
       "    .dataframe tbody tr th:only-of-type {\n",
       "        vertical-align: middle;\n",
       "    }\n",
       "\n",
       "    .dataframe tbody tr th {\n",
       "        vertical-align: top;\n",
       "    }\n",
       "\n",
       "    .dataframe thead th {\n",
       "        text-align: right;\n",
       "    }\n",
       "</style>\n",
       "<table border=\"1\" class=\"dataframe\">\n",
       "  <thead>\n",
       "    <tr style=\"text-align: right;\">\n",
       "      <th></th>\n",
       "      <th>user_id</th>\n",
       "      <th>first_name</th>\n",
       "      <th>last_name</th>\n",
       "      <th>age</th>\n",
       "      <th>city</th>\n",
       "      <th>reg_date</th>\n",
       "      <th>plan</th>\n",
       "      <th>churn_date</th>\n",
       "    </tr>\n",
       "  </thead>\n",
       "  <tbody>\n",
       "    <tr>\n",
       "      <th>0</th>\n",
       "      <td>1000</td>\n",
       "      <td>Anamaria</td>\n",
       "      <td>Bauer</td>\n",
       "      <td>45</td>\n",
       "      <td>Atlanta-Sandy Springs-Roswell, GA MSA</td>\n",
       "      <td>2018-12-24</td>\n",
       "      <td>ultimate</td>\n",
       "      <td>NaN</td>\n",
       "    </tr>\n",
       "    <tr>\n",
       "      <th>1</th>\n",
       "      <td>1001</td>\n",
       "      <td>Mickey</td>\n",
       "      <td>Wilkerson</td>\n",
       "      <td>28</td>\n",
       "      <td>Seattle-Tacoma-Bellevue, WA MSA</td>\n",
       "      <td>2018-08-13</td>\n",
       "      <td>surf</td>\n",
       "      <td>NaN</td>\n",
       "    </tr>\n",
       "    <tr>\n",
       "      <th>2</th>\n",
       "      <td>1002</td>\n",
       "      <td>Carlee</td>\n",
       "      <td>Hoffman</td>\n",
       "      <td>36</td>\n",
       "      <td>Las Vegas-Henderson-Paradise, NV MSA</td>\n",
       "      <td>2018-10-21</td>\n",
       "      <td>surf</td>\n",
       "      <td>NaN</td>\n",
       "    </tr>\n",
       "    <tr>\n",
       "      <th>3</th>\n",
       "      <td>1003</td>\n",
       "      <td>Reynaldo</td>\n",
       "      <td>Jenkins</td>\n",
       "      <td>52</td>\n",
       "      <td>Tulsa, OK MSA</td>\n",
       "      <td>2018-01-28</td>\n",
       "      <td>surf</td>\n",
       "      <td>NaN</td>\n",
       "    </tr>\n",
       "    <tr>\n",
       "      <th>4</th>\n",
       "      <td>1004</td>\n",
       "      <td>Leonila</td>\n",
       "      <td>Thompson</td>\n",
       "      <td>40</td>\n",
       "      <td>Seattle-Tacoma-Bellevue, WA MSA</td>\n",
       "      <td>2018-05-23</td>\n",
       "      <td>surf</td>\n",
       "      <td>NaN</td>\n",
       "    </tr>\n",
       "  </tbody>\n",
       "</table>\n",
       "</div>"
      ],
      "text/plain": [
       "   user_id first_name  last_name  age                                   city  \\\n",
       "0     1000   Anamaria      Bauer   45  Atlanta-Sandy Springs-Roswell, GA MSA   \n",
       "1     1001     Mickey  Wilkerson   28        Seattle-Tacoma-Bellevue, WA MSA   \n",
       "2     1002     Carlee    Hoffman   36   Las Vegas-Henderson-Paradise, NV MSA   \n",
       "3     1003   Reynaldo    Jenkins   52                          Tulsa, OK MSA   \n",
       "4     1004    Leonila   Thompson   40        Seattle-Tacoma-Bellevue, WA MSA   \n",
       "\n",
       "     reg_date      plan churn_date  \n",
       "0  2018-12-24  ultimate        NaN  \n",
       "1  2018-08-13      surf        NaN  \n",
       "2  2018-10-21      surf        NaN  \n",
       "3  2018-01-28      surf        NaN  \n",
       "4  2018-05-23      surf        NaN  "
      ]
     },
     "execution_count": 7,
     "metadata": {},
     "output_type": "execute_result"
    }
   ],
   "source": [
    "users_df.head()"
   ]
  },
  {
   "cell_type": "markdown",
   "metadata": {},
   "source": [
    "El user Id se repite en varios Df.\n",
    "\n",
    "Sólo en el ultimo Df parece que tiene datos nulos, esto podría deberse a que en esa columna se coloca la fecha en que los usuarios se dieron de baja, por lo que si aparecen datos nulos significa que aún dados de alta. \n",
    "\n"
   ]
  },
  {
   "cell_type": "markdown",
   "metadata": {
    "id": "ohBhimvH0q01"
   },
   "source": [
    "## Tarifas"
   ]
  },
  {
   "cell_type": "code",
   "execution_count": 8,
   "metadata": {
    "id": "GptqP3Q40q02"
   },
   "outputs": [
    {
     "name": "stdout",
     "output_type": "stream",
     "text": [
      "<class 'pandas.core.frame.DataFrame'>\n",
      "RangeIndex: 2 entries, 0 to 1\n",
      "Data columns (total 8 columns):\n",
      " #   Column                 Non-Null Count  Dtype  \n",
      "---  ------                 --------------  -----  \n",
      " 0   messages_included      2 non-null      int64  \n",
      " 1   mb_per_month_included  2 non-null      int64  \n",
      " 2   minutes_included       2 non-null      int64  \n",
      " 3   usd_monthly_pay        2 non-null      int64  \n",
      " 4   usd_per_gb             2 non-null      int64  \n",
      " 5   usd_per_message        2 non-null      float64\n",
      " 6   usd_per_minute         2 non-null      float64\n",
      " 7   plan_name              2 non-null      object \n",
      "dtypes: float64(2), int64(5), object(1)\n",
      "memory usage: 256.0+ bytes\n"
     ]
    }
   ],
   "source": [
    "# Imprime la información general/resumida sobre el DataFrame de las tarifas\n",
    "plans_df.info()"
   ]
  },
  {
   "cell_type": "code",
   "execution_count": 9,
   "metadata": {
    "id": "64xzjwL70q02"
   },
   "outputs": [
    {
     "data": {
      "text/html": [
       "<div>\n",
       "<style scoped>\n",
       "    .dataframe tbody tr th:only-of-type {\n",
       "        vertical-align: middle;\n",
       "    }\n",
       "\n",
       "    .dataframe tbody tr th {\n",
       "        vertical-align: top;\n",
       "    }\n",
       "\n",
       "    .dataframe thead th {\n",
       "        text-align: right;\n",
       "    }\n",
       "</style>\n",
       "<table border=\"1\" class=\"dataframe\">\n",
       "  <thead>\n",
       "    <tr style=\"text-align: right;\">\n",
       "      <th></th>\n",
       "      <th>messages_included</th>\n",
       "      <th>mb_per_month_included</th>\n",
       "      <th>minutes_included</th>\n",
       "      <th>usd_monthly_pay</th>\n",
       "      <th>usd_per_gb</th>\n",
       "      <th>usd_per_message</th>\n",
       "      <th>usd_per_minute</th>\n",
       "      <th>plan_name</th>\n",
       "    </tr>\n",
       "  </thead>\n",
       "  <tbody>\n",
       "    <tr>\n",
       "      <th>0</th>\n",
       "      <td>50</td>\n",
       "      <td>15360</td>\n",
       "      <td>500</td>\n",
       "      <td>20</td>\n",
       "      <td>10</td>\n",
       "      <td>0.03</td>\n",
       "      <td>0.03</td>\n",
       "      <td>surf</td>\n",
       "    </tr>\n",
       "    <tr>\n",
       "      <th>1</th>\n",
       "      <td>1000</td>\n",
       "      <td>30720</td>\n",
       "      <td>3000</td>\n",
       "      <td>70</td>\n",
       "      <td>7</td>\n",
       "      <td>0.01</td>\n",
       "      <td>0.01</td>\n",
       "      <td>ultimate</td>\n",
       "    </tr>\n",
       "  </tbody>\n",
       "</table>\n",
       "</div>"
      ],
      "text/plain": [
       "   messages_included  mb_per_month_included  minutes_included  \\\n",
       "0                 50                  15360               500   \n",
       "1               1000                  30720              3000   \n",
       "\n",
       "   usd_monthly_pay  usd_per_gb  usd_per_message  usd_per_minute plan_name  \n",
       "0               20          10             0.03            0.03      surf  \n",
       "1               70           7             0.01            0.01  ultimate  "
      ]
     },
     "execution_count": 9,
     "metadata": {},
     "output_type": "execute_result"
    }
   ],
   "source": [
    "# Imprime una muestra de los datos para las tarifas\n",
    "plans_df.head()"
   ]
  },
  {
   "cell_type": "code",
   "execution_count": 10,
   "metadata": {},
   "outputs": [
    {
     "data": {
      "text/plain": [
       "0"
      ]
     },
     "execution_count": 10,
     "metadata": {},
     "output_type": "execute_result"
    }
   ],
   "source": [
    "plans_df.duplicated().sum()"
   ]
  },
  {
   "cell_type": "markdown",
   "metadata": {},
   "source": [
    "La información que se percibe es fácil de leer ya que solo muestra los dos planes y lo que ofrece cada uno. No existen datos duplicados. El único problema que podría haber es que los datos que incluye el plan estan en mb, mientras que el pago se encuentra en gb. Más adelante tendremos que redondearlos y transformarlos a Gb."
   ]
  },
  {
   "cell_type": "markdown",
   "metadata": {
    "id": "R3C05i1l0q03"
   },
   "source": [
    "## Corregir datos"
   ]
  },
  {
   "cell_type": "markdown",
   "metadata": {
    "id": "Y7SVmjGn0q03"
   },
   "source": [
    "No se encontró información nula en esta tabla o que pudiera afectar después nuestro manejo de datos. "
   ]
  },
  {
   "cell_type": "markdown",
   "metadata": {
    "id": "LJir7bml0q03"
   },
   "source": [
    "## Enriquecer los datos"
   ]
  },
  {
   "cell_type": "markdown",
   "metadata": {
    "id": "eqADpCfg0q04"
   },
   "source": [
    "Más adelante se procederá a redondear los Mb para posteriormente convertirlos a Gb y se pueda calcular un costo aproximado para los usuarios que excedieron ese servicio de su respectivo plan. "
   ]
  },
  {
   "cell_type": "markdown",
   "metadata": {
    "id": "1n2X6WXf0q04"
   },
   "source": [
    "## Usuarios/as"
   ]
  },
  {
   "cell_type": "code",
   "execution_count": 11,
   "metadata": {
    "id": "2NgjWFqx0q05"
   },
   "outputs": [
    {
     "name": "stdout",
     "output_type": "stream",
     "text": [
      "<class 'pandas.core.frame.DataFrame'>\n",
      "RangeIndex: 500 entries, 0 to 499\n",
      "Data columns (total 8 columns):\n",
      " #   Column      Non-Null Count  Dtype \n",
      "---  ------      --------------  ----- \n",
      " 0   user_id     500 non-null    int64 \n",
      " 1   first_name  500 non-null    object\n",
      " 2   last_name   500 non-null    object\n",
      " 3   age         500 non-null    int64 \n",
      " 4   city        500 non-null    object\n",
      " 5   reg_date    500 non-null    object\n",
      " 6   plan        500 non-null    object\n",
      " 7   churn_date  34 non-null     object\n",
      "dtypes: int64(2), object(6)\n",
      "memory usage: 31.4+ KB\n"
     ]
    }
   ],
   "source": [
    "# Imprime la información general/resumida sobre el DataFrame de usuarios\n",
    "users_df.info()"
   ]
  },
  {
   "cell_type": "code",
   "execution_count": 12,
   "metadata": {
    "id": "1IN1L9uh0q05"
   },
   "outputs": [
    {
     "data": {
      "text/html": [
       "<div>\n",
       "<style scoped>\n",
       "    .dataframe tbody tr th:only-of-type {\n",
       "        vertical-align: middle;\n",
       "    }\n",
       "\n",
       "    .dataframe tbody tr th {\n",
       "        vertical-align: top;\n",
       "    }\n",
       "\n",
       "    .dataframe thead th {\n",
       "        text-align: right;\n",
       "    }\n",
       "</style>\n",
       "<table border=\"1\" class=\"dataframe\">\n",
       "  <thead>\n",
       "    <tr style=\"text-align: right;\">\n",
       "      <th></th>\n",
       "      <th>user_id</th>\n",
       "      <th>first_name</th>\n",
       "      <th>last_name</th>\n",
       "      <th>age</th>\n",
       "      <th>city</th>\n",
       "      <th>reg_date</th>\n",
       "      <th>plan</th>\n",
       "      <th>churn_date</th>\n",
       "    </tr>\n",
       "  </thead>\n",
       "  <tbody>\n",
       "    <tr>\n",
       "      <th>0</th>\n",
       "      <td>1000</td>\n",
       "      <td>Anamaria</td>\n",
       "      <td>Bauer</td>\n",
       "      <td>45</td>\n",
       "      <td>Atlanta-Sandy Springs-Roswell, GA MSA</td>\n",
       "      <td>2018-12-24</td>\n",
       "      <td>ultimate</td>\n",
       "      <td>NaN</td>\n",
       "    </tr>\n",
       "    <tr>\n",
       "      <th>1</th>\n",
       "      <td>1001</td>\n",
       "      <td>Mickey</td>\n",
       "      <td>Wilkerson</td>\n",
       "      <td>28</td>\n",
       "      <td>Seattle-Tacoma-Bellevue, WA MSA</td>\n",
       "      <td>2018-08-13</td>\n",
       "      <td>surf</td>\n",
       "      <td>NaN</td>\n",
       "    </tr>\n",
       "    <tr>\n",
       "      <th>2</th>\n",
       "      <td>1002</td>\n",
       "      <td>Carlee</td>\n",
       "      <td>Hoffman</td>\n",
       "      <td>36</td>\n",
       "      <td>Las Vegas-Henderson-Paradise, NV MSA</td>\n",
       "      <td>2018-10-21</td>\n",
       "      <td>surf</td>\n",
       "      <td>NaN</td>\n",
       "    </tr>\n",
       "    <tr>\n",
       "      <th>3</th>\n",
       "      <td>1003</td>\n",
       "      <td>Reynaldo</td>\n",
       "      <td>Jenkins</td>\n",
       "      <td>52</td>\n",
       "      <td>Tulsa, OK MSA</td>\n",
       "      <td>2018-01-28</td>\n",
       "      <td>surf</td>\n",
       "      <td>NaN</td>\n",
       "    </tr>\n",
       "    <tr>\n",
       "      <th>4</th>\n",
       "      <td>1004</td>\n",
       "      <td>Leonila</td>\n",
       "      <td>Thompson</td>\n",
       "      <td>40</td>\n",
       "      <td>Seattle-Tacoma-Bellevue, WA MSA</td>\n",
       "      <td>2018-05-23</td>\n",
       "      <td>surf</td>\n",
       "      <td>NaN</td>\n",
       "    </tr>\n",
       "  </tbody>\n",
       "</table>\n",
       "</div>"
      ],
      "text/plain": [
       "   user_id first_name  last_name  age                                   city  \\\n",
       "0     1000   Anamaria      Bauer   45  Atlanta-Sandy Springs-Roswell, GA MSA   \n",
       "1     1001     Mickey  Wilkerson   28        Seattle-Tacoma-Bellevue, WA MSA   \n",
       "2     1002     Carlee    Hoffman   36   Las Vegas-Henderson-Paradise, NV MSA   \n",
       "3     1003   Reynaldo    Jenkins   52                          Tulsa, OK MSA   \n",
       "4     1004    Leonila   Thompson   40        Seattle-Tacoma-Bellevue, WA MSA   \n",
       "\n",
       "     reg_date      plan churn_date  \n",
       "0  2018-12-24  ultimate        NaN  \n",
       "1  2018-08-13      surf        NaN  \n",
       "2  2018-10-21      surf        NaN  \n",
       "3  2018-01-28      surf        NaN  \n",
       "4  2018-05-23      surf        NaN  "
      ]
     },
     "execution_count": 12,
     "metadata": {},
     "output_type": "execute_result"
    }
   ],
   "source": [
    "# Imprime una muestra de datos para usuarios\n",
    "users_df.head()"
   ]
  },
  {
   "cell_type": "code",
   "execution_count": 13,
   "metadata": {},
   "outputs": [
    {
     "data": {
      "text/plain": [
       "0"
      ]
     },
     "execution_count": 13,
     "metadata": {},
     "output_type": "execute_result"
    }
   ],
   "source": [
    "users_df.duplicated().sum()"
   ]
  },
  {
   "cell_type": "markdown",
   "metadata": {},
   "source": [
    "Tanto la fecha de registro como la fecha en que se dio de baja el usuario aparecen en un formato incorrecto. Se procederá a ponerlos en el adecuado. Los datos que aparecen ausentes son por que los usuarios estan activos, sino aparecería lo contrario\n",
    "\n",
    "Adicionalmente, se procederá a cambiar el nombre del plan a plan_id para un mejor manejo de datos."
   ]
  },
  {
   "cell_type": "markdown",
   "metadata": {
    "id": "BX5FQh_I0q06"
   },
   "source": [
    "### Corregir los datos"
   ]
  },
  {
   "cell_type": "code",
   "execution_count": 14,
   "metadata": {
    "id": "yUqX-K0C0q07"
   },
   "outputs": [
    {
     "name": "stdout",
     "output_type": "stream",
     "text": [
      "<class 'pandas.core.frame.DataFrame'>\n",
      "RangeIndex: 500 entries, 0 to 499\n",
      "Data columns (total 8 columns):\n",
      " #   Column      Non-Null Count  Dtype         \n",
      "---  ------      --------------  -----         \n",
      " 0   user_id     500 non-null    int64         \n",
      " 1   first_name  500 non-null    object        \n",
      " 2   last_name   500 non-null    object        \n",
      " 3   age         500 non-null    int64         \n",
      " 4   city        500 non-null    object        \n",
      " 5   reg_date    500 non-null    datetime64[ns]\n",
      " 6   plan        500 non-null    object        \n",
      " 7   churn_date  34 non-null     datetime64[ns]\n",
      "dtypes: datetime64[ns](2), int64(2), object(4)\n",
      "memory usage: 31.4+ KB\n"
     ]
    }
   ],
   "source": [
    "users_df['reg_date']=pd.to_datetime(users_df['reg_date'],format='%Y-%m-%d')\n",
    "users_df['churn_date']=pd.to_datetime(users_df['churn_date'],format='%Y-%m-%d')\n",
    "users_df.info()"
   ]
  },
  {
   "cell_type": "markdown",
   "metadata": {
    "id": "ycwuARJp0q07"
   },
   "source": [
    "### Enriquecer los datos"
   ]
  },
  {
   "cell_type": "markdown",
   "metadata": {},
   "source": [
    "Además de cambiar 'plan' a 'plan_id', vamos a crear una columna de mes, por que esto nos ayudará después en la unión de nuestros Df."
   ]
  },
  {
   "cell_type": "code",
   "execution_count": 15,
   "metadata": {
    "id": "iq0AaBS90q08"
   },
   "outputs": [
    {
     "data": {
      "text/html": [
       "<div>\n",
       "<style scoped>\n",
       "    .dataframe tbody tr th:only-of-type {\n",
       "        vertical-align: middle;\n",
       "    }\n",
       "\n",
       "    .dataframe tbody tr th {\n",
       "        vertical-align: top;\n",
       "    }\n",
       "\n",
       "    .dataframe thead th {\n",
       "        text-align: right;\n",
       "    }\n",
       "</style>\n",
       "<table border=\"1\" class=\"dataframe\">\n",
       "  <thead>\n",
       "    <tr style=\"text-align: right;\">\n",
       "      <th></th>\n",
       "      <th>user_id</th>\n",
       "      <th>first_name</th>\n",
       "      <th>last_name</th>\n",
       "      <th>age</th>\n",
       "      <th>city</th>\n",
       "      <th>reg_date</th>\n",
       "      <th>plan_id</th>\n",
       "      <th>churn_date</th>\n",
       "    </tr>\n",
       "  </thead>\n",
       "  <tbody>\n",
       "    <tr>\n",
       "      <th>0</th>\n",
       "      <td>1000</td>\n",
       "      <td>Anamaria</td>\n",
       "      <td>Bauer</td>\n",
       "      <td>45</td>\n",
       "      <td>Atlanta-Sandy Springs-Roswell, GA MSA</td>\n",
       "      <td>2018-12-24</td>\n",
       "      <td>ultimate</td>\n",
       "      <td>NaT</td>\n",
       "    </tr>\n",
       "    <tr>\n",
       "      <th>1</th>\n",
       "      <td>1001</td>\n",
       "      <td>Mickey</td>\n",
       "      <td>Wilkerson</td>\n",
       "      <td>28</td>\n",
       "      <td>Seattle-Tacoma-Bellevue, WA MSA</td>\n",
       "      <td>2018-08-13</td>\n",
       "      <td>surf</td>\n",
       "      <td>NaT</td>\n",
       "    </tr>\n",
       "    <tr>\n",
       "      <th>2</th>\n",
       "      <td>1002</td>\n",
       "      <td>Carlee</td>\n",
       "      <td>Hoffman</td>\n",
       "      <td>36</td>\n",
       "      <td>Las Vegas-Henderson-Paradise, NV MSA</td>\n",
       "      <td>2018-10-21</td>\n",
       "      <td>surf</td>\n",
       "      <td>NaT</td>\n",
       "    </tr>\n",
       "    <tr>\n",
       "      <th>3</th>\n",
       "      <td>1003</td>\n",
       "      <td>Reynaldo</td>\n",
       "      <td>Jenkins</td>\n",
       "      <td>52</td>\n",
       "      <td>Tulsa, OK MSA</td>\n",
       "      <td>2018-01-28</td>\n",
       "      <td>surf</td>\n",
       "      <td>NaT</td>\n",
       "    </tr>\n",
       "    <tr>\n",
       "      <th>4</th>\n",
       "      <td>1004</td>\n",
       "      <td>Leonila</td>\n",
       "      <td>Thompson</td>\n",
       "      <td>40</td>\n",
       "      <td>Seattle-Tacoma-Bellevue, WA MSA</td>\n",
       "      <td>2018-05-23</td>\n",
       "      <td>surf</td>\n",
       "      <td>NaT</td>\n",
       "    </tr>\n",
       "  </tbody>\n",
       "</table>\n",
       "</div>"
      ],
      "text/plain": [
       "   user_id first_name  last_name  age                                   city  \\\n",
       "0     1000   Anamaria      Bauer   45  Atlanta-Sandy Springs-Roswell, GA MSA   \n",
       "1     1001     Mickey  Wilkerson   28        Seattle-Tacoma-Bellevue, WA MSA   \n",
       "2     1002     Carlee    Hoffman   36   Las Vegas-Henderson-Paradise, NV MSA   \n",
       "3     1003   Reynaldo    Jenkins   52                          Tulsa, OK MSA   \n",
       "4     1004    Leonila   Thompson   40        Seattle-Tacoma-Bellevue, WA MSA   \n",
       "\n",
       "    reg_date   plan_id churn_date  \n",
       "0 2018-12-24  ultimate        NaT  \n",
       "1 2018-08-13      surf        NaT  \n",
       "2 2018-10-21      surf        NaT  \n",
       "3 2018-01-28      surf        NaT  \n",
       "4 2018-05-23      surf        NaT  "
      ]
     },
     "execution_count": 15,
     "metadata": {},
     "output_type": "execute_result"
    }
   ],
   "source": [
    "users_df.rename(columns={'plan': 'plan_id'}, inplace=True)\n",
    "users_df.head()"
   ]
  },
  {
   "cell_type": "code",
   "execution_count": 16,
   "metadata": {},
   "outputs": [
    {
     "data": {
      "text/html": [
       "<div>\n",
       "<style scoped>\n",
       "    .dataframe tbody tr th:only-of-type {\n",
       "        vertical-align: middle;\n",
       "    }\n",
       "\n",
       "    .dataframe tbody tr th {\n",
       "        vertical-align: top;\n",
       "    }\n",
       "\n",
       "    .dataframe thead th {\n",
       "        text-align: right;\n",
       "    }\n",
       "</style>\n",
       "<table border=\"1\" class=\"dataframe\">\n",
       "  <thead>\n",
       "    <tr style=\"text-align: right;\">\n",
       "      <th></th>\n",
       "      <th>user_id</th>\n",
       "      <th>first_name</th>\n",
       "      <th>last_name</th>\n",
       "      <th>age</th>\n",
       "      <th>city</th>\n",
       "      <th>reg_date</th>\n",
       "      <th>plan_id</th>\n",
       "      <th>churn_date</th>\n",
       "      <th>reg_mes</th>\n",
       "      <th>churn_mes</th>\n",
       "    </tr>\n",
       "  </thead>\n",
       "  <tbody>\n",
       "    <tr>\n",
       "      <th>0</th>\n",
       "      <td>1000</td>\n",
       "      <td>Anamaria</td>\n",
       "      <td>Bauer</td>\n",
       "      <td>45</td>\n",
       "      <td>Atlanta-Sandy Springs-Roswell, GA MSA</td>\n",
       "      <td>2018-12-24</td>\n",
       "      <td>ultimate</td>\n",
       "      <td>NaT</td>\n",
       "      <td>12</td>\n",
       "      <td>NaN</td>\n",
       "    </tr>\n",
       "    <tr>\n",
       "      <th>1</th>\n",
       "      <td>1001</td>\n",
       "      <td>Mickey</td>\n",
       "      <td>Wilkerson</td>\n",
       "      <td>28</td>\n",
       "      <td>Seattle-Tacoma-Bellevue, WA MSA</td>\n",
       "      <td>2018-08-13</td>\n",
       "      <td>surf</td>\n",
       "      <td>NaT</td>\n",
       "      <td>8</td>\n",
       "      <td>NaN</td>\n",
       "    </tr>\n",
       "    <tr>\n",
       "      <th>2</th>\n",
       "      <td>1002</td>\n",
       "      <td>Carlee</td>\n",
       "      <td>Hoffman</td>\n",
       "      <td>36</td>\n",
       "      <td>Las Vegas-Henderson-Paradise, NV MSA</td>\n",
       "      <td>2018-10-21</td>\n",
       "      <td>surf</td>\n",
       "      <td>NaT</td>\n",
       "      <td>10</td>\n",
       "      <td>NaN</td>\n",
       "    </tr>\n",
       "    <tr>\n",
       "      <th>3</th>\n",
       "      <td>1003</td>\n",
       "      <td>Reynaldo</td>\n",
       "      <td>Jenkins</td>\n",
       "      <td>52</td>\n",
       "      <td>Tulsa, OK MSA</td>\n",
       "      <td>2018-01-28</td>\n",
       "      <td>surf</td>\n",
       "      <td>NaT</td>\n",
       "      <td>1</td>\n",
       "      <td>NaN</td>\n",
       "    </tr>\n",
       "    <tr>\n",
       "      <th>4</th>\n",
       "      <td>1004</td>\n",
       "      <td>Leonila</td>\n",
       "      <td>Thompson</td>\n",
       "      <td>40</td>\n",
       "      <td>Seattle-Tacoma-Bellevue, WA MSA</td>\n",
       "      <td>2018-05-23</td>\n",
       "      <td>surf</td>\n",
       "      <td>NaT</td>\n",
       "      <td>5</td>\n",
       "      <td>NaN</td>\n",
       "    </tr>\n",
       "  </tbody>\n",
       "</table>\n",
       "</div>"
      ],
      "text/plain": [
       "   user_id first_name  last_name  age                                   city  \\\n",
       "0     1000   Anamaria      Bauer   45  Atlanta-Sandy Springs-Roswell, GA MSA   \n",
       "1     1001     Mickey  Wilkerson   28        Seattle-Tacoma-Bellevue, WA MSA   \n",
       "2     1002     Carlee    Hoffman   36   Las Vegas-Henderson-Paradise, NV MSA   \n",
       "3     1003   Reynaldo    Jenkins   52                          Tulsa, OK MSA   \n",
       "4     1004    Leonila   Thompson   40        Seattle-Tacoma-Bellevue, WA MSA   \n",
       "\n",
       "    reg_date   plan_id churn_date  reg_mes  churn_mes  \n",
       "0 2018-12-24  ultimate        NaT       12        NaN  \n",
       "1 2018-08-13      surf        NaT        8        NaN  \n",
       "2 2018-10-21      surf        NaT       10        NaN  \n",
       "3 2018-01-28      surf        NaT        1        NaN  \n",
       "4 2018-05-23      surf        NaT        5        NaN  "
      ]
     },
     "execution_count": 16,
     "metadata": {},
     "output_type": "execute_result"
    }
   ],
   "source": [
    "users_df['reg_mes']=pd.DatetimeIndex(users_df['reg_date']).month\n",
    "users_df['churn_mes']=pd.DatetimeIndex(users_df['churn_date']).month\n",
    "users_df.head()"
   ]
  },
  {
   "cell_type": "markdown",
   "metadata": {
    "id": "o7MeKCid0q08"
   },
   "source": [
    "## Llamadas"
   ]
  },
  {
   "cell_type": "code",
   "execution_count": 17,
   "metadata": {
    "id": "kuh1vlNB0q09"
   },
   "outputs": [
    {
     "name": "stdout",
     "output_type": "stream",
     "text": [
      "<class 'pandas.core.frame.DataFrame'>\n",
      "RangeIndex: 137735 entries, 0 to 137734\n",
      "Data columns (total 4 columns):\n",
      " #   Column     Non-Null Count   Dtype  \n",
      "---  ------     --------------   -----  \n",
      " 0   id         137735 non-null  object \n",
      " 1   user_id    137735 non-null  int64  \n",
      " 2   call_date  137735 non-null  object \n",
      " 3   duration   137735 non-null  float64\n",
      "dtypes: float64(1), int64(1), object(2)\n",
      "memory usage: 4.2+ MB\n"
     ]
    }
   ],
   "source": [
    "# Imprime una muestra de datos para las llamadas\n",
    "calls_df.info()\n"
   ]
  },
  {
   "cell_type": "code",
   "execution_count": 18,
   "metadata": {
    "id": "6dDlnoDm0q08"
   },
   "outputs": [
    {
     "data": {
      "text/html": [
       "<div>\n",
       "<style scoped>\n",
       "    .dataframe tbody tr th:only-of-type {\n",
       "        vertical-align: middle;\n",
       "    }\n",
       "\n",
       "    .dataframe tbody tr th {\n",
       "        vertical-align: top;\n",
       "    }\n",
       "\n",
       "    .dataframe thead th {\n",
       "        text-align: right;\n",
       "    }\n",
       "</style>\n",
       "<table border=\"1\" class=\"dataframe\">\n",
       "  <thead>\n",
       "    <tr style=\"text-align: right;\">\n",
       "      <th></th>\n",
       "      <th>id</th>\n",
       "      <th>user_id</th>\n",
       "      <th>call_date</th>\n",
       "      <th>duration</th>\n",
       "    </tr>\n",
       "  </thead>\n",
       "  <tbody>\n",
       "    <tr>\n",
       "      <th>0</th>\n",
       "      <td>1000_93</td>\n",
       "      <td>1000</td>\n",
       "      <td>2018-12-27</td>\n",
       "      <td>8.52</td>\n",
       "    </tr>\n",
       "    <tr>\n",
       "      <th>1</th>\n",
       "      <td>1000_145</td>\n",
       "      <td>1000</td>\n",
       "      <td>2018-12-27</td>\n",
       "      <td>13.66</td>\n",
       "    </tr>\n",
       "    <tr>\n",
       "      <th>2</th>\n",
       "      <td>1000_247</td>\n",
       "      <td>1000</td>\n",
       "      <td>2018-12-27</td>\n",
       "      <td>14.48</td>\n",
       "    </tr>\n",
       "    <tr>\n",
       "      <th>3</th>\n",
       "      <td>1000_309</td>\n",
       "      <td>1000</td>\n",
       "      <td>2018-12-28</td>\n",
       "      <td>5.76</td>\n",
       "    </tr>\n",
       "    <tr>\n",
       "      <th>4</th>\n",
       "      <td>1000_380</td>\n",
       "      <td>1000</td>\n",
       "      <td>2018-12-30</td>\n",
       "      <td>4.22</td>\n",
       "    </tr>\n",
       "  </tbody>\n",
       "</table>\n",
       "</div>"
      ],
      "text/plain": [
       "         id  user_id   call_date  duration\n",
       "0   1000_93     1000  2018-12-27      8.52\n",
       "1  1000_145     1000  2018-12-27     13.66\n",
       "2  1000_247     1000  2018-12-27     14.48\n",
       "3  1000_309     1000  2018-12-28      5.76\n",
       "4  1000_380     1000  2018-12-30      4.22"
      ]
     },
     "execution_count": 18,
     "metadata": {},
     "output_type": "execute_result"
    }
   ],
   "source": [
    "# Imprime la información general/resumida sobre el DataFrame de las llamadas\n",
    "calls_df.head()"
   ]
  },
  {
   "cell_type": "code",
   "execution_count": 19,
   "metadata": {},
   "outputs": [
    {
     "data": {
      "text/plain": [
       "id           0\n",
       "user_id      0\n",
       "call_date    0\n",
       "duration     0\n",
       "dtype: int64"
      ]
     },
     "execution_count": 19,
     "metadata": {},
     "output_type": "execute_result"
    }
   ],
   "source": [
    "calls_df.isna().sum()"
   ]
  },
  {
   "cell_type": "code",
   "execution_count": 20,
   "metadata": {},
   "outputs": [
    {
     "data": {
      "text/plain": [
       "0"
      ]
     },
     "execution_count": 20,
     "metadata": {},
     "output_type": "execute_result"
    }
   ],
   "source": [
    "calls_df.duplicated().sum()"
   ]
  },
  {
   "cell_type": "code",
   "execution_count": 21,
   "metadata": {},
   "outputs": [
    {
     "data": {
      "text/plain": [
       "0"
      ]
     },
     "execution_count": 21,
     "metadata": {},
     "output_type": "execute_result"
    }
   ],
   "source": [
    "calls_df.duplicated(subset=['id','user_id']).sum()"
   ]
  },
  {
   "cell_type": "code",
   "execution_count": 22,
   "metadata": {},
   "outputs": [
    {
     "data": {
      "text/html": [
       "<div>\n",
       "<style scoped>\n",
       "    .dataframe tbody tr th:only-of-type {\n",
       "        vertical-align: middle;\n",
       "    }\n",
       "\n",
       "    .dataframe tbody tr th {\n",
       "        vertical-align: top;\n",
       "    }\n",
       "\n",
       "    .dataframe thead th {\n",
       "        text-align: right;\n",
       "    }\n",
       "</style>\n",
       "<table border=\"1\" class=\"dataframe\">\n",
       "  <thead>\n",
       "    <tr style=\"text-align: right;\">\n",
       "      <th></th>\n",
       "      <th>user_id</th>\n",
       "      <th>duration</th>\n",
       "    </tr>\n",
       "  </thead>\n",
       "  <tbody>\n",
       "    <tr>\n",
       "      <th>count</th>\n",
       "      <td>137735.000000</td>\n",
       "      <td>137735.000000</td>\n",
       "    </tr>\n",
       "    <tr>\n",
       "      <th>mean</th>\n",
       "      <td>1247.658046</td>\n",
       "      <td>6.745927</td>\n",
       "    </tr>\n",
       "    <tr>\n",
       "      <th>std</th>\n",
       "      <td>139.416268</td>\n",
       "      <td>5.839241</td>\n",
       "    </tr>\n",
       "    <tr>\n",
       "      <th>min</th>\n",
       "      <td>1000.000000</td>\n",
       "      <td>0.000000</td>\n",
       "    </tr>\n",
       "    <tr>\n",
       "      <th>25%</th>\n",
       "      <td>1128.000000</td>\n",
       "      <td>1.290000</td>\n",
       "    </tr>\n",
       "    <tr>\n",
       "      <th>50%</th>\n",
       "      <td>1247.000000</td>\n",
       "      <td>5.980000</td>\n",
       "    </tr>\n",
       "    <tr>\n",
       "      <th>75%</th>\n",
       "      <td>1365.000000</td>\n",
       "      <td>10.690000</td>\n",
       "    </tr>\n",
       "    <tr>\n",
       "      <th>max</th>\n",
       "      <td>1499.000000</td>\n",
       "      <td>37.600000</td>\n",
       "    </tr>\n",
       "  </tbody>\n",
       "</table>\n",
       "</div>"
      ],
      "text/plain": [
       "             user_id       duration\n",
       "count  137735.000000  137735.000000\n",
       "mean     1247.658046       6.745927\n",
       "std       139.416268       5.839241\n",
       "min      1000.000000       0.000000\n",
       "25%      1128.000000       1.290000\n",
       "50%      1247.000000       5.980000\n",
       "75%      1365.000000      10.690000\n",
       "max      1499.000000      37.600000"
      ]
     },
     "execution_count": 22,
     "metadata": {},
     "output_type": "execute_result"
    }
   ],
   "source": [
    "calls_df.describe()"
   ]
  },
  {
   "cell_type": "markdown",
   "metadata": {
    "id": "DOAxYJSx0q09"
   },
   "source": [
    "[Describe lo que ves y observas en la información general y en la muestra de datos impresa para el precio de datos anterior. ¿Hay algún problema (tipos de datos no adecuados, datos ausentes, etc.) que pudieran necesitar investigación y cambios adicionales? ¿Cómo se puede arreglar?]"
   ]
  },
  {
   "cell_type": "markdown",
   "metadata": {},
   "source": [
    "Con la informacion proporcionada en info() nos dimos cuenta que el formato de fecha no es el adecuado, procederemos a corregirlo, además nos percatamos de que en los primero 3 cuartiles se encuentra la mayor parte de los usuarios.\n",
    "Además, procederemos a cambiar 'id' por 'call_id' para el mejor manejo de los datos y que no sea confuso en un futuro al realizar el análisis. También se procederá a crear la columna mes y a redondear los minutos usados en las llamadas, para que de esta forma sea más fácil calcular los excedentes."
   ]
  },
  {
   "cell_type": "markdown",
   "metadata": {
    "id": "S7hzxmbX0q0-"
   },
   "source": [
    "### Corregir los datos"
   ]
  },
  {
   "cell_type": "code",
   "execution_count": 23,
   "metadata": {
    "id": "iZ1avpA_0q0_"
   },
   "outputs": [],
   "source": [
    "calls_df['call_date']=pd.to_datetime(calls_df['call_date'],format='%Y-%m-%d')"
   ]
  },
  {
   "cell_type": "code",
   "execution_count": 24,
   "metadata": {},
   "outputs": [
    {
     "name": "stdout",
     "output_type": "stream",
     "text": [
      "<class 'pandas.core.frame.DataFrame'>\n",
      "RangeIndex: 137735 entries, 0 to 137734\n",
      "Data columns (total 4 columns):\n",
      " #   Column     Non-Null Count   Dtype         \n",
      "---  ------     --------------   -----         \n",
      " 0   id         137735 non-null  object        \n",
      " 1   user_id    137735 non-null  int64         \n",
      " 2   call_date  137735 non-null  datetime64[ns]\n",
      " 3   duration   137735 non-null  float64       \n",
      "dtypes: datetime64[ns](1), float64(1), int64(1), object(1)\n",
      "memory usage: 4.2+ MB\n"
     ]
    },
    {
     "data": {
      "text/html": [
       "<div>\n",
       "<style scoped>\n",
       "    .dataframe tbody tr th:only-of-type {\n",
       "        vertical-align: middle;\n",
       "    }\n",
       "\n",
       "    .dataframe tbody tr th {\n",
       "        vertical-align: top;\n",
       "    }\n",
       "\n",
       "    .dataframe thead th {\n",
       "        text-align: right;\n",
       "    }\n",
       "</style>\n",
       "<table border=\"1\" class=\"dataframe\">\n",
       "  <thead>\n",
       "    <tr style=\"text-align: right;\">\n",
       "      <th></th>\n",
       "      <th>id</th>\n",
       "      <th>user_id</th>\n",
       "      <th>call_date</th>\n",
       "      <th>duration</th>\n",
       "    </tr>\n",
       "  </thead>\n",
       "  <tbody>\n",
       "    <tr>\n",
       "      <th>0</th>\n",
       "      <td>1000_93</td>\n",
       "      <td>1000</td>\n",
       "      <td>2018-12-27</td>\n",
       "      <td>8.52</td>\n",
       "    </tr>\n",
       "    <tr>\n",
       "      <th>1</th>\n",
       "      <td>1000_145</td>\n",
       "      <td>1000</td>\n",
       "      <td>2018-12-27</td>\n",
       "      <td>13.66</td>\n",
       "    </tr>\n",
       "    <tr>\n",
       "      <th>2</th>\n",
       "      <td>1000_247</td>\n",
       "      <td>1000</td>\n",
       "      <td>2018-12-27</td>\n",
       "      <td>14.48</td>\n",
       "    </tr>\n",
       "    <tr>\n",
       "      <th>3</th>\n",
       "      <td>1000_309</td>\n",
       "      <td>1000</td>\n",
       "      <td>2018-12-28</td>\n",
       "      <td>5.76</td>\n",
       "    </tr>\n",
       "    <tr>\n",
       "      <th>4</th>\n",
       "      <td>1000_380</td>\n",
       "      <td>1000</td>\n",
       "      <td>2018-12-30</td>\n",
       "      <td>4.22</td>\n",
       "    </tr>\n",
       "  </tbody>\n",
       "</table>\n",
       "</div>"
      ],
      "text/plain": [
       "         id  user_id  call_date  duration\n",
       "0   1000_93     1000 2018-12-27      8.52\n",
       "1  1000_145     1000 2018-12-27     13.66\n",
       "2  1000_247     1000 2018-12-27     14.48\n",
       "3  1000_309     1000 2018-12-28      5.76\n",
       "4  1000_380     1000 2018-12-30      4.22"
      ]
     },
     "execution_count": 24,
     "metadata": {},
     "output_type": "execute_result"
    }
   ],
   "source": [
    "calls_df.info()\n",
    "calls_df.head()"
   ]
  },
  {
   "cell_type": "markdown",
   "metadata": {
    "id": "KrMgTrlG0q0_"
   },
   "source": [
    "### Enriquecer los datos"
   ]
  },
  {
   "cell_type": "code",
   "execution_count": 25,
   "metadata": {},
   "outputs": [],
   "source": [
    "calls_df.rename(columns={'id': 'call_id'}, inplace=True)"
   ]
  },
  {
   "cell_type": "code",
   "execution_count": 26,
   "metadata": {},
   "outputs": [
    {
     "data": {
      "text/html": [
       "<div>\n",
       "<style scoped>\n",
       "    .dataframe tbody tr th:only-of-type {\n",
       "        vertical-align: middle;\n",
       "    }\n",
       "\n",
       "    .dataframe tbody tr th {\n",
       "        vertical-align: top;\n",
       "    }\n",
       "\n",
       "    .dataframe thead th {\n",
       "        text-align: right;\n",
       "    }\n",
       "</style>\n",
       "<table border=\"1\" class=\"dataframe\">\n",
       "  <thead>\n",
       "    <tr style=\"text-align: right;\">\n",
       "      <th></th>\n",
       "      <th>call_id</th>\n",
       "      <th>user_id</th>\n",
       "      <th>call_date</th>\n",
       "      <th>duration</th>\n",
       "    </tr>\n",
       "  </thead>\n",
       "  <tbody>\n",
       "    <tr>\n",
       "      <th>0</th>\n",
       "      <td>1000_93</td>\n",
       "      <td>1000</td>\n",
       "      <td>2018-12-27</td>\n",
       "      <td>8.52</td>\n",
       "    </tr>\n",
       "    <tr>\n",
       "      <th>1</th>\n",
       "      <td>1000_145</td>\n",
       "      <td>1000</td>\n",
       "      <td>2018-12-27</td>\n",
       "      <td>13.66</td>\n",
       "    </tr>\n",
       "    <tr>\n",
       "      <th>2</th>\n",
       "      <td>1000_247</td>\n",
       "      <td>1000</td>\n",
       "      <td>2018-12-27</td>\n",
       "      <td>14.48</td>\n",
       "    </tr>\n",
       "    <tr>\n",
       "      <th>3</th>\n",
       "      <td>1000_309</td>\n",
       "      <td>1000</td>\n",
       "      <td>2018-12-28</td>\n",
       "      <td>5.76</td>\n",
       "    </tr>\n",
       "    <tr>\n",
       "      <th>4</th>\n",
       "      <td>1000_380</td>\n",
       "      <td>1000</td>\n",
       "      <td>2018-12-30</td>\n",
       "      <td>4.22</td>\n",
       "    </tr>\n",
       "  </tbody>\n",
       "</table>\n",
       "</div>"
      ],
      "text/plain": [
       "    call_id  user_id  call_date  duration\n",
       "0   1000_93     1000 2018-12-27      8.52\n",
       "1  1000_145     1000 2018-12-27     13.66\n",
       "2  1000_247     1000 2018-12-27     14.48\n",
       "3  1000_309     1000 2018-12-28      5.76\n",
       "4  1000_380     1000 2018-12-30      4.22"
      ]
     },
     "execution_count": 26,
     "metadata": {},
     "output_type": "execute_result"
    }
   ],
   "source": [
    "calls_df.head()"
   ]
  },
  {
   "cell_type": "code",
   "execution_count": 27,
   "metadata": {},
   "outputs": [],
   "source": [
    "calls_df['mes']=pd.DatetimeIndex(calls_df['call_date']).month"
   ]
  },
  {
   "cell_type": "code",
   "execution_count": 28,
   "metadata": {},
   "outputs": [
    {
     "data": {
      "text/html": [
       "<div>\n",
       "<style scoped>\n",
       "    .dataframe tbody tr th:only-of-type {\n",
       "        vertical-align: middle;\n",
       "    }\n",
       "\n",
       "    .dataframe tbody tr th {\n",
       "        vertical-align: top;\n",
       "    }\n",
       "\n",
       "    .dataframe thead th {\n",
       "        text-align: right;\n",
       "    }\n",
       "</style>\n",
       "<table border=\"1\" class=\"dataframe\">\n",
       "  <thead>\n",
       "    <tr style=\"text-align: right;\">\n",
       "      <th></th>\n",
       "      <th>call_id</th>\n",
       "      <th>user_id</th>\n",
       "      <th>call_date</th>\n",
       "      <th>duration</th>\n",
       "      <th>mes</th>\n",
       "    </tr>\n",
       "  </thead>\n",
       "  <tbody>\n",
       "    <tr>\n",
       "      <th>0</th>\n",
       "      <td>1000_93</td>\n",
       "      <td>1000</td>\n",
       "      <td>2018-12-27</td>\n",
       "      <td>8.52</td>\n",
       "      <td>12</td>\n",
       "    </tr>\n",
       "    <tr>\n",
       "      <th>1</th>\n",
       "      <td>1000_145</td>\n",
       "      <td>1000</td>\n",
       "      <td>2018-12-27</td>\n",
       "      <td>13.66</td>\n",
       "      <td>12</td>\n",
       "    </tr>\n",
       "    <tr>\n",
       "      <th>2</th>\n",
       "      <td>1000_247</td>\n",
       "      <td>1000</td>\n",
       "      <td>2018-12-27</td>\n",
       "      <td>14.48</td>\n",
       "      <td>12</td>\n",
       "    </tr>\n",
       "    <tr>\n",
       "      <th>3</th>\n",
       "      <td>1000_309</td>\n",
       "      <td>1000</td>\n",
       "      <td>2018-12-28</td>\n",
       "      <td>5.76</td>\n",
       "      <td>12</td>\n",
       "    </tr>\n",
       "    <tr>\n",
       "      <th>4</th>\n",
       "      <td>1000_380</td>\n",
       "      <td>1000</td>\n",
       "      <td>2018-12-30</td>\n",
       "      <td>4.22</td>\n",
       "      <td>12</td>\n",
       "    </tr>\n",
       "  </tbody>\n",
       "</table>\n",
       "</div>"
      ],
      "text/plain": [
       "    call_id  user_id  call_date  duration  mes\n",
       "0   1000_93     1000 2018-12-27      8.52   12\n",
       "1  1000_145     1000 2018-12-27     13.66   12\n",
       "2  1000_247     1000 2018-12-27     14.48   12\n",
       "3  1000_309     1000 2018-12-28      5.76   12\n",
       "4  1000_380     1000 2018-12-30      4.22   12"
      ]
     },
     "execution_count": 28,
     "metadata": {},
     "output_type": "execute_result"
    }
   ],
   "source": [
    "calls_df.head()"
   ]
  },
  {
   "cell_type": "code",
   "execution_count": 29,
   "metadata": {},
   "outputs": [],
   "source": [
    "def redondeo_llamadas(duration):\n",
    "    redondeo = math.ceil(duration)\n",
    "    return redondeo"
   ]
  },
  {
   "cell_type": "code",
   "execution_count": 30,
   "metadata": {},
   "outputs": [
    {
     "data": {
      "text/html": [
       "<div>\n",
       "<style scoped>\n",
       "    .dataframe tbody tr th:only-of-type {\n",
       "        vertical-align: middle;\n",
       "    }\n",
       "\n",
       "    .dataframe tbody tr th {\n",
       "        vertical-align: top;\n",
       "    }\n",
       "\n",
       "    .dataframe thead th {\n",
       "        text-align: right;\n",
       "    }\n",
       "</style>\n",
       "<table border=\"1\" class=\"dataframe\">\n",
       "  <thead>\n",
       "    <tr style=\"text-align: right;\">\n",
       "      <th></th>\n",
       "      <th>call_id</th>\n",
       "      <th>user_id</th>\n",
       "      <th>call_date</th>\n",
       "      <th>duration</th>\n",
       "      <th>mes</th>\n",
       "      <th>duracion_redondeada</th>\n",
       "    </tr>\n",
       "  </thead>\n",
       "  <tbody>\n",
       "    <tr>\n",
       "      <th>0</th>\n",
       "      <td>1000_93</td>\n",
       "      <td>1000</td>\n",
       "      <td>2018-12-27</td>\n",
       "      <td>8.52</td>\n",
       "      <td>12</td>\n",
       "      <td>9</td>\n",
       "    </tr>\n",
       "    <tr>\n",
       "      <th>1</th>\n",
       "      <td>1000_145</td>\n",
       "      <td>1000</td>\n",
       "      <td>2018-12-27</td>\n",
       "      <td>13.66</td>\n",
       "      <td>12</td>\n",
       "      <td>14</td>\n",
       "    </tr>\n",
       "    <tr>\n",
       "      <th>2</th>\n",
       "      <td>1000_247</td>\n",
       "      <td>1000</td>\n",
       "      <td>2018-12-27</td>\n",
       "      <td>14.48</td>\n",
       "      <td>12</td>\n",
       "      <td>15</td>\n",
       "    </tr>\n",
       "    <tr>\n",
       "      <th>3</th>\n",
       "      <td>1000_309</td>\n",
       "      <td>1000</td>\n",
       "      <td>2018-12-28</td>\n",
       "      <td>5.76</td>\n",
       "      <td>12</td>\n",
       "      <td>6</td>\n",
       "    </tr>\n",
       "    <tr>\n",
       "      <th>4</th>\n",
       "      <td>1000_380</td>\n",
       "      <td>1000</td>\n",
       "      <td>2018-12-30</td>\n",
       "      <td>4.22</td>\n",
       "      <td>12</td>\n",
       "      <td>5</td>\n",
       "    </tr>\n",
       "  </tbody>\n",
       "</table>\n",
       "</div>"
      ],
      "text/plain": [
       "    call_id  user_id  call_date  duration  mes  duracion_redondeada\n",
       "0   1000_93     1000 2018-12-27      8.52   12                    9\n",
       "1  1000_145     1000 2018-12-27     13.66   12                   14\n",
       "2  1000_247     1000 2018-12-27     14.48   12                   15\n",
       "3  1000_309     1000 2018-12-28      5.76   12                    6\n",
       "4  1000_380     1000 2018-12-30      4.22   12                    5"
      ]
     },
     "execution_count": 30,
     "metadata": {},
     "output_type": "execute_result"
    }
   ],
   "source": [
    "calls_df['duracion_redondeada'] = calls_df['duration'].apply(redondeo_llamadas)\n",
    "calls_df.head()"
   ]
  },
  {
   "cell_type": "markdown",
   "metadata": {
    "id": "mOUZSi180q0_"
   },
   "source": [
    "## Mensajes"
   ]
  },
  {
   "cell_type": "code",
   "execution_count": 31,
   "metadata": {
    "id": "R-bYJpdV0q1A"
   },
   "outputs": [
    {
     "name": "stdout",
     "output_type": "stream",
     "text": [
      "<class 'pandas.core.frame.DataFrame'>\n",
      "RangeIndex: 76051 entries, 0 to 76050\n",
      "Data columns (total 3 columns):\n",
      " #   Column        Non-Null Count  Dtype \n",
      "---  ------        --------------  ----- \n",
      " 0   id            76051 non-null  object\n",
      " 1   user_id       76051 non-null  int64 \n",
      " 2   message_date  76051 non-null  object\n",
      "dtypes: int64(1), object(2)\n",
      "memory usage: 1.7+ MB\n"
     ]
    }
   ],
   "source": [
    "# Imprime la información general/resumida sobre el DataFrame de los mensajes\n",
    "msn_df.info()\n"
   ]
  },
  {
   "cell_type": "code",
   "execution_count": 32,
   "metadata": {
    "id": "mCEl2iGE0q1A"
   },
   "outputs": [
    {
     "data": {
      "text/html": [
       "<div>\n",
       "<style scoped>\n",
       "    .dataframe tbody tr th:only-of-type {\n",
       "        vertical-align: middle;\n",
       "    }\n",
       "\n",
       "    .dataframe tbody tr th {\n",
       "        vertical-align: top;\n",
       "    }\n",
       "\n",
       "    .dataframe thead th {\n",
       "        text-align: right;\n",
       "    }\n",
       "</style>\n",
       "<table border=\"1\" class=\"dataframe\">\n",
       "  <thead>\n",
       "    <tr style=\"text-align: right;\">\n",
       "      <th></th>\n",
       "      <th>id</th>\n",
       "      <th>user_id</th>\n",
       "      <th>message_date</th>\n",
       "    </tr>\n",
       "  </thead>\n",
       "  <tbody>\n",
       "    <tr>\n",
       "      <th>0</th>\n",
       "      <td>1000_125</td>\n",
       "      <td>1000</td>\n",
       "      <td>2018-12-27</td>\n",
       "    </tr>\n",
       "    <tr>\n",
       "      <th>1</th>\n",
       "      <td>1000_160</td>\n",
       "      <td>1000</td>\n",
       "      <td>2018-12-31</td>\n",
       "    </tr>\n",
       "    <tr>\n",
       "      <th>2</th>\n",
       "      <td>1000_223</td>\n",
       "      <td>1000</td>\n",
       "      <td>2018-12-31</td>\n",
       "    </tr>\n",
       "    <tr>\n",
       "      <th>3</th>\n",
       "      <td>1000_251</td>\n",
       "      <td>1000</td>\n",
       "      <td>2018-12-27</td>\n",
       "    </tr>\n",
       "    <tr>\n",
       "      <th>4</th>\n",
       "      <td>1000_255</td>\n",
       "      <td>1000</td>\n",
       "      <td>2018-12-26</td>\n",
       "    </tr>\n",
       "  </tbody>\n",
       "</table>\n",
       "</div>"
      ],
      "text/plain": [
       "         id  user_id message_date\n",
       "0  1000_125     1000   2018-12-27\n",
       "1  1000_160     1000   2018-12-31\n",
       "2  1000_223     1000   2018-12-31\n",
       "3  1000_251     1000   2018-12-27\n",
       "4  1000_255     1000   2018-12-26"
      ]
     },
     "execution_count": 32,
     "metadata": {},
     "output_type": "execute_result"
    }
   ],
   "source": [
    "# Imprime una muestra de datos para los mensajes\n",
    "msn_df.head()"
   ]
  },
  {
   "cell_type": "code",
   "execution_count": 33,
   "metadata": {},
   "outputs": [
    {
     "data": {
      "text/plain": [
       "0"
      ]
     },
     "execution_count": 33,
     "metadata": {},
     "output_type": "execute_result"
    }
   ],
   "source": [
    "msn_df.duplicated().sum()"
   ]
  },
  {
   "cell_type": "markdown",
   "metadata": {
    "id": "04xDj7KH0q1A"
   },
   "source": [
    "No existen duplicados ni datos nulos.Igualmente, procederemos a cambiar el formato de fecha, anexar una columna de mes y a cambiar el nombre del id para que no sea confuso."
   ]
  },
  {
   "cell_type": "markdown",
   "metadata": {
    "id": "Sprfak900q1B"
   },
   "source": [
    "### Corregir los datos"
   ]
  },
  {
   "cell_type": "code",
   "execution_count": 34,
   "metadata": {
    "id": "vsllvkoa0q1B"
   },
   "outputs": [
    {
     "name": "stdout",
     "output_type": "stream",
     "text": [
      "<class 'pandas.core.frame.DataFrame'>\n",
      "RangeIndex: 76051 entries, 0 to 76050\n",
      "Data columns (total 3 columns):\n",
      " #   Column        Non-Null Count  Dtype         \n",
      "---  ------        --------------  -----         \n",
      " 0   id            76051 non-null  object        \n",
      " 1   user_id       76051 non-null  int64         \n",
      " 2   message_date  76051 non-null  datetime64[ns]\n",
      "dtypes: datetime64[ns](1), int64(1), object(1)\n",
      "memory usage: 1.7+ MB\n"
     ]
    }
   ],
   "source": [
    "msn_df['message_date']=pd.to_datetime(msn_df['message_date'],format='%Y-%m-%d')\n",
    "msn_df.info()"
   ]
  },
  {
   "cell_type": "markdown",
   "metadata": {
    "id": "HvLid7iD0q1B"
   },
   "source": [
    "### Enriquecer los datos"
   ]
  },
  {
   "cell_type": "code",
   "execution_count": 35,
   "metadata": {
    "id": "zYEXZac10q1C"
   },
   "outputs": [
    {
     "data": {
      "text/html": [
       "<div>\n",
       "<style scoped>\n",
       "    .dataframe tbody tr th:only-of-type {\n",
       "        vertical-align: middle;\n",
       "    }\n",
       "\n",
       "    .dataframe tbody tr th {\n",
       "        vertical-align: top;\n",
       "    }\n",
       "\n",
       "    .dataframe thead th {\n",
       "        text-align: right;\n",
       "    }\n",
       "</style>\n",
       "<table border=\"1\" class=\"dataframe\">\n",
       "  <thead>\n",
       "    <tr style=\"text-align: right;\">\n",
       "      <th></th>\n",
       "      <th>id</th>\n",
       "      <th>user_id</th>\n",
       "      <th>message_date</th>\n",
       "      <th>mes</th>\n",
       "    </tr>\n",
       "  </thead>\n",
       "  <tbody>\n",
       "    <tr>\n",
       "      <th>0</th>\n",
       "      <td>1000_125</td>\n",
       "      <td>1000</td>\n",
       "      <td>2018-12-27</td>\n",
       "      <td>12</td>\n",
       "    </tr>\n",
       "    <tr>\n",
       "      <th>1</th>\n",
       "      <td>1000_160</td>\n",
       "      <td>1000</td>\n",
       "      <td>2018-12-31</td>\n",
       "      <td>12</td>\n",
       "    </tr>\n",
       "    <tr>\n",
       "      <th>2</th>\n",
       "      <td>1000_223</td>\n",
       "      <td>1000</td>\n",
       "      <td>2018-12-31</td>\n",
       "      <td>12</td>\n",
       "    </tr>\n",
       "    <tr>\n",
       "      <th>3</th>\n",
       "      <td>1000_251</td>\n",
       "      <td>1000</td>\n",
       "      <td>2018-12-27</td>\n",
       "      <td>12</td>\n",
       "    </tr>\n",
       "    <tr>\n",
       "      <th>4</th>\n",
       "      <td>1000_255</td>\n",
       "      <td>1000</td>\n",
       "      <td>2018-12-26</td>\n",
       "      <td>12</td>\n",
       "    </tr>\n",
       "  </tbody>\n",
       "</table>\n",
       "</div>"
      ],
      "text/plain": [
       "         id  user_id message_date  mes\n",
       "0  1000_125     1000   2018-12-27   12\n",
       "1  1000_160     1000   2018-12-31   12\n",
       "2  1000_223     1000   2018-12-31   12\n",
       "3  1000_251     1000   2018-12-27   12\n",
       "4  1000_255     1000   2018-12-26   12"
      ]
     },
     "execution_count": 35,
     "metadata": {},
     "output_type": "execute_result"
    }
   ],
   "source": [
    "msn_df['mes']=pd.DatetimeIndex(msn_df['message_date']).month\n",
    "msn_df.head()"
   ]
  },
  {
   "cell_type": "code",
   "execution_count": 36,
   "metadata": {},
   "outputs": [
    {
     "data": {
      "text/html": [
       "<div>\n",
       "<style scoped>\n",
       "    .dataframe tbody tr th:only-of-type {\n",
       "        vertical-align: middle;\n",
       "    }\n",
       "\n",
       "    .dataframe tbody tr th {\n",
       "        vertical-align: top;\n",
       "    }\n",
       "\n",
       "    .dataframe thead th {\n",
       "        text-align: right;\n",
       "    }\n",
       "</style>\n",
       "<table border=\"1\" class=\"dataframe\">\n",
       "  <thead>\n",
       "    <tr style=\"text-align: right;\">\n",
       "      <th></th>\n",
       "      <th>msn_id</th>\n",
       "      <th>user_id</th>\n",
       "      <th>message_date</th>\n",
       "      <th>mes</th>\n",
       "    </tr>\n",
       "  </thead>\n",
       "  <tbody>\n",
       "    <tr>\n",
       "      <th>0</th>\n",
       "      <td>1000_125</td>\n",
       "      <td>1000</td>\n",
       "      <td>2018-12-27</td>\n",
       "      <td>12</td>\n",
       "    </tr>\n",
       "    <tr>\n",
       "      <th>1</th>\n",
       "      <td>1000_160</td>\n",
       "      <td>1000</td>\n",
       "      <td>2018-12-31</td>\n",
       "      <td>12</td>\n",
       "    </tr>\n",
       "    <tr>\n",
       "      <th>2</th>\n",
       "      <td>1000_223</td>\n",
       "      <td>1000</td>\n",
       "      <td>2018-12-31</td>\n",
       "      <td>12</td>\n",
       "    </tr>\n",
       "    <tr>\n",
       "      <th>3</th>\n",
       "      <td>1000_251</td>\n",
       "      <td>1000</td>\n",
       "      <td>2018-12-27</td>\n",
       "      <td>12</td>\n",
       "    </tr>\n",
       "    <tr>\n",
       "      <th>4</th>\n",
       "      <td>1000_255</td>\n",
       "      <td>1000</td>\n",
       "      <td>2018-12-26</td>\n",
       "      <td>12</td>\n",
       "    </tr>\n",
       "  </tbody>\n",
       "</table>\n",
       "</div>"
      ],
      "text/plain": [
       "     msn_id  user_id message_date  mes\n",
       "0  1000_125     1000   2018-12-27   12\n",
       "1  1000_160     1000   2018-12-31   12\n",
       "2  1000_223     1000   2018-12-31   12\n",
       "3  1000_251     1000   2018-12-27   12\n",
       "4  1000_255     1000   2018-12-26   12"
      ]
     },
     "execution_count": 36,
     "metadata": {},
     "output_type": "execute_result"
    }
   ],
   "source": [
    "msn_df.rename(columns={'id': 'msn_id'}, inplace=True)\n",
    "msn_df.head()"
   ]
  },
  {
   "cell_type": "markdown",
   "metadata": {
    "id": "bStkaxn40q1C"
   },
   "source": [
    "## Internet"
   ]
  },
  {
   "cell_type": "code",
   "execution_count": 37,
   "metadata": {
    "id": "e-Uz5qyn0q1C"
   },
   "outputs": [
    {
     "name": "stdout",
     "output_type": "stream",
     "text": [
      "<class 'pandas.core.frame.DataFrame'>\n",
      "RangeIndex: 104825 entries, 0 to 104824\n",
      "Data columns (total 4 columns):\n",
      " #   Column        Non-Null Count   Dtype  \n",
      "---  ------        --------------   -----  \n",
      " 0   id            104825 non-null  object \n",
      " 1   user_id       104825 non-null  int64  \n",
      " 2   session_date  104825 non-null  object \n",
      " 3   mb_used       104825 non-null  float64\n",
      "dtypes: float64(1), int64(1), object(2)\n",
      "memory usage: 3.2+ MB\n"
     ]
    }
   ],
   "source": [
    "# Imprime la información general/resumida sobre el DataFrame de internet\n",
    "internet_df.info()"
   ]
  },
  {
   "cell_type": "code",
   "execution_count": 38,
   "metadata": {
    "id": "9r3x_XLw0q1C"
   },
   "outputs": [
    {
     "data": {
      "text/html": [
       "<div>\n",
       "<style scoped>\n",
       "    .dataframe tbody tr th:only-of-type {\n",
       "        vertical-align: middle;\n",
       "    }\n",
       "\n",
       "    .dataframe tbody tr th {\n",
       "        vertical-align: top;\n",
       "    }\n",
       "\n",
       "    .dataframe thead th {\n",
       "        text-align: right;\n",
       "    }\n",
       "</style>\n",
       "<table border=\"1\" class=\"dataframe\">\n",
       "  <thead>\n",
       "    <tr style=\"text-align: right;\">\n",
       "      <th></th>\n",
       "      <th>id</th>\n",
       "      <th>user_id</th>\n",
       "      <th>session_date</th>\n",
       "      <th>mb_used</th>\n",
       "    </tr>\n",
       "  </thead>\n",
       "  <tbody>\n",
       "    <tr>\n",
       "      <th>0</th>\n",
       "      <td>1000_13</td>\n",
       "      <td>1000</td>\n",
       "      <td>2018-12-29</td>\n",
       "      <td>89.86</td>\n",
       "    </tr>\n",
       "    <tr>\n",
       "      <th>1</th>\n",
       "      <td>1000_204</td>\n",
       "      <td>1000</td>\n",
       "      <td>2018-12-31</td>\n",
       "      <td>0.00</td>\n",
       "    </tr>\n",
       "    <tr>\n",
       "      <th>2</th>\n",
       "      <td>1000_379</td>\n",
       "      <td>1000</td>\n",
       "      <td>2018-12-28</td>\n",
       "      <td>660.40</td>\n",
       "    </tr>\n",
       "    <tr>\n",
       "      <th>3</th>\n",
       "      <td>1000_413</td>\n",
       "      <td>1000</td>\n",
       "      <td>2018-12-26</td>\n",
       "      <td>270.99</td>\n",
       "    </tr>\n",
       "    <tr>\n",
       "      <th>4</th>\n",
       "      <td>1000_442</td>\n",
       "      <td>1000</td>\n",
       "      <td>2018-12-27</td>\n",
       "      <td>880.22</td>\n",
       "    </tr>\n",
       "  </tbody>\n",
       "</table>\n",
       "</div>"
      ],
      "text/plain": [
       "         id  user_id session_date  mb_used\n",
       "0   1000_13     1000   2018-12-29    89.86\n",
       "1  1000_204     1000   2018-12-31     0.00\n",
       "2  1000_379     1000   2018-12-28   660.40\n",
       "3  1000_413     1000   2018-12-26   270.99\n",
       "4  1000_442     1000   2018-12-27   880.22"
      ]
     },
     "execution_count": 38,
     "metadata": {},
     "output_type": "execute_result"
    }
   ],
   "source": [
    "# Imprime una muestra de datos para el tráfico de internet\n",
    "internet_df.head()"
   ]
  },
  {
   "cell_type": "code",
   "execution_count": 39,
   "metadata": {},
   "outputs": [
    {
     "data": {
      "text/plain": [
       "0"
      ]
     },
     "execution_count": 39,
     "metadata": {},
     "output_type": "execute_result"
    }
   ],
   "source": [
    "internet_df.duplicated().sum()"
   ]
  },
  {
   "cell_type": "code",
   "execution_count": 40,
   "metadata": {},
   "outputs": [
    {
     "data": {
      "text/html": [
       "<div>\n",
       "<style scoped>\n",
       "    .dataframe tbody tr th:only-of-type {\n",
       "        vertical-align: middle;\n",
       "    }\n",
       "\n",
       "    .dataframe tbody tr th {\n",
       "        vertical-align: top;\n",
       "    }\n",
       "\n",
       "    .dataframe thead th {\n",
       "        text-align: right;\n",
       "    }\n",
       "</style>\n",
       "<table border=\"1\" class=\"dataframe\">\n",
       "  <thead>\n",
       "    <tr style=\"text-align: right;\">\n",
       "      <th></th>\n",
       "      <th>user_id</th>\n",
       "      <th>mb_used</th>\n",
       "    </tr>\n",
       "  </thead>\n",
       "  <tbody>\n",
       "    <tr>\n",
       "      <th>count</th>\n",
       "      <td>104825.000000</td>\n",
       "      <td>104825.000000</td>\n",
       "    </tr>\n",
       "    <tr>\n",
       "      <th>mean</th>\n",
       "      <td>1242.496361</td>\n",
       "      <td>366.713701</td>\n",
       "    </tr>\n",
       "    <tr>\n",
       "      <th>std</th>\n",
       "      <td>142.053913</td>\n",
       "      <td>277.170542</td>\n",
       "    </tr>\n",
       "    <tr>\n",
       "      <th>min</th>\n",
       "      <td>1000.000000</td>\n",
       "      <td>0.000000</td>\n",
       "    </tr>\n",
       "    <tr>\n",
       "      <th>25%</th>\n",
       "      <td>1122.000000</td>\n",
       "      <td>136.080000</td>\n",
       "    </tr>\n",
       "    <tr>\n",
       "      <th>50%</th>\n",
       "      <td>1236.000000</td>\n",
       "      <td>343.980000</td>\n",
       "    </tr>\n",
       "    <tr>\n",
       "      <th>75%</th>\n",
       "      <td>1367.000000</td>\n",
       "      <td>554.610000</td>\n",
       "    </tr>\n",
       "    <tr>\n",
       "      <th>max</th>\n",
       "      <td>1499.000000</td>\n",
       "      <td>1693.470000</td>\n",
       "    </tr>\n",
       "  </tbody>\n",
       "</table>\n",
       "</div>"
      ],
      "text/plain": [
       "             user_id        mb_used\n",
       "count  104825.000000  104825.000000\n",
       "mean     1242.496361     366.713701\n",
       "std       142.053913     277.170542\n",
       "min      1000.000000       0.000000\n",
       "25%      1122.000000     136.080000\n",
       "50%      1236.000000     343.980000\n",
       "75%      1367.000000     554.610000\n",
       "max      1499.000000    1693.470000"
      ]
     },
     "execution_count": 40,
     "metadata": {},
     "output_type": "execute_result"
    }
   ],
   "source": [
    "internet_df.describe()"
   ]
  },
  {
   "cell_type": "markdown",
   "metadata": {},
   "source": [
    "No existen duplicados ni datos nulos.Igualmente, procederemos a cambiar el formato de fecha, anexar una columna de mes y a cambiar el nombre del id para que no sea confuso.\n",
    "\n",
    "Aquí seguiremos usando la información en Mb, más adelante se realizará la conversión."
   ]
  },
  {
   "cell_type": "markdown",
   "metadata": {
    "id": "yA0tkPFg0q1D"
   },
   "source": [
    "### Corregir los datos"
   ]
  },
  {
   "cell_type": "code",
   "execution_count": 41,
   "metadata": {
    "id": "zVeanzdd0q1E"
   },
   "outputs": [],
   "source": [
    "internet_df['session_date']=pd.to_datetime(internet_df['session_date'],format='%Y-%m-%d')"
   ]
  },
  {
   "cell_type": "code",
   "execution_count": 42,
   "metadata": {},
   "outputs": [
    {
     "name": "stdout",
     "output_type": "stream",
     "text": [
      "<class 'pandas.core.frame.DataFrame'>\n",
      "RangeIndex: 104825 entries, 0 to 104824\n",
      "Data columns (total 4 columns):\n",
      " #   Column        Non-Null Count   Dtype         \n",
      "---  ------        --------------   -----         \n",
      " 0   id            104825 non-null  object        \n",
      " 1   user_id       104825 non-null  int64         \n",
      " 2   session_date  104825 non-null  datetime64[ns]\n",
      " 3   mb_used       104825 non-null  float64       \n",
      "dtypes: datetime64[ns](1), float64(1), int64(1), object(1)\n",
      "memory usage: 3.2+ MB\n"
     ]
    }
   ],
   "source": [
    "internet_df.info()"
   ]
  },
  {
   "cell_type": "markdown",
   "metadata": {
    "id": "e8_mLF4a0q1E"
   },
   "source": [
    "### Enriquecer los datos"
   ]
  },
  {
   "cell_type": "code",
   "execution_count": 43,
   "metadata": {
    "id": "ESiYPIEK0q1E"
   },
   "outputs": [
    {
     "data": {
      "text/html": [
       "<div>\n",
       "<style scoped>\n",
       "    .dataframe tbody tr th:only-of-type {\n",
       "        vertical-align: middle;\n",
       "    }\n",
       "\n",
       "    .dataframe tbody tr th {\n",
       "        vertical-align: top;\n",
       "    }\n",
       "\n",
       "    .dataframe thead th {\n",
       "        text-align: right;\n",
       "    }\n",
       "</style>\n",
       "<table border=\"1\" class=\"dataframe\">\n",
       "  <thead>\n",
       "    <tr style=\"text-align: right;\">\n",
       "      <th></th>\n",
       "      <th>id</th>\n",
       "      <th>user_id</th>\n",
       "      <th>session_date</th>\n",
       "      <th>mb_used</th>\n",
       "      <th>mes</th>\n",
       "    </tr>\n",
       "  </thead>\n",
       "  <tbody>\n",
       "    <tr>\n",
       "      <th>0</th>\n",
       "      <td>1000_13</td>\n",
       "      <td>1000</td>\n",
       "      <td>2018-12-29</td>\n",
       "      <td>89.86</td>\n",
       "      <td>12</td>\n",
       "    </tr>\n",
       "    <tr>\n",
       "      <th>1</th>\n",
       "      <td>1000_204</td>\n",
       "      <td>1000</td>\n",
       "      <td>2018-12-31</td>\n",
       "      <td>0.00</td>\n",
       "      <td>12</td>\n",
       "    </tr>\n",
       "    <tr>\n",
       "      <th>2</th>\n",
       "      <td>1000_379</td>\n",
       "      <td>1000</td>\n",
       "      <td>2018-12-28</td>\n",
       "      <td>660.40</td>\n",
       "      <td>12</td>\n",
       "    </tr>\n",
       "    <tr>\n",
       "      <th>3</th>\n",
       "      <td>1000_413</td>\n",
       "      <td>1000</td>\n",
       "      <td>2018-12-26</td>\n",
       "      <td>270.99</td>\n",
       "      <td>12</td>\n",
       "    </tr>\n",
       "    <tr>\n",
       "      <th>4</th>\n",
       "      <td>1000_442</td>\n",
       "      <td>1000</td>\n",
       "      <td>2018-12-27</td>\n",
       "      <td>880.22</td>\n",
       "      <td>12</td>\n",
       "    </tr>\n",
       "  </tbody>\n",
       "</table>\n",
       "</div>"
      ],
      "text/plain": [
       "         id  user_id session_date  mb_used  mes\n",
       "0   1000_13     1000   2018-12-29    89.86   12\n",
       "1  1000_204     1000   2018-12-31     0.00   12\n",
       "2  1000_379     1000   2018-12-28   660.40   12\n",
       "3  1000_413     1000   2018-12-26   270.99   12\n",
       "4  1000_442     1000   2018-12-27   880.22   12"
      ]
     },
     "execution_count": 43,
     "metadata": {},
     "output_type": "execute_result"
    }
   ],
   "source": [
    "internet_df['mes']=pd.DatetimeIndex(internet_df['session_date']).month\n",
    "internet_df.head()"
   ]
  },
  {
   "cell_type": "code",
   "execution_count": 44,
   "metadata": {},
   "outputs": [
    {
     "data": {
      "text/plain": [
       "13.11423801574052"
      ]
     },
     "execution_count": 44,
     "metadata": {},
     "output_type": "execute_result"
    }
   ],
   "source": [
    "(len(internet_df.query('mb_used == 0')) / len(internet_df))*100"
   ]
  },
  {
   "cell_type": "code",
   "execution_count": 45,
   "metadata": {
    "scrolled": true
   },
   "outputs": [
    {
     "data": {
      "text/html": [
       "<div>\n",
       "<style scoped>\n",
       "    .dataframe tbody tr th:only-of-type {\n",
       "        vertical-align: middle;\n",
       "    }\n",
       "\n",
       "    .dataframe tbody tr th {\n",
       "        vertical-align: top;\n",
       "    }\n",
       "\n",
       "    .dataframe thead th {\n",
       "        text-align: right;\n",
       "    }\n",
       "</style>\n",
       "<table border=\"1\" class=\"dataframe\">\n",
       "  <thead>\n",
       "    <tr style=\"text-align: right;\">\n",
       "      <th></th>\n",
       "      <th>internet_id</th>\n",
       "      <th>user_id</th>\n",
       "      <th>session_date</th>\n",
       "      <th>mb_used</th>\n",
       "      <th>mes</th>\n",
       "    </tr>\n",
       "  </thead>\n",
       "  <tbody>\n",
       "    <tr>\n",
       "      <th>0</th>\n",
       "      <td>1000_13</td>\n",
       "      <td>1000</td>\n",
       "      <td>2018-12-29</td>\n",
       "      <td>89.86</td>\n",
       "      <td>12</td>\n",
       "    </tr>\n",
       "    <tr>\n",
       "      <th>1</th>\n",
       "      <td>1000_204</td>\n",
       "      <td>1000</td>\n",
       "      <td>2018-12-31</td>\n",
       "      <td>0.00</td>\n",
       "      <td>12</td>\n",
       "    </tr>\n",
       "    <tr>\n",
       "      <th>2</th>\n",
       "      <td>1000_379</td>\n",
       "      <td>1000</td>\n",
       "      <td>2018-12-28</td>\n",
       "      <td>660.40</td>\n",
       "      <td>12</td>\n",
       "    </tr>\n",
       "    <tr>\n",
       "      <th>3</th>\n",
       "      <td>1000_413</td>\n",
       "      <td>1000</td>\n",
       "      <td>2018-12-26</td>\n",
       "      <td>270.99</td>\n",
       "      <td>12</td>\n",
       "    </tr>\n",
       "    <tr>\n",
       "      <th>4</th>\n",
       "      <td>1000_442</td>\n",
       "      <td>1000</td>\n",
       "      <td>2018-12-27</td>\n",
       "      <td>880.22</td>\n",
       "      <td>12</td>\n",
       "    </tr>\n",
       "  </tbody>\n",
       "</table>\n",
       "</div>"
      ],
      "text/plain": [
       "  internet_id  user_id session_date  mb_used  mes\n",
       "0     1000_13     1000   2018-12-29    89.86   12\n",
       "1    1000_204     1000   2018-12-31     0.00   12\n",
       "2    1000_379     1000   2018-12-28   660.40   12\n",
       "3    1000_413     1000   2018-12-26   270.99   12\n",
       "4    1000_442     1000   2018-12-27   880.22   12"
      ]
     },
     "execution_count": 45,
     "metadata": {},
     "output_type": "execute_result"
    }
   ],
   "source": [
    "internet_df.rename(columns={'id': 'internet_id'}, inplace=True)\n",
    "internet_df.head()"
   ]
  },
  {
   "cell_type": "markdown",
   "metadata": {},
   "source": [
    "Aparentemente, alrededor de 13% de usuarios - mes no esta usando el internet."
   ]
  },
  {
   "cell_type": "markdown",
   "metadata": {},
   "source": [
    "<div class=\"alert alert-block alert-success\">\n",
    "<b>Éxito</b> <a class=\"tocSkip\"></a>\n",
    "    \n",
    "Identificaste y explicaste correctamente los valores nulos en el DataFrame users_df, concluyendo que los valores nulos en churn_date significan que los usuarios aún están activos.\n",
    "    \n",
    "Renombraste columnas para mejorar la claridad, como plan a plan_id y id a call_id, msn_id, internet_id en los respectivos DataFrames.\n",
    "    \n",
    "Corregiste los formatos de fecha y añadiste columnas adicionales como el mes de registro y el mes de baja para los usuarios.\n",
    "    \n",
    "Calculaste nuevas columnas, como duracion_redondeada en calls_df y total_gb_usados en internet_df, convirtiendo megabytes a gigabytes.  \n",
    "\n",
    "    \n",
    "</div>"
   ]
  },
  {
   "cell_type": "markdown",
   "metadata": {
    "id": "3UA2cqIW0q1E"
   },
   "source": [
    "## Estudiar las condiciones de las tarifas"
   ]
  },
  {
   "cell_type": "markdown",
   "metadata": {
    "id": "T86Sqltq0q1F"
   },
   "source": [
    "Volveremos a checar la información que contiene para asegurarnos de lo que realizaremos."
   ]
  },
  {
   "cell_type": "code",
   "execution_count": 46,
   "metadata": {
    "id": "i409op8p0q1F"
   },
   "outputs": [
    {
     "data": {
      "text/html": [
       "<div>\n",
       "<style scoped>\n",
       "    .dataframe tbody tr th:only-of-type {\n",
       "        vertical-align: middle;\n",
       "    }\n",
       "\n",
       "    .dataframe tbody tr th {\n",
       "        vertical-align: top;\n",
       "    }\n",
       "\n",
       "    .dataframe thead th {\n",
       "        text-align: right;\n",
       "    }\n",
       "</style>\n",
       "<table border=\"1\" class=\"dataframe\">\n",
       "  <thead>\n",
       "    <tr style=\"text-align: right;\">\n",
       "      <th></th>\n",
       "      <th>messages_included</th>\n",
       "      <th>mb_per_month_included</th>\n",
       "      <th>minutes_included</th>\n",
       "      <th>usd_monthly_pay</th>\n",
       "      <th>usd_per_gb</th>\n",
       "      <th>usd_per_message</th>\n",
       "      <th>usd_per_minute</th>\n",
       "      <th>plan_name</th>\n",
       "    </tr>\n",
       "  </thead>\n",
       "  <tbody>\n",
       "    <tr>\n",
       "      <th>0</th>\n",
       "      <td>50</td>\n",
       "      <td>15360</td>\n",
       "      <td>500</td>\n",
       "      <td>20</td>\n",
       "      <td>10</td>\n",
       "      <td>0.03</td>\n",
       "      <td>0.03</td>\n",
       "      <td>surf</td>\n",
       "    </tr>\n",
       "    <tr>\n",
       "      <th>1</th>\n",
       "      <td>1000</td>\n",
       "      <td>30720</td>\n",
       "      <td>3000</td>\n",
       "      <td>70</td>\n",
       "      <td>7</td>\n",
       "      <td>0.01</td>\n",
       "      <td>0.01</td>\n",
       "      <td>ultimate</td>\n",
       "    </tr>\n",
       "  </tbody>\n",
       "</table>\n",
       "</div>"
      ],
      "text/plain": [
       "   messages_included  mb_per_month_included  minutes_included  \\\n",
       "0                 50                  15360               500   \n",
       "1               1000                  30720              3000   \n",
       "\n",
       "   usd_monthly_pay  usd_per_gb  usd_per_message  usd_per_minute plan_name  \n",
       "0               20          10             0.03            0.03      surf  \n",
       "1               70           7             0.01            0.01  ultimate  "
      ]
     },
     "execution_count": 46,
     "metadata": {},
     "output_type": "execute_result"
    }
   ],
   "source": [
    "# Imprime las condiciones de la tarifa y asegúrate de que te quedan claras\n",
    "plans_df.head()\n"
   ]
  },
  {
   "cell_type": "markdown",
   "metadata": {
    "id": "hMR1tP5d0q1F"
   },
   "source": [
    "## Agregar datos por usuario\n",
    "\n"
   ]
  },
  {
   "cell_type": "markdown",
   "metadata": {},
   "source": [
    "Vamos a calcular el número de llamadas y la cantidad de minutos por usuario y por mes. Vamos a resetear los índices para que las tablas sean más entendibles."
   ]
  },
  {
   "cell_type": "code",
   "execution_count": 47,
   "metadata": {
    "id": "A332cedB0q1G"
   },
   "outputs": [
    {
     "data": {
      "text/html": [
       "<div>\n",
       "<style scoped>\n",
       "    .dataframe tbody tr th:only-of-type {\n",
       "        vertical-align: middle;\n",
       "    }\n",
       "\n",
       "    .dataframe tbody tr th {\n",
       "        vertical-align: top;\n",
       "    }\n",
       "\n",
       "    .dataframe thead tr th {\n",
       "        text-align: left;\n",
       "    }\n",
       "\n",
       "    .dataframe thead tr:last-of-type th {\n",
       "        text-align: right;\n",
       "    }\n",
       "</style>\n",
       "<table border=\"1\" class=\"dataframe\">\n",
       "  <thead>\n",
       "    <tr>\n",
       "      <th></th>\n",
       "      <th></th>\n",
       "      <th>sum</th>\n",
       "      <th>count</th>\n",
       "    </tr>\n",
       "    <tr>\n",
       "      <th></th>\n",
       "      <th></th>\n",
       "      <th>duracion_redondeada</th>\n",
       "      <th>duracion_redondeada</th>\n",
       "    </tr>\n",
       "    <tr>\n",
       "      <th>user_id</th>\n",
       "      <th>mes</th>\n",
       "      <th></th>\n",
       "      <th></th>\n",
       "    </tr>\n",
       "  </thead>\n",
       "  <tbody>\n",
       "    <tr>\n",
       "      <th>1000</th>\n",
       "      <th>12</th>\n",
       "      <td>124</td>\n",
       "      <td>16</td>\n",
       "    </tr>\n",
       "    <tr>\n",
       "      <th rowspan=\"4\" valign=\"top\">1001</th>\n",
       "      <th>8</th>\n",
       "      <td>182</td>\n",
       "      <td>27</td>\n",
       "    </tr>\n",
       "    <tr>\n",
       "      <th>9</th>\n",
       "      <td>315</td>\n",
       "      <td>49</td>\n",
       "    </tr>\n",
       "    <tr>\n",
       "      <th>10</th>\n",
       "      <td>393</td>\n",
       "      <td>65</td>\n",
       "    </tr>\n",
       "    <tr>\n",
       "      <th>11</th>\n",
       "      <td>426</td>\n",
       "      <td>64</td>\n",
       "    </tr>\n",
       "  </tbody>\n",
       "</table>\n",
       "</div>"
      ],
      "text/plain": [
       "                            sum               count\n",
       "            duracion_redondeada duracion_redondeada\n",
       "user_id mes                                        \n",
       "1000    12                  124                  16\n",
       "1001    8                   182                  27\n",
       "        9                   315                  49\n",
       "        10                  393                  65\n",
       "        11                  426                  64"
      ]
     },
     "execution_count": 47,
     "metadata": {},
     "output_type": "execute_result"
    }
   ],
   "source": [
    "# Calcula el número de llamadas hechas por cada usuario al mes. Guarda el resultado.\n",
    "calls_analytics = calls_df.pivot_table(index=['user_id', 'mes'],values='duracion_redondeada',aggfunc=['sum','count'])\n",
    "calls_analytics.head()\n"
   ]
  },
  {
   "cell_type": "code",
   "execution_count": 48,
   "metadata": {},
   "outputs": [
    {
     "data": {
      "text/html": [
       "<div>\n",
       "<style scoped>\n",
       "    .dataframe tbody tr th:only-of-type {\n",
       "        vertical-align: middle;\n",
       "    }\n",
       "\n",
       "    .dataframe tbody tr th {\n",
       "        vertical-align: top;\n",
       "    }\n",
       "\n",
       "    .dataframe thead th {\n",
       "        text-align: right;\n",
       "    }\n",
       "</style>\n",
       "<table border=\"1\" class=\"dataframe\">\n",
       "  <thead>\n",
       "    <tr style=\"text-align: right;\">\n",
       "      <th></th>\n",
       "      <th>user_id</th>\n",
       "      <th>mes</th>\n",
       "      <th>minutos</th>\n",
       "      <th>llamadas_hechas</th>\n",
       "    </tr>\n",
       "  </thead>\n",
       "  <tbody>\n",
       "    <tr>\n",
       "      <th>0</th>\n",
       "      <td>1000</td>\n",
       "      <td>12</td>\n",
       "      <td>124</td>\n",
       "      <td>16</td>\n",
       "    </tr>\n",
       "    <tr>\n",
       "      <th>1</th>\n",
       "      <td>1001</td>\n",
       "      <td>8</td>\n",
       "      <td>182</td>\n",
       "      <td>27</td>\n",
       "    </tr>\n",
       "    <tr>\n",
       "      <th>2</th>\n",
       "      <td>1001</td>\n",
       "      <td>9</td>\n",
       "      <td>315</td>\n",
       "      <td>49</td>\n",
       "    </tr>\n",
       "    <tr>\n",
       "      <th>3</th>\n",
       "      <td>1001</td>\n",
       "      <td>10</td>\n",
       "      <td>393</td>\n",
       "      <td>65</td>\n",
       "    </tr>\n",
       "    <tr>\n",
       "      <th>4</th>\n",
       "      <td>1001</td>\n",
       "      <td>11</td>\n",
       "      <td>426</td>\n",
       "      <td>64</td>\n",
       "    </tr>\n",
       "  </tbody>\n",
       "</table>\n",
       "</div>"
      ],
      "text/plain": [
       "   user_id  mes  minutos  llamadas_hechas\n",
       "0     1000   12      124               16\n",
       "1     1001    8      182               27\n",
       "2     1001    9      315               49\n",
       "3     1001   10      393               65\n",
       "4     1001   11      426               64"
      ]
     },
     "execution_count": 48,
     "metadata": {},
     "output_type": "execute_result"
    }
   ],
   "source": [
    "calls_analytics.columns =['minutos','llamadas_hechas']\n",
    "calls_analytics=calls_analytics.reset_index()\n",
    "calls_analytics.head()"
   ]
  },
  {
   "cell_type": "code",
   "execution_count": 115,
   "metadata": {
    "id": "aw2cmuql0q1G"
   },
   "outputs": [],
   "source": [
    "# Calcula la cantidad de minutos usados por cada usuario al mes. Guarda el resultado.\n",
    "##Ya aparece en el cuadro de arriba"
   ]
  },
  {
   "cell_type": "code",
   "execution_count": 50,
   "metadata": {
    "id": "CcQvNHn60q1G"
   },
   "outputs": [
    {
     "data": {
      "text/html": [
       "<div>\n",
       "<style scoped>\n",
       "    .dataframe tbody tr th:only-of-type {\n",
       "        vertical-align: middle;\n",
       "    }\n",
       "\n",
       "    .dataframe tbody tr th {\n",
       "        vertical-align: top;\n",
       "    }\n",
       "\n",
       "    .dataframe thead tr th {\n",
       "        text-align: left;\n",
       "    }\n",
       "\n",
       "    .dataframe thead tr:last-of-type th {\n",
       "        text-align: right;\n",
       "    }\n",
       "</style>\n",
       "<table border=\"1\" class=\"dataframe\">\n",
       "  <thead>\n",
       "    <tr>\n",
       "      <th></th>\n",
       "      <th></th>\n",
       "      <th>count</th>\n",
       "    </tr>\n",
       "    <tr>\n",
       "      <th></th>\n",
       "      <th></th>\n",
       "      <th>msn_id</th>\n",
       "    </tr>\n",
       "    <tr>\n",
       "      <th>user_id</th>\n",
       "      <th>mes</th>\n",
       "      <th></th>\n",
       "    </tr>\n",
       "  </thead>\n",
       "  <tbody>\n",
       "    <tr>\n",
       "      <th>1000</th>\n",
       "      <th>12</th>\n",
       "      <td>11</td>\n",
       "    </tr>\n",
       "    <tr>\n",
       "      <th rowspan=\"4\" valign=\"top\">1001</th>\n",
       "      <th>8</th>\n",
       "      <td>30</td>\n",
       "    </tr>\n",
       "    <tr>\n",
       "      <th>9</th>\n",
       "      <td>44</td>\n",
       "    </tr>\n",
       "    <tr>\n",
       "      <th>10</th>\n",
       "      <td>53</td>\n",
       "    </tr>\n",
       "    <tr>\n",
       "      <th>11</th>\n",
       "      <td>36</td>\n",
       "    </tr>\n",
       "  </tbody>\n",
       "</table>\n",
       "</div>"
      ],
      "text/plain": [
       "             count\n",
       "            msn_id\n",
       "user_id mes       \n",
       "1000    12      11\n",
       "1001    8       30\n",
       "        9       44\n",
       "        10      53\n",
       "        11      36"
      ]
     },
     "execution_count": 50,
     "metadata": {},
     "output_type": "execute_result"
    }
   ],
   "source": [
    "# Calcula el número de mensajes enviados por cada usuario al mes. Guarda el resultado.\n",
    "msn_analytics = msn_df.pivot_table(index=['user_id', 'mes'],values='msn_id',aggfunc=['count'])\n",
    "msn_analytics.head()\n"
   ]
  },
  {
   "cell_type": "code",
   "execution_count": 51,
   "metadata": {},
   "outputs": [
    {
     "data": {
      "text/html": [
       "<div>\n",
       "<style scoped>\n",
       "    .dataframe tbody tr th:only-of-type {\n",
       "        vertical-align: middle;\n",
       "    }\n",
       "\n",
       "    .dataframe tbody tr th {\n",
       "        vertical-align: top;\n",
       "    }\n",
       "\n",
       "    .dataframe thead th {\n",
       "        text-align: right;\n",
       "    }\n",
       "</style>\n",
       "<table border=\"1\" class=\"dataframe\">\n",
       "  <thead>\n",
       "    <tr style=\"text-align: right;\">\n",
       "      <th></th>\n",
       "      <th>user_id</th>\n",
       "      <th>mes</th>\n",
       "      <th>num_mensajes</th>\n",
       "    </tr>\n",
       "  </thead>\n",
       "  <tbody>\n",
       "    <tr>\n",
       "      <th>0</th>\n",
       "      <td>1000</td>\n",
       "      <td>12</td>\n",
       "      <td>11</td>\n",
       "    </tr>\n",
       "    <tr>\n",
       "      <th>1</th>\n",
       "      <td>1001</td>\n",
       "      <td>8</td>\n",
       "      <td>30</td>\n",
       "    </tr>\n",
       "    <tr>\n",
       "      <th>2</th>\n",
       "      <td>1001</td>\n",
       "      <td>9</td>\n",
       "      <td>44</td>\n",
       "    </tr>\n",
       "    <tr>\n",
       "      <th>3</th>\n",
       "      <td>1001</td>\n",
       "      <td>10</td>\n",
       "      <td>53</td>\n",
       "    </tr>\n",
       "    <tr>\n",
       "      <th>4</th>\n",
       "      <td>1001</td>\n",
       "      <td>11</td>\n",
       "      <td>36</td>\n",
       "    </tr>\n",
       "    <tr>\n",
       "      <th>...</th>\n",
       "      <td>...</td>\n",
       "      <td>...</td>\n",
       "      <td>...</td>\n",
       "    </tr>\n",
       "    <tr>\n",
       "      <th>1801</th>\n",
       "      <td>1496</td>\n",
       "      <td>9</td>\n",
       "      <td>21</td>\n",
       "    </tr>\n",
       "    <tr>\n",
       "      <th>1802</th>\n",
       "      <td>1496</td>\n",
       "      <td>10</td>\n",
       "      <td>18</td>\n",
       "    </tr>\n",
       "    <tr>\n",
       "      <th>1803</th>\n",
       "      <td>1496</td>\n",
       "      <td>11</td>\n",
       "      <td>13</td>\n",
       "    </tr>\n",
       "    <tr>\n",
       "      <th>1804</th>\n",
       "      <td>1496</td>\n",
       "      <td>12</td>\n",
       "      <td>11</td>\n",
       "    </tr>\n",
       "    <tr>\n",
       "      <th>1805</th>\n",
       "      <td>1497</td>\n",
       "      <td>12</td>\n",
       "      <td>50</td>\n",
       "    </tr>\n",
       "  </tbody>\n",
       "</table>\n",
       "<p>1806 rows × 3 columns</p>\n",
       "</div>"
      ],
      "text/plain": [
       "      user_id  mes  num_mensajes\n",
       "0        1000   12            11\n",
       "1        1001    8            30\n",
       "2        1001    9            44\n",
       "3        1001   10            53\n",
       "4        1001   11            36\n",
       "...       ...  ...           ...\n",
       "1801     1496    9            21\n",
       "1802     1496   10            18\n",
       "1803     1496   11            13\n",
       "1804     1496   12            11\n",
       "1805     1497   12            50\n",
       "\n",
       "[1806 rows x 3 columns]"
      ]
     },
     "execution_count": 51,
     "metadata": {},
     "output_type": "execute_result"
    }
   ],
   "source": [
    "msn_analytics.columns = ['num_mensajes']\n",
    "msn_analytics = msn_analytics.reset_index()\n",
    "msn_analytics"
   ]
  },
  {
   "cell_type": "code",
   "execution_count": 52,
   "metadata": {
    "id": "H1AqN2eG0q1H"
   },
   "outputs": [
    {
     "data": {
      "text/html": [
       "<div>\n",
       "<style scoped>\n",
       "    .dataframe tbody tr th:only-of-type {\n",
       "        vertical-align: middle;\n",
       "    }\n",
       "\n",
       "    .dataframe tbody tr th {\n",
       "        vertical-align: top;\n",
       "    }\n",
       "\n",
       "    .dataframe thead tr th {\n",
       "        text-align: left;\n",
       "    }\n",
       "\n",
       "    .dataframe thead tr:last-of-type th {\n",
       "        text-align: right;\n",
       "    }\n",
       "</style>\n",
       "<table border=\"1\" class=\"dataframe\">\n",
       "  <thead>\n",
       "    <tr>\n",
       "      <th></th>\n",
       "      <th></th>\n",
       "      <th>sum</th>\n",
       "    </tr>\n",
       "    <tr>\n",
       "      <th></th>\n",
       "      <th></th>\n",
       "      <th>mb_used</th>\n",
       "    </tr>\n",
       "    <tr>\n",
       "      <th>user_id</th>\n",
       "      <th>mes</th>\n",
       "      <th></th>\n",
       "    </tr>\n",
       "  </thead>\n",
       "  <tbody>\n",
       "    <tr>\n",
       "      <th>1000</th>\n",
       "      <th>12</th>\n",
       "      <td>1901.47</td>\n",
       "    </tr>\n",
       "    <tr>\n",
       "      <th rowspan=\"4\" valign=\"top\">1001</th>\n",
       "      <th>8</th>\n",
       "      <td>6919.15</td>\n",
       "    </tr>\n",
       "    <tr>\n",
       "      <th>9</th>\n",
       "      <td>13314.82</td>\n",
       "    </tr>\n",
       "    <tr>\n",
       "      <th>10</th>\n",
       "      <td>22330.49</td>\n",
       "    </tr>\n",
       "    <tr>\n",
       "      <th>11</th>\n",
       "      <td>18504.30</td>\n",
       "    </tr>\n",
       "  </tbody>\n",
       "</table>\n",
       "</div>"
      ],
      "text/plain": [
       "                  sum\n",
       "              mb_used\n",
       "user_id mes          \n",
       "1000    12    1901.47\n",
       "1001    8     6919.15\n",
       "        9    13314.82\n",
       "        10   22330.49\n",
       "        11   18504.30"
      ]
     },
     "execution_count": 52,
     "metadata": {},
     "output_type": "execute_result"
    }
   ],
   "source": [
    "# Calcula el volumen del tráfico de Internet usado por cada usuario al mes. Guarda el resultado.\n",
    "internet_analytics = internet_df.pivot_table(index=['user_id', 'mes'],values='mb_used', aggfunc=['sum'])\n",
    "internet_analytics.head()\n"
   ]
  },
  {
   "cell_type": "code",
   "execution_count": 53,
   "metadata": {},
   "outputs": [
    {
     "data": {
      "text/html": [
       "<div>\n",
       "<style scoped>\n",
       "    .dataframe tbody tr th:only-of-type {\n",
       "        vertical-align: middle;\n",
       "    }\n",
       "\n",
       "    .dataframe tbody tr th {\n",
       "        vertical-align: top;\n",
       "    }\n",
       "\n",
       "    .dataframe thead th {\n",
       "        text-align: right;\n",
       "    }\n",
       "</style>\n",
       "<table border=\"1\" class=\"dataframe\">\n",
       "  <thead>\n",
       "    <tr style=\"text-align: right;\">\n",
       "      <th></th>\n",
       "      <th>user_id</th>\n",
       "      <th>mes</th>\n",
       "      <th>total_mb_usados</th>\n",
       "    </tr>\n",
       "  </thead>\n",
       "  <tbody>\n",
       "    <tr>\n",
       "      <th>0</th>\n",
       "      <td>1000</td>\n",
       "      <td>12</td>\n",
       "      <td>1901.47</td>\n",
       "    </tr>\n",
       "    <tr>\n",
       "      <th>1</th>\n",
       "      <td>1001</td>\n",
       "      <td>8</td>\n",
       "      <td>6919.15</td>\n",
       "    </tr>\n",
       "    <tr>\n",
       "      <th>2</th>\n",
       "      <td>1001</td>\n",
       "      <td>9</td>\n",
       "      <td>13314.82</td>\n",
       "    </tr>\n",
       "    <tr>\n",
       "      <th>3</th>\n",
       "      <td>1001</td>\n",
       "      <td>10</td>\n",
       "      <td>22330.49</td>\n",
       "    </tr>\n",
       "    <tr>\n",
       "      <th>4</th>\n",
       "      <td>1001</td>\n",
       "      <td>11</td>\n",
       "      <td>18504.30</td>\n",
       "    </tr>\n",
       "    <tr>\n",
       "      <th>...</th>\n",
       "      <td>...</td>\n",
       "      <td>...</td>\n",
       "      <td>...</td>\n",
       "    </tr>\n",
       "    <tr>\n",
       "      <th>2272</th>\n",
       "      <td>1498</td>\n",
       "      <td>12</td>\n",
       "      <td>23137.69</td>\n",
       "    </tr>\n",
       "    <tr>\n",
       "      <th>2273</th>\n",
       "      <td>1499</td>\n",
       "      <td>9</td>\n",
       "      <td>12984.76</td>\n",
       "    </tr>\n",
       "    <tr>\n",
       "      <th>2274</th>\n",
       "      <td>1499</td>\n",
       "      <td>10</td>\n",
       "      <td>19492.43</td>\n",
       "    </tr>\n",
       "    <tr>\n",
       "      <th>2275</th>\n",
       "      <td>1499</td>\n",
       "      <td>11</td>\n",
       "      <td>16813.83</td>\n",
       "    </tr>\n",
       "    <tr>\n",
       "      <th>2276</th>\n",
       "      <td>1499</td>\n",
       "      <td>12</td>\n",
       "      <td>22059.21</td>\n",
       "    </tr>\n",
       "  </tbody>\n",
       "</table>\n",
       "<p>2277 rows × 3 columns</p>\n",
       "</div>"
      ],
      "text/plain": [
       "      user_id  mes  total_mb_usados\n",
       "0        1000   12          1901.47\n",
       "1        1001    8          6919.15\n",
       "2        1001    9         13314.82\n",
       "3        1001   10         22330.49\n",
       "4        1001   11         18504.30\n",
       "...       ...  ...              ...\n",
       "2272     1498   12         23137.69\n",
       "2273     1499    9         12984.76\n",
       "2274     1499   10         19492.43\n",
       "2275     1499   11         16813.83\n",
       "2276     1499   12         22059.21\n",
       "\n",
       "[2277 rows x 3 columns]"
      ]
     },
     "execution_count": 53,
     "metadata": {},
     "output_type": "execute_result"
    }
   ],
   "source": [
    "internet_analytics.columns=['total_mb_usados']\n",
    "internet_analytics = internet_analytics.reset_index()\n",
    "internet_analytics"
   ]
  },
  {
   "cell_type": "markdown",
   "metadata": {},
   "source": [
    "Procederemos a convertir los datos de Mg a Gb y uniremos tablas para una mejor comprensión de la información."
   ]
  },
  {
   "cell_type": "code",
   "execution_count": 54,
   "metadata": {},
   "outputs": [],
   "source": [
    "def datos_redondeo(mb):\n",
    "    redondeo=math.ceil(mb/1024)\n",
    "    return redondeo"
   ]
  },
  {
   "cell_type": "code",
   "execution_count": 55,
   "metadata": {},
   "outputs": [
    {
     "data": {
      "text/html": [
       "<div>\n",
       "<style scoped>\n",
       "    .dataframe tbody tr th:only-of-type {\n",
       "        vertical-align: middle;\n",
       "    }\n",
       "\n",
       "    .dataframe tbody tr th {\n",
       "        vertical-align: top;\n",
       "    }\n",
       "\n",
       "    .dataframe thead th {\n",
       "        text-align: right;\n",
       "    }\n",
       "</style>\n",
       "<table border=\"1\" class=\"dataframe\">\n",
       "  <thead>\n",
       "    <tr style=\"text-align: right;\">\n",
       "      <th></th>\n",
       "      <th>user_id</th>\n",
       "      <th>mes</th>\n",
       "      <th>total_gb_usados</th>\n",
       "    </tr>\n",
       "  </thead>\n",
       "  <tbody>\n",
       "    <tr>\n",
       "      <th>0</th>\n",
       "      <td>1000</td>\n",
       "      <td>12</td>\n",
       "      <td>2</td>\n",
       "    </tr>\n",
       "    <tr>\n",
       "      <th>1</th>\n",
       "      <td>1001</td>\n",
       "      <td>8</td>\n",
       "      <td>7</td>\n",
       "    </tr>\n",
       "    <tr>\n",
       "      <th>2</th>\n",
       "      <td>1001</td>\n",
       "      <td>9</td>\n",
       "      <td>14</td>\n",
       "    </tr>\n",
       "    <tr>\n",
       "      <th>3</th>\n",
       "      <td>1001</td>\n",
       "      <td>10</td>\n",
       "      <td>22</td>\n",
       "    </tr>\n",
       "    <tr>\n",
       "      <th>4</th>\n",
       "      <td>1001</td>\n",
       "      <td>11</td>\n",
       "      <td>19</td>\n",
       "    </tr>\n",
       "    <tr>\n",
       "      <th>...</th>\n",
       "      <td>...</td>\n",
       "      <td>...</td>\n",
       "      <td>...</td>\n",
       "    </tr>\n",
       "    <tr>\n",
       "      <th>2272</th>\n",
       "      <td>1498</td>\n",
       "      <td>12</td>\n",
       "      <td>23</td>\n",
       "    </tr>\n",
       "    <tr>\n",
       "      <th>2273</th>\n",
       "      <td>1499</td>\n",
       "      <td>9</td>\n",
       "      <td>13</td>\n",
       "    </tr>\n",
       "    <tr>\n",
       "      <th>2274</th>\n",
       "      <td>1499</td>\n",
       "      <td>10</td>\n",
       "      <td>20</td>\n",
       "    </tr>\n",
       "    <tr>\n",
       "      <th>2275</th>\n",
       "      <td>1499</td>\n",
       "      <td>11</td>\n",
       "      <td>17</td>\n",
       "    </tr>\n",
       "    <tr>\n",
       "      <th>2276</th>\n",
       "      <td>1499</td>\n",
       "      <td>12</td>\n",
       "      <td>22</td>\n",
       "    </tr>\n",
       "  </tbody>\n",
       "</table>\n",
       "<p>2277 rows × 3 columns</p>\n",
       "</div>"
      ],
      "text/plain": [
       "      user_id  mes  total_gb_usados\n",
       "0        1000   12                2\n",
       "1        1001    8                7\n",
       "2        1001    9               14\n",
       "3        1001   10               22\n",
       "4        1001   11               19\n",
       "...       ...  ...              ...\n",
       "2272     1498   12               23\n",
       "2273     1499    9               13\n",
       "2274     1499   10               20\n",
       "2275     1499   11               17\n",
       "2276     1499   12               22\n",
       "\n",
       "[2277 rows x 3 columns]"
      ]
     },
     "execution_count": 55,
     "metadata": {},
     "output_type": "execute_result"
    }
   ],
   "source": [
    "internet_analytics['total_gb_usados'] = internet_analytics ['total_mb_usados'].apply(datos_redondeo)\n",
    "internet_analytics.drop(columns = ['total_mb_usados'], inplace = True)\n",
    "internet_analytics"
   ]
  },
  {
   "cell_type": "code",
   "execution_count": 56,
   "metadata": {
    "id": "FW99ykyf0q1H"
   },
   "outputs": [
    {
     "data": {
      "text/html": [
       "<div>\n",
       "<style scoped>\n",
       "    .dataframe tbody tr th:only-of-type {\n",
       "        vertical-align: middle;\n",
       "    }\n",
       "\n",
       "    .dataframe tbody tr th {\n",
       "        vertical-align: top;\n",
       "    }\n",
       "\n",
       "    .dataframe thead th {\n",
       "        text-align: right;\n",
       "    }\n",
       "</style>\n",
       "<table border=\"1\" class=\"dataframe\">\n",
       "  <thead>\n",
       "    <tr style=\"text-align: right;\">\n",
       "      <th></th>\n",
       "      <th>user_id</th>\n",
       "      <th>mes</th>\n",
       "      <th>minutos</th>\n",
       "      <th>llamadas_hechas</th>\n",
       "      <th>num_mensajes</th>\n",
       "      <th>total_gb_usados</th>\n",
       "    </tr>\n",
       "  </thead>\n",
       "  <tbody>\n",
       "    <tr>\n",
       "      <th>0</th>\n",
       "      <td>1000</td>\n",
       "      <td>12</td>\n",
       "      <td>124.0</td>\n",
       "      <td>16.0</td>\n",
       "      <td>11.0</td>\n",
       "      <td>2.0</td>\n",
       "    </tr>\n",
       "    <tr>\n",
       "      <th>1</th>\n",
       "      <td>1001</td>\n",
       "      <td>8</td>\n",
       "      <td>182.0</td>\n",
       "      <td>27.0</td>\n",
       "      <td>30.0</td>\n",
       "      <td>7.0</td>\n",
       "    </tr>\n",
       "    <tr>\n",
       "      <th>2</th>\n",
       "      <td>1001</td>\n",
       "      <td>9</td>\n",
       "      <td>315.0</td>\n",
       "      <td>49.0</td>\n",
       "      <td>44.0</td>\n",
       "      <td>14.0</td>\n",
       "    </tr>\n",
       "    <tr>\n",
       "      <th>3</th>\n",
       "      <td>1001</td>\n",
       "      <td>10</td>\n",
       "      <td>393.0</td>\n",
       "      <td>65.0</td>\n",
       "      <td>53.0</td>\n",
       "      <td>22.0</td>\n",
       "    </tr>\n",
       "    <tr>\n",
       "      <th>4</th>\n",
       "      <td>1001</td>\n",
       "      <td>11</td>\n",
       "      <td>426.0</td>\n",
       "      <td>64.0</td>\n",
       "      <td>36.0</td>\n",
       "      <td>19.0</td>\n",
       "    </tr>\n",
       "    <tr>\n",
       "      <th>...</th>\n",
       "      <td>...</td>\n",
       "      <td>...</td>\n",
       "      <td>...</td>\n",
       "      <td>...</td>\n",
       "      <td>...</td>\n",
       "      <td>...</td>\n",
       "    </tr>\n",
       "    <tr>\n",
       "      <th>2288</th>\n",
       "      <td>1349</td>\n",
       "      <td>12</td>\n",
       "      <td>NaN</td>\n",
       "      <td>NaN</td>\n",
       "      <td>61.0</td>\n",
       "      <td>13.0</td>\n",
       "    </tr>\n",
       "    <tr>\n",
       "      <th>2289</th>\n",
       "      <td>1361</td>\n",
       "      <td>5</td>\n",
       "      <td>NaN</td>\n",
       "      <td>NaN</td>\n",
       "      <td>2.0</td>\n",
       "      <td>2.0</td>\n",
       "    </tr>\n",
       "    <tr>\n",
       "      <th>2290</th>\n",
       "      <td>1482</td>\n",
       "      <td>10</td>\n",
       "      <td>NaN</td>\n",
       "      <td>NaN</td>\n",
       "      <td>2.0</td>\n",
       "      <td>NaN</td>\n",
       "    </tr>\n",
       "    <tr>\n",
       "      <th>2291</th>\n",
       "      <td>1108</td>\n",
       "      <td>12</td>\n",
       "      <td>NaN</td>\n",
       "      <td>NaN</td>\n",
       "      <td>NaN</td>\n",
       "      <td>1.0</td>\n",
       "    </tr>\n",
       "    <tr>\n",
       "      <th>2292</th>\n",
       "      <td>1311</td>\n",
       "      <td>6</td>\n",
       "      <td>NaN</td>\n",
       "      <td>NaN</td>\n",
       "      <td>NaN</td>\n",
       "      <td>2.0</td>\n",
       "    </tr>\n",
       "  </tbody>\n",
       "</table>\n",
       "<p>2293 rows × 6 columns</p>\n",
       "</div>"
      ],
      "text/plain": [
       "      user_id  mes  minutos  llamadas_hechas  num_mensajes  total_gb_usados\n",
       "0        1000   12    124.0             16.0          11.0              2.0\n",
       "1        1001    8    182.0             27.0          30.0              7.0\n",
       "2        1001    9    315.0             49.0          44.0             14.0\n",
       "3        1001   10    393.0             65.0          53.0             22.0\n",
       "4        1001   11    426.0             64.0          36.0             19.0\n",
       "...       ...  ...      ...              ...           ...              ...\n",
       "2288     1349   12      NaN              NaN          61.0             13.0\n",
       "2289     1361    5      NaN              NaN           2.0              2.0\n",
       "2290     1482   10      NaN              NaN           2.0              NaN\n",
       "2291     1108   12      NaN              NaN           NaN              1.0\n",
       "2292     1311    6      NaN              NaN           NaN              2.0\n",
       "\n",
       "[2293 rows x 6 columns]"
      ]
     },
     "execution_count": 56,
     "metadata": {},
     "output_type": "execute_result"
    }
   ],
   "source": [
    "# Fusiona los datos de llamadas, minutos, mensajes e Internet con base en user_id y month\n",
    "tabla_consumo_total = calls_analytics.merge(msn_analytics, on=['user_id','mes'], how= 'outer').merge(internet_analytics, on= ['user_id','mes'], how= 'outer')\n",
    "tabla_consumo_total"
   ]
  },
  {
   "cell_type": "markdown",
   "metadata": {},
   "source": [
    "<div class=\"alert alert-block alert-success\">\n",
    "<b>Éxito</b> <a class=\"tocSkip\"></a>\n",
    "    \n",
    "Realizaste una unión de DataFrames para crear un DataFrame consolidado con información de llamadas, mensajes e internet por usuario y mes.\n",
    "\n",
    "    \n",
    "</div>"
   ]
  },
  {
   "cell_type": "code",
   "execution_count": 57,
   "metadata": {
    "id": "0dNOXHag0q1H"
   },
   "outputs": [
    {
     "data": {
      "text/html": [
       "<div>\n",
       "<style scoped>\n",
       "    .dataframe tbody tr th:only-of-type {\n",
       "        vertical-align: middle;\n",
       "    }\n",
       "\n",
       "    .dataframe tbody tr th {\n",
       "        vertical-align: top;\n",
       "    }\n",
       "\n",
       "    .dataframe thead th {\n",
       "        text-align: right;\n",
       "    }\n",
       "</style>\n",
       "<table border=\"1\" class=\"dataframe\">\n",
       "  <thead>\n",
       "    <tr style=\"text-align: right;\">\n",
       "      <th></th>\n",
       "      <th>user_id</th>\n",
       "      <th>plan_id</th>\n",
       "      <th>city</th>\n",
       "    </tr>\n",
       "  </thead>\n",
       "  <tbody>\n",
       "    <tr>\n",
       "      <th>0</th>\n",
       "      <td>1000</td>\n",
       "      <td>ultimate</td>\n",
       "      <td>Atlanta-Sandy Springs-Roswell, GA MSA</td>\n",
       "    </tr>\n",
       "    <tr>\n",
       "      <th>1</th>\n",
       "      <td>1001</td>\n",
       "      <td>surf</td>\n",
       "      <td>Seattle-Tacoma-Bellevue, WA MSA</td>\n",
       "    </tr>\n",
       "    <tr>\n",
       "      <th>2</th>\n",
       "      <td>1002</td>\n",
       "      <td>surf</td>\n",
       "      <td>Las Vegas-Henderson-Paradise, NV MSA</td>\n",
       "    </tr>\n",
       "    <tr>\n",
       "      <th>3</th>\n",
       "      <td>1003</td>\n",
       "      <td>surf</td>\n",
       "      <td>Tulsa, OK MSA</td>\n",
       "    </tr>\n",
       "    <tr>\n",
       "      <th>4</th>\n",
       "      <td>1004</td>\n",
       "      <td>surf</td>\n",
       "      <td>Seattle-Tacoma-Bellevue, WA MSA</td>\n",
       "    </tr>\n",
       "    <tr>\n",
       "      <th>...</th>\n",
       "      <td>...</td>\n",
       "      <td>...</td>\n",
       "      <td>...</td>\n",
       "    </tr>\n",
       "    <tr>\n",
       "      <th>495</th>\n",
       "      <td>1495</td>\n",
       "      <td>surf</td>\n",
       "      <td>New York-Newark-Jersey City, NY-NJ-PA MSA</td>\n",
       "    </tr>\n",
       "    <tr>\n",
       "      <th>496</th>\n",
       "      <td>1496</td>\n",
       "      <td>surf</td>\n",
       "      <td>New Orleans-Metairie, LA MSA</td>\n",
       "    </tr>\n",
       "    <tr>\n",
       "      <th>497</th>\n",
       "      <td>1497</td>\n",
       "      <td>ultimate</td>\n",
       "      <td>Los Angeles-Long Beach-Anaheim, CA MSA</td>\n",
       "    </tr>\n",
       "    <tr>\n",
       "      <th>498</th>\n",
       "      <td>1498</td>\n",
       "      <td>surf</td>\n",
       "      <td>New York-Newark-Jersey City, NY-NJ-PA MSA</td>\n",
       "    </tr>\n",
       "    <tr>\n",
       "      <th>499</th>\n",
       "      <td>1499</td>\n",
       "      <td>surf</td>\n",
       "      <td>Orlando-Kissimmee-Sanford, FL MSA</td>\n",
       "    </tr>\n",
       "  </tbody>\n",
       "</table>\n",
       "<p>500 rows × 3 columns</p>\n",
       "</div>"
      ],
      "text/plain": [
       "     user_id   plan_id                                       city\n",
       "0       1000  ultimate      Atlanta-Sandy Springs-Roswell, GA MSA\n",
       "1       1001      surf            Seattle-Tacoma-Bellevue, WA MSA\n",
       "2       1002      surf       Las Vegas-Henderson-Paradise, NV MSA\n",
       "3       1003      surf                              Tulsa, OK MSA\n",
       "4       1004      surf            Seattle-Tacoma-Bellevue, WA MSA\n",
       "..       ...       ...                                        ...\n",
       "495     1495      surf  New York-Newark-Jersey City, NY-NJ-PA MSA\n",
       "496     1496      surf               New Orleans-Metairie, LA MSA\n",
       "497     1497  ultimate     Los Angeles-Long Beach-Anaheim, CA MSA\n",
       "498     1498      surf  New York-Newark-Jersey City, NY-NJ-PA MSA\n",
       "499     1499      surf          Orlando-Kissimmee-Sanford, FL MSA\n",
       "\n",
       "[500 rows x 3 columns]"
      ]
     },
     "execution_count": 57,
     "metadata": {},
     "output_type": "execute_result"
    }
   ],
   "source": [
    "# Añade la información de la tarifa\n",
    "plan_analytics = users_df[['user_id', 'plan_id', 'city']]\n",
    "plan_analytics"
   ]
  },
  {
   "cell_type": "code",
   "execution_count": 58,
   "metadata": {},
   "outputs": [
    {
     "data": {
      "text/html": [
       "<div>\n",
       "<style scoped>\n",
       "    .dataframe tbody tr th:only-of-type {\n",
       "        vertical-align: middle;\n",
       "    }\n",
       "\n",
       "    .dataframe tbody tr th {\n",
       "        vertical-align: top;\n",
       "    }\n",
       "\n",
       "    .dataframe thead th {\n",
       "        text-align: right;\n",
       "    }\n",
       "</style>\n",
       "<table border=\"1\" class=\"dataframe\">\n",
       "  <thead>\n",
       "    <tr style=\"text-align: right;\">\n",
       "      <th></th>\n",
       "      <th>user_id</th>\n",
       "      <th>mes</th>\n",
       "      <th>minutos</th>\n",
       "      <th>llamadas_hechas</th>\n",
       "      <th>num_mensajes</th>\n",
       "      <th>total_gb_usados</th>\n",
       "      <th>plan_id</th>\n",
       "      <th>city</th>\n",
       "    </tr>\n",
       "  </thead>\n",
       "  <tbody>\n",
       "    <tr>\n",
       "      <th>0</th>\n",
       "      <td>1000</td>\n",
       "      <td>12.0</td>\n",
       "      <td>124.0</td>\n",
       "      <td>16.0</td>\n",
       "      <td>11.0</td>\n",
       "      <td>2.0</td>\n",
       "      <td>ultimate</td>\n",
       "      <td>Atlanta-Sandy Springs-Roswell, GA MSA</td>\n",
       "    </tr>\n",
       "    <tr>\n",
       "      <th>1</th>\n",
       "      <td>1001</td>\n",
       "      <td>8.0</td>\n",
       "      <td>182.0</td>\n",
       "      <td>27.0</td>\n",
       "      <td>30.0</td>\n",
       "      <td>7.0</td>\n",
       "      <td>surf</td>\n",
       "      <td>Seattle-Tacoma-Bellevue, WA MSA</td>\n",
       "    </tr>\n",
       "    <tr>\n",
       "      <th>2</th>\n",
       "      <td>1001</td>\n",
       "      <td>9.0</td>\n",
       "      <td>315.0</td>\n",
       "      <td>49.0</td>\n",
       "      <td>44.0</td>\n",
       "      <td>14.0</td>\n",
       "      <td>surf</td>\n",
       "      <td>Seattle-Tacoma-Bellevue, WA MSA</td>\n",
       "    </tr>\n",
       "    <tr>\n",
       "      <th>3</th>\n",
       "      <td>1001</td>\n",
       "      <td>10.0</td>\n",
       "      <td>393.0</td>\n",
       "      <td>65.0</td>\n",
       "      <td>53.0</td>\n",
       "      <td>22.0</td>\n",
       "      <td>surf</td>\n",
       "      <td>Seattle-Tacoma-Bellevue, WA MSA</td>\n",
       "    </tr>\n",
       "    <tr>\n",
       "      <th>4</th>\n",
       "      <td>1001</td>\n",
       "      <td>11.0</td>\n",
       "      <td>426.0</td>\n",
       "      <td>64.0</td>\n",
       "      <td>36.0</td>\n",
       "      <td>19.0</td>\n",
       "      <td>surf</td>\n",
       "      <td>Seattle-Tacoma-Bellevue, WA MSA</td>\n",
       "    </tr>\n",
       "    <tr>\n",
       "      <th>...</th>\n",
       "      <td>...</td>\n",
       "      <td>...</td>\n",
       "      <td>...</td>\n",
       "      <td>...</td>\n",
       "      <td>...</td>\n",
       "      <td>...</td>\n",
       "      <td>...</td>\n",
       "      <td>...</td>\n",
       "    </tr>\n",
       "    <tr>\n",
       "      <th>2298</th>\n",
       "      <td>1307</td>\n",
       "      <td>NaN</td>\n",
       "      <td>NaN</td>\n",
       "      <td>NaN</td>\n",
       "      <td>NaN</td>\n",
       "      <td>NaN</td>\n",
       "      <td>surf</td>\n",
       "      <td>Boston-Cambridge-Newton, MA-NH MSA</td>\n",
       "    </tr>\n",
       "    <tr>\n",
       "      <th>2299</th>\n",
       "      <td>1319</td>\n",
       "      <td>NaN</td>\n",
       "      <td>NaN</td>\n",
       "      <td>NaN</td>\n",
       "      <td>NaN</td>\n",
       "      <td>NaN</td>\n",
       "      <td>surf</td>\n",
       "      <td>Colorado Springs, CO MSA</td>\n",
       "    </tr>\n",
       "    <tr>\n",
       "      <th>2300</th>\n",
       "      <td>1378</td>\n",
       "      <td>NaN</td>\n",
       "      <td>NaN</td>\n",
       "      <td>NaN</td>\n",
       "      <td>NaN</td>\n",
       "      <td>NaN</td>\n",
       "      <td>surf</td>\n",
       "      <td>Denver-Aurora-Lakewood, CO MSA</td>\n",
       "    </tr>\n",
       "    <tr>\n",
       "      <th>2301</th>\n",
       "      <td>1463</td>\n",
       "      <td>NaN</td>\n",
       "      <td>NaN</td>\n",
       "      <td>NaN</td>\n",
       "      <td>NaN</td>\n",
       "      <td>NaN</td>\n",
       "      <td>ultimate</td>\n",
       "      <td>Atlanta-Sandy Springs-Roswell, GA MSA</td>\n",
       "    </tr>\n",
       "    <tr>\n",
       "      <th>2302</th>\n",
       "      <td>1473</td>\n",
       "      <td>NaN</td>\n",
       "      <td>NaN</td>\n",
       "      <td>NaN</td>\n",
       "      <td>NaN</td>\n",
       "      <td>NaN</td>\n",
       "      <td>surf</td>\n",
       "      <td>Louisville/Jefferson County, KY-IN MSA</td>\n",
       "    </tr>\n",
       "  </tbody>\n",
       "</table>\n",
       "<p>2303 rows × 8 columns</p>\n",
       "</div>"
      ],
      "text/plain": [
       "      user_id   mes  minutos  llamadas_hechas  num_mensajes  total_gb_usados  \\\n",
       "0        1000  12.0    124.0             16.0          11.0              2.0   \n",
       "1        1001   8.0    182.0             27.0          30.0              7.0   \n",
       "2        1001   9.0    315.0             49.0          44.0             14.0   \n",
       "3        1001  10.0    393.0             65.0          53.0             22.0   \n",
       "4        1001  11.0    426.0             64.0          36.0             19.0   \n",
       "...       ...   ...      ...              ...           ...              ...   \n",
       "2298     1307   NaN      NaN              NaN           NaN              NaN   \n",
       "2299     1319   NaN      NaN              NaN           NaN              NaN   \n",
       "2300     1378   NaN      NaN              NaN           NaN              NaN   \n",
       "2301     1463   NaN      NaN              NaN           NaN              NaN   \n",
       "2302     1473   NaN      NaN              NaN           NaN              NaN   \n",
       "\n",
       "       plan_id                                    city  \n",
       "0     ultimate   Atlanta-Sandy Springs-Roswell, GA MSA  \n",
       "1         surf         Seattle-Tacoma-Bellevue, WA MSA  \n",
       "2         surf         Seattle-Tacoma-Bellevue, WA MSA  \n",
       "3         surf         Seattle-Tacoma-Bellevue, WA MSA  \n",
       "4         surf         Seattle-Tacoma-Bellevue, WA MSA  \n",
       "...        ...                                     ...  \n",
       "2298      surf      Boston-Cambridge-Newton, MA-NH MSA  \n",
       "2299      surf                Colorado Springs, CO MSA  \n",
       "2300      surf          Denver-Aurora-Lakewood, CO MSA  \n",
       "2301  ultimate   Atlanta-Sandy Springs-Roswell, GA MSA  \n",
       "2302      surf  Louisville/Jefferson County, KY-IN MSA  \n",
       "\n",
       "[2303 rows x 8 columns]"
      ]
     },
     "execution_count": 58,
     "metadata": {},
     "output_type": "execute_result"
    }
   ],
   "source": [
    "tabla_general = tabla_consumo_total.merge(plan_analytics, on= ['user_id'], how= 'outer')\n",
    "tabla_general"
   ]
  },
  {
   "cell_type": "code",
   "execution_count": 59,
   "metadata": {},
   "outputs": [
    {
     "data": {
      "text/plain": [
       "490"
      ]
     },
     "execution_count": 59,
     "metadata": {},
     "output_type": "execute_result"
    }
   ],
   "source": [
    "len(tabla_consumo_total['user_id'].unique())\n",
    "# solo hay 490 usarios que consumieron al menos algo en 2018"
   ]
  },
  {
   "cell_type": "code",
   "execution_count": 60,
   "metadata": {},
   "outputs": [
    {
     "data": {
      "text/plain": [
       "10"
      ]
     },
     "execution_count": 60,
     "metadata": {},
     "output_type": "execute_result"
    }
   ],
   "source": [
    "len(tabla_general[tabla_general['mes'].isna()])\n",
    "# hay 10 usuarios que no realizaron ningun consumo"
   ]
  },
  {
   "cell_type": "markdown",
   "metadata": {
    "id": "1IwGo4wg0q1I"
   },
   "source": [
    "Procederemos a calcular los ingresos mensuales por usuario."
   ]
  },
  {
   "cell_type": "code",
   "execution_count": 61,
   "metadata": {
    "id": "5FGCf_c60q1I"
   },
   "outputs": [],
   "source": [
    "# Calcula el ingreso mensual para cada usuario\n"
   ]
  },
  {
   "cell_type": "code",
   "execution_count": 62,
   "metadata": {},
   "outputs": [
    {
     "data": {
      "text/html": [
       "<div>\n",
       "<style scoped>\n",
       "    .dataframe tbody tr th:only-of-type {\n",
       "        vertical-align: middle;\n",
       "    }\n",
       "\n",
       "    .dataframe tbody tr th {\n",
       "        vertical-align: top;\n",
       "    }\n",
       "\n",
       "    .dataframe thead th {\n",
       "        text-align: right;\n",
       "    }\n",
       "</style>\n",
       "<table border=\"1\" class=\"dataframe\">\n",
       "  <thead>\n",
       "    <tr style=\"text-align: right;\">\n",
       "      <th></th>\n",
       "      <th>messages_included</th>\n",
       "      <th>mb_per_month_included</th>\n",
       "      <th>minutes_included</th>\n",
       "      <th>usd_monthly_pay</th>\n",
       "      <th>usd_per_gb</th>\n",
       "      <th>usd_per_message</th>\n",
       "      <th>usd_per_minute</th>\n",
       "      <th>plan_name</th>\n",
       "    </tr>\n",
       "  </thead>\n",
       "  <tbody>\n",
       "    <tr>\n",
       "      <th>0</th>\n",
       "      <td>50</td>\n",
       "      <td>15360</td>\n",
       "      <td>500</td>\n",
       "      <td>20</td>\n",
       "      <td>10</td>\n",
       "      <td>0.03</td>\n",
       "      <td>0.03</td>\n",
       "      <td>surf</td>\n",
       "    </tr>\n",
       "    <tr>\n",
       "      <th>1</th>\n",
       "      <td>1000</td>\n",
       "      <td>30720</td>\n",
       "      <td>3000</td>\n",
       "      <td>70</td>\n",
       "      <td>7</td>\n",
       "      <td>0.01</td>\n",
       "      <td>0.01</td>\n",
       "      <td>ultimate</td>\n",
       "    </tr>\n",
       "  </tbody>\n",
       "</table>\n",
       "</div>"
      ],
      "text/plain": [
       "   messages_included  mb_per_month_included  minutes_included  \\\n",
       "0                 50                  15360               500   \n",
       "1               1000                  30720              3000   \n",
       "\n",
       "   usd_monthly_pay  usd_per_gb  usd_per_message  usd_per_minute plan_name  \n",
       "0               20          10             0.03            0.03      surf  \n",
       "1               70           7             0.01            0.01  ultimate  "
      ]
     },
     "execution_count": 62,
     "metadata": {},
     "output_type": "execute_result"
    }
   ],
   "source": [
    "plans_df"
   ]
  },
  {
   "cell_type": "markdown",
   "metadata": {},
   "source": [
    "Vamos a crear una variable para calcular los costos por cobrar de las llamadas, posteriormente lo haremos para mensajes y Gb."
   ]
  },
  {
   "cell_type": "code",
   "execution_count": 63,
   "metadata": {},
   "outputs": [],
   "source": [
    "surf_monthly_charge = 20\n",
    "surf_monthly_minutes = 500\n",
    "surf_monthly_messages = 50\n",
    "surf_monthly_data = 15\n",
    "surf_call_charge = 0.03\n",
    "surf_message_charge = 0.03\n",
    "surf_data_charge = 10\n",
    "\n",
    "ultimate_monthly_charge = 70\n",
    "ultimate_monthly_minutes = 3000\n",
    "ultimate_monthly_messages = 1000\n",
    "ultimate_monthly_data = 30\n",
    "ultimate_call_charge = 0.01\n",
    "ultimate_message_charge = 0.01\n",
    "ultimate_data_charge = 7"
   ]
  },
  {
   "cell_type": "code",
   "execution_count": 64,
   "metadata": {},
   "outputs": [],
   "source": [
    "def calls_to_charge(fila):\n",
    "    plan = fila ['plan_id']\n",
    "    minutos = fila ['minutos'] \n",
    "    \n",
    "    minutos_cobrables = 0\n",
    "    \n",
    "    if plan == 'surf':\n",
    "        if minutos > surf_monthly_minutes:\n",
    "            minutos_cobrables = minutos - surf_monthly_minutes\n",
    "    elif plan == 'ultimate':\n",
    "        if minutos > ultimate_monthly_minutes:\n",
    "            minutos_cobrables = minutos - ultimate_monthly_minutes\n",
    "    return minutos_cobrables"
   ]
  },
  {
   "cell_type": "code",
   "execution_count": 65,
   "metadata": {},
   "outputs": [
    {
     "data": {
      "text/html": [
       "<div>\n",
       "<style scoped>\n",
       "    .dataframe tbody tr th:only-of-type {\n",
       "        vertical-align: middle;\n",
       "    }\n",
       "\n",
       "    .dataframe tbody tr th {\n",
       "        vertical-align: top;\n",
       "    }\n",
       "\n",
       "    .dataframe thead th {\n",
       "        text-align: right;\n",
       "    }\n",
       "</style>\n",
       "<table border=\"1\" class=\"dataframe\">\n",
       "  <thead>\n",
       "    <tr style=\"text-align: right;\">\n",
       "      <th></th>\n",
       "      <th>user_id</th>\n",
       "      <th>mes</th>\n",
       "      <th>minutos</th>\n",
       "      <th>llamadas_hechas</th>\n",
       "      <th>num_mensajes</th>\n",
       "      <th>total_gb_usados</th>\n",
       "      <th>plan_id</th>\n",
       "      <th>city</th>\n",
       "      <th>minutos_cobrables</th>\n",
       "    </tr>\n",
       "  </thead>\n",
       "  <tbody>\n",
       "    <tr>\n",
       "      <th>1676</th>\n",
       "      <td>1366</td>\n",
       "      <td>10.0</td>\n",
       "      <td>651.0</td>\n",
       "      <td>98.0</td>\n",
       "      <td>12.0</td>\n",
       "      <td>20.0</td>\n",
       "      <td>surf</td>\n",
       "      <td>Cincinnati, OH-KY-IN MSA</td>\n",
       "      <td>151.0</td>\n",
       "    </tr>\n",
       "    <tr>\n",
       "      <th>430</th>\n",
       "      <td>1091</td>\n",
       "      <td>11.0</td>\n",
       "      <td>532.0</td>\n",
       "      <td>72.0</td>\n",
       "      <td>51.0</td>\n",
       "      <td>7.0</td>\n",
       "      <td>ultimate</td>\n",
       "      <td>Riverside-San Bernardino-Ontario, CA MSA</td>\n",
       "      <td>0.0</td>\n",
       "    </tr>\n",
       "    <tr>\n",
       "      <th>402</th>\n",
       "      <td>1084</td>\n",
       "      <td>10.0</td>\n",
       "      <td>233.0</td>\n",
       "      <td>29.0</td>\n",
       "      <td>36.0</td>\n",
       "      <td>8.0</td>\n",
       "      <td>surf</td>\n",
       "      <td>Miami-Fort Lauderdale-West Palm Beach, FL MSA</td>\n",
       "      <td>0.0</td>\n",
       "    </tr>\n",
       "    <tr>\n",
       "      <th>475</th>\n",
       "      <td>1101</td>\n",
       "      <td>7.0</td>\n",
       "      <td>302.0</td>\n",
       "      <td>47.0</td>\n",
       "      <td>66.0</td>\n",
       "      <td>14.0</td>\n",
       "      <td>surf</td>\n",
       "      <td>Washington-Arlington-Alexandria, DC-VA-MD-WV MSA</td>\n",
       "      <td>0.0</td>\n",
       "    </tr>\n",
       "    <tr>\n",
       "      <th>426</th>\n",
       "      <td>1090</td>\n",
       "      <td>10.0</td>\n",
       "      <td>453.0</td>\n",
       "      <td>74.0</td>\n",
       "      <td>21.0</td>\n",
       "      <td>13.0</td>\n",
       "      <td>surf</td>\n",
       "      <td>Indianapolis-Carmel-Anderson, IN MSA</td>\n",
       "      <td>0.0</td>\n",
       "    </tr>\n",
       "  </tbody>\n",
       "</table>\n",
       "</div>"
      ],
      "text/plain": [
       "      user_id   mes  minutos  llamadas_hechas  num_mensajes  total_gb_usados  \\\n",
       "1676     1366  10.0    651.0             98.0          12.0             20.0   \n",
       "430      1091  11.0    532.0             72.0          51.0              7.0   \n",
       "402      1084  10.0    233.0             29.0          36.0              8.0   \n",
       "475      1101   7.0    302.0             47.0          66.0             14.0   \n",
       "426      1090  10.0    453.0             74.0          21.0             13.0   \n",
       "\n",
       "       plan_id                                              city  \\\n",
       "1676      surf                          Cincinnati, OH-KY-IN MSA   \n",
       "430   ultimate          Riverside-San Bernardino-Ontario, CA MSA   \n",
       "402       surf     Miami-Fort Lauderdale-West Palm Beach, FL MSA   \n",
       "475       surf  Washington-Arlington-Alexandria, DC-VA-MD-WV MSA   \n",
       "426       surf              Indianapolis-Carmel-Anderson, IN MSA   \n",
       "\n",
       "      minutos_cobrables  \n",
       "1676              151.0  \n",
       "430                 0.0  \n",
       "402                 0.0  \n",
       "475                 0.0  \n",
       "426                 0.0  "
      ]
     },
     "execution_count": 65,
     "metadata": {},
     "output_type": "execute_result"
    }
   ],
   "source": [
    "tabla_general['minutos_cobrables'] = tabla_general.apply(calls_to_charge,axis=1)\n",
    "tabla_general.sample(5)"
   ]
  },
  {
   "cell_type": "code",
   "execution_count": 66,
   "metadata": {},
   "outputs": [
    {
     "data": {
      "text/plain": [
       "24.57663916630482"
      ]
     },
     "execution_count": 66,
     "metadata": {},
     "output_type": "execute_result"
    }
   ],
   "source": [
    "len(tabla_general.query('minutos_cobrables > 0'))/len(tabla_general) *100"
   ]
  },
  {
   "cell_type": "markdown",
   "metadata": {},
   "source": [
    "Se va a cobrar aproximadamente el 24% de las llamadas extras.\n"
   ]
  },
  {
   "cell_type": "code",
   "execution_count": 67,
   "metadata": {},
   "outputs": [],
   "source": [
    "def messages_to_charge(fila):\n",
    "    plan = fila ['plan_id']\n",
    "    num_mensajes = fila ['num_mensajes'] \n",
    "    \n",
    "    mensajes_cobrables = 0\n",
    "    \n",
    "    if plan == 'surf':\n",
    "        if num_mensajes > surf_monthly_messages:\n",
    "            mensajes_cobrables = num_mensajes - surf_monthly_messages\n",
    "    elif plan == 'ultimate':\n",
    "        if num_mensajes > ultimate_monthly_messages:\n",
    "            mensajes_cobrables = num_mensajes - ultimate_monthly_messages\n",
    "    return mensajes_cobrables"
   ]
  },
  {
   "cell_type": "code",
   "execution_count": 68,
   "metadata": {},
   "outputs": [
    {
     "data": {
      "text/html": [
       "<div>\n",
       "<style scoped>\n",
       "    .dataframe tbody tr th:only-of-type {\n",
       "        vertical-align: middle;\n",
       "    }\n",
       "\n",
       "    .dataframe tbody tr th {\n",
       "        vertical-align: top;\n",
       "    }\n",
       "\n",
       "    .dataframe thead th {\n",
       "        text-align: right;\n",
       "    }\n",
       "</style>\n",
       "<table border=\"1\" class=\"dataframe\">\n",
       "  <thead>\n",
       "    <tr style=\"text-align: right;\">\n",
       "      <th></th>\n",
       "      <th>user_id</th>\n",
       "      <th>mes</th>\n",
       "      <th>minutos</th>\n",
       "      <th>llamadas_hechas</th>\n",
       "      <th>num_mensajes</th>\n",
       "      <th>total_gb_usados</th>\n",
       "      <th>plan_id</th>\n",
       "      <th>city</th>\n",
       "      <th>minutos_cobrables</th>\n",
       "      <th>mensajes_cobrables</th>\n",
       "    </tr>\n",
       "  </thead>\n",
       "  <tbody>\n",
       "    <tr>\n",
       "      <th>1024</th>\n",
       "      <td>1220</td>\n",
       "      <td>10.0</td>\n",
       "      <td>634.0</td>\n",
       "      <td>91.0</td>\n",
       "      <td>35.0</td>\n",
       "      <td>20.0</td>\n",
       "      <td>surf</td>\n",
       "      <td>Cincinnati, OH-KY-IN MSA</td>\n",
       "      <td>134.0</td>\n",
       "      <td>0.0</td>\n",
       "    </tr>\n",
       "    <tr>\n",
       "      <th>2239</th>\n",
       "      <td>1495</td>\n",
       "      <td>10.0</td>\n",
       "      <td>610.0</td>\n",
       "      <td>75.0</td>\n",
       "      <td>NaN</td>\n",
       "      <td>27.0</td>\n",
       "      <td>surf</td>\n",
       "      <td>New York-Newark-Jersey City, NY-NJ-PA MSA</td>\n",
       "      <td>110.0</td>\n",
       "      <td>0.0</td>\n",
       "    </tr>\n",
       "    <tr>\n",
       "      <th>106</th>\n",
       "      <td>1029</td>\n",
       "      <td>9.0</td>\n",
       "      <td>763.0</td>\n",
       "      <td>116.0</td>\n",
       "      <td>9.0</td>\n",
       "      <td>14.0</td>\n",
       "      <td>surf</td>\n",
       "      <td>Tampa-St. Petersburg-Clearwater, FL MSA</td>\n",
       "      <td>263.0</td>\n",
       "      <td>0.0</td>\n",
       "    </tr>\n",
       "    <tr>\n",
       "      <th>1109</th>\n",
       "      <td>1241</td>\n",
       "      <td>12.0</td>\n",
       "      <td>582.0</td>\n",
       "      <td>80.0</td>\n",
       "      <td>45.0</td>\n",
       "      <td>14.0</td>\n",
       "      <td>surf</td>\n",
       "      <td>Richmond, VA MSA</td>\n",
       "      <td>82.0</td>\n",
       "      <td>0.0</td>\n",
       "    </tr>\n",
       "    <tr>\n",
       "      <th>1028</th>\n",
       "      <td>1222</td>\n",
       "      <td>6.0</td>\n",
       "      <td>14.0</td>\n",
       "      <td>2.0</td>\n",
       "      <td>2.0</td>\n",
       "      <td>NaN</td>\n",
       "      <td>surf</td>\n",
       "      <td>Los Angeles-Long Beach-Anaheim, CA MSA</td>\n",
       "      <td>0.0</td>\n",
       "      <td>0.0</td>\n",
       "    </tr>\n",
       "    <tr>\n",
       "      <th>1001</th>\n",
       "      <td>1214</td>\n",
       "      <td>10.0</td>\n",
       "      <td>516.0</td>\n",
       "      <td>68.0</td>\n",
       "      <td>16.0</td>\n",
       "      <td>22.0</td>\n",
       "      <td>ultimate</td>\n",
       "      <td>San Francisco-Oakland-Berkeley, CA MSA</td>\n",
       "      <td>0.0</td>\n",
       "      <td>0.0</td>\n",
       "    </tr>\n",
       "  </tbody>\n",
       "</table>\n",
       "</div>"
      ],
      "text/plain": [
       "      user_id   mes  minutos  llamadas_hechas  num_mensajes  total_gb_usados  \\\n",
       "1024     1220  10.0    634.0             91.0          35.0             20.0   \n",
       "2239     1495  10.0    610.0             75.0           NaN             27.0   \n",
       "106      1029   9.0    763.0            116.0           9.0             14.0   \n",
       "1109     1241  12.0    582.0             80.0          45.0             14.0   \n",
       "1028     1222   6.0     14.0              2.0           2.0              NaN   \n",
       "1001     1214  10.0    516.0             68.0          16.0             22.0   \n",
       "\n",
       "       plan_id                                       city  minutos_cobrables  \\\n",
       "1024      surf                   Cincinnati, OH-KY-IN MSA              134.0   \n",
       "2239      surf  New York-Newark-Jersey City, NY-NJ-PA MSA              110.0   \n",
       "106       surf    Tampa-St. Petersburg-Clearwater, FL MSA              263.0   \n",
       "1109      surf                           Richmond, VA MSA               82.0   \n",
       "1028      surf     Los Angeles-Long Beach-Anaheim, CA MSA                0.0   \n",
       "1001  ultimate     San Francisco-Oakland-Berkeley, CA MSA                0.0   \n",
       "\n",
       "      mensajes_cobrables  \n",
       "1024                 0.0  \n",
       "2239                 0.0  \n",
       "106                  0.0  \n",
       "1109                 0.0  \n",
       "1028                 0.0  \n",
       "1001                 0.0  "
      ]
     },
     "execution_count": 68,
     "metadata": {},
     "output_type": "execute_result"
    }
   ],
   "source": [
    "tabla_general['mensajes_cobrables'] = tabla_general.apply(messages_to_charge,axis=1)\n",
    "tabla_general.sample(6)"
   ]
  },
  {
   "cell_type": "code",
   "execution_count": 69,
   "metadata": {},
   "outputs": [
    {
     "data": {
      "text/plain": [
       "14.763352149370387"
      ]
     },
     "execution_count": 69,
     "metadata": {},
     "output_type": "execute_result"
    }
   ],
   "source": [
    "len(tabla_general.query('mensajes_cobrables > 0'))/len(tabla_general) *100\n"
   ]
  },
  {
   "cell_type": "markdown",
   "metadata": {},
   "source": [
    "Aproximadamente se cobrará el 14% de los mensajes."
   ]
  },
  {
   "cell_type": "code",
   "execution_count": 70,
   "metadata": {},
   "outputs": [],
   "source": [
    "def gb_to_charge(fila):\n",
    "    plan = fila ['plan_id']\n",
    "    total_gb_usados = fila ['total_gb_usados'] \n",
    "    \n",
    "    gb_to_charge = 0\n",
    "    \n",
    "    if plan == 'surf':\n",
    "        if total_gb_usados > surf_monthly_data:\n",
    "            gb_to_charge = total_gb_usados - surf_monthly_data\n",
    "    elif plan == 'ultimate':\n",
    "        if total_gb_usados > ultimate_monthly_data:\n",
    "            gb_to_charge = total_gb_usados - ultimate_monthly_data\n",
    "    return gb_to_charge"
   ]
  },
  {
   "cell_type": "code",
   "execution_count": 71,
   "metadata": {},
   "outputs": [
    {
     "data": {
      "text/html": [
       "<div>\n",
       "<style scoped>\n",
       "    .dataframe tbody tr th:only-of-type {\n",
       "        vertical-align: middle;\n",
       "    }\n",
       "\n",
       "    .dataframe tbody tr th {\n",
       "        vertical-align: top;\n",
       "    }\n",
       "\n",
       "    .dataframe thead th {\n",
       "        text-align: right;\n",
       "    }\n",
       "</style>\n",
       "<table border=\"1\" class=\"dataframe\">\n",
       "  <thead>\n",
       "    <tr style=\"text-align: right;\">\n",
       "      <th></th>\n",
       "      <th>user_id</th>\n",
       "      <th>mes</th>\n",
       "      <th>minutos</th>\n",
       "      <th>llamadas_hechas</th>\n",
       "      <th>num_mensajes</th>\n",
       "      <th>total_gb_usados</th>\n",
       "      <th>plan_id</th>\n",
       "      <th>city</th>\n",
       "      <th>minutos_cobrables</th>\n",
       "      <th>mensajes_cobrables</th>\n",
       "      <th>gb_cobrables</th>\n",
       "    </tr>\n",
       "  </thead>\n",
       "  <tbody>\n",
       "    <tr>\n",
       "      <th>1308</th>\n",
       "      <td>1285</td>\n",
       "      <td>11.0</td>\n",
       "      <td>314.0</td>\n",
       "      <td>54.0</td>\n",
       "      <td>25.0</td>\n",
       "      <td>3.0</td>\n",
       "      <td>surf</td>\n",
       "      <td>Los Angeles-Long Beach-Anaheim, CA MSA</td>\n",
       "      <td>0.0</td>\n",
       "      <td>0.0</td>\n",
       "      <td>0.0</td>\n",
       "    </tr>\n",
       "    <tr>\n",
       "      <th>1814</th>\n",
       "      <td>1397</td>\n",
       "      <td>11.0</td>\n",
       "      <td>623.0</td>\n",
       "      <td>98.0</td>\n",
       "      <td>NaN</td>\n",
       "      <td>18.0</td>\n",
       "      <td>surf</td>\n",
       "      <td>Oklahoma City, OK MSA</td>\n",
       "      <td>123.0</td>\n",
       "      <td>0.0</td>\n",
       "      <td>3.0</td>\n",
       "    </tr>\n",
       "    <tr>\n",
       "      <th>1111</th>\n",
       "      <td>1242</td>\n",
       "      <td>11.0</td>\n",
       "      <td>264.0</td>\n",
       "      <td>38.0</td>\n",
       "      <td>62.0</td>\n",
       "      <td>15.0</td>\n",
       "      <td>surf</td>\n",
       "      <td>San Antonio-New Braunfels, TX MSA</td>\n",
       "      <td>0.0</td>\n",
       "      <td>12.0</td>\n",
       "      <td>0.0</td>\n",
       "    </tr>\n",
       "    <tr>\n",
       "      <th>1258</th>\n",
       "      <td>1270</td>\n",
       "      <td>12.0</td>\n",
       "      <td>283.0</td>\n",
       "      <td>50.0</td>\n",
       "      <td>28.0</td>\n",
       "      <td>25.0</td>\n",
       "      <td>ultimate</td>\n",
       "      <td>Philadelphia-Camden-Wilmington, PA-NJ-DE-MD MSA</td>\n",
       "      <td>0.0</td>\n",
       "      <td>0.0</td>\n",
       "      <td>0.0</td>\n",
       "    </tr>\n",
       "    <tr>\n",
       "      <th>146</th>\n",
       "      <td>1041</td>\n",
       "      <td>3.0</td>\n",
       "      <td>23.0</td>\n",
       "      <td>4.0</td>\n",
       "      <td>NaN</td>\n",
       "      <td>2.0</td>\n",
       "      <td>ultimate</td>\n",
       "      <td>Las Vegas-Henderson-Paradise, NV MSA</td>\n",
       "      <td>0.0</td>\n",
       "      <td>0.0</td>\n",
       "      <td>0.0</td>\n",
       "    </tr>\n",
       "    <tr>\n",
       "      <th>1490</th>\n",
       "      <td>1329</td>\n",
       "      <td>12.0</td>\n",
       "      <td>1369.0</td>\n",
       "      <td>191.0</td>\n",
       "      <td>97.0</td>\n",
       "      <td>26.0</td>\n",
       "      <td>ultimate</td>\n",
       "      <td>Charleston-North Charleston, SC MSA</td>\n",
       "      <td>0.0</td>\n",
       "      <td>0.0</td>\n",
       "      <td>0.0</td>\n",
       "    </tr>\n",
       "  </tbody>\n",
       "</table>\n",
       "</div>"
      ],
      "text/plain": [
       "      user_id   mes  minutos  llamadas_hechas  num_mensajes  total_gb_usados  \\\n",
       "1308     1285  11.0    314.0             54.0          25.0              3.0   \n",
       "1814     1397  11.0    623.0             98.0           NaN             18.0   \n",
       "1111     1242  11.0    264.0             38.0          62.0             15.0   \n",
       "1258     1270  12.0    283.0             50.0          28.0             25.0   \n",
       "146      1041   3.0     23.0              4.0           NaN              2.0   \n",
       "1490     1329  12.0   1369.0            191.0          97.0             26.0   \n",
       "\n",
       "       plan_id                                             city  \\\n",
       "1308      surf           Los Angeles-Long Beach-Anaheim, CA MSA   \n",
       "1814      surf                            Oklahoma City, OK MSA   \n",
       "1111      surf                San Antonio-New Braunfels, TX MSA   \n",
       "1258  ultimate  Philadelphia-Camden-Wilmington, PA-NJ-DE-MD MSA   \n",
       "146   ultimate             Las Vegas-Henderson-Paradise, NV MSA   \n",
       "1490  ultimate              Charleston-North Charleston, SC MSA   \n",
       "\n",
       "      minutos_cobrables  mensajes_cobrables  gb_cobrables  \n",
       "1308                0.0                 0.0           0.0  \n",
       "1814              123.0                 0.0           3.0  \n",
       "1111                0.0                12.0           0.0  \n",
       "1258                0.0                 0.0           0.0  \n",
       "146                 0.0                 0.0           0.0  \n",
       "1490                0.0                 0.0           0.0  "
      ]
     },
     "execution_count": 71,
     "metadata": {},
     "output_type": "execute_result"
    }
   ],
   "source": [
    "tabla_general['gb_cobrables'] = tabla_general.apply(gb_to_charge,axis=1)\n",
    "tabla_general.sample(6)"
   ]
  },
  {
   "cell_type": "code",
   "execution_count": 72,
   "metadata": {},
   "outputs": [
    {
     "data": {
      "text/plain": [
       "41.33738601823708"
      ]
     },
     "execution_count": 72,
     "metadata": {},
     "output_type": "execute_result"
    }
   ],
   "source": [
    "len(tabla_general.query('gb_cobrables > 0'))/len(tabla_general) *100"
   ]
  },
  {
   "cell_type": "markdown",
   "metadata": {},
   "source": [
    "Aproximadamente se cobrará el 41% de los gb extras usados, es de donde más se recaudará.\n"
   ]
  },
  {
   "cell_type": "markdown",
   "metadata": {},
   "source": [
    "Ahora vamos a calcular el gasto total por mes por usuario y mostraremos tablas de minutos, mensajes y gb que se usaron."
   ]
  },
  {
   "cell_type": "code",
   "execution_count": 73,
   "metadata": {},
   "outputs": [],
   "source": [
    "def rentabilidad_mensual(fila):\n",
    "    plan = fila['plan_id']\n",
    "    calls_to_charge = fila['minutos_cobrables']\n",
    "    messages_to_charge = fila['mensajes_cobrables']\n",
    "    gb_to_charge =fila['gb_cobrables']\n",
    "    rentabilidad = 0\n",
    "   \n",
    "    if plan == 'surf':\n",
    "        rentabilidad = surf_monthly_charge + (calls_to_charge*surf_call_charge) + (messages_to_charge*surf_message_charge) + (gb_to_charge*surf_data_charge)\n",
    "    elif plan == 'ultimate':\n",
    "        rentabilidad = ultimate_monthly_charge + (calls_to_charge*ultimate_call_charge) + (messages_to_charge*ultimate_message_charge) + (gb_to_charge*ultimate_data_charge)\n",
    "    return rentabilidad\n",
    "        \n"
   ]
  },
  {
   "cell_type": "code",
   "execution_count": 74,
   "metadata": {},
   "outputs": [
    {
     "data": {
      "text/html": [
       "<div>\n",
       "<style scoped>\n",
       "    .dataframe tbody tr th:only-of-type {\n",
       "        vertical-align: middle;\n",
       "    }\n",
       "\n",
       "    .dataframe tbody tr th {\n",
       "        vertical-align: top;\n",
       "    }\n",
       "\n",
       "    .dataframe thead th {\n",
       "        text-align: right;\n",
       "    }\n",
       "</style>\n",
       "<table border=\"1\" class=\"dataframe\">\n",
       "  <thead>\n",
       "    <tr style=\"text-align: right;\">\n",
       "      <th></th>\n",
       "      <th>user_id</th>\n",
       "      <th>mes</th>\n",
       "      <th>minutos</th>\n",
       "      <th>llamadas_hechas</th>\n",
       "      <th>num_mensajes</th>\n",
       "      <th>total_gb_usados</th>\n",
       "      <th>plan_id</th>\n",
       "      <th>city</th>\n",
       "      <th>minutos_cobrables</th>\n",
       "      <th>mensajes_cobrables</th>\n",
       "      <th>gb_cobrables</th>\n",
       "      <th>rentabilidad_mensual</th>\n",
       "    </tr>\n",
       "  </thead>\n",
       "  <tbody>\n",
       "    <tr>\n",
       "      <th>0</th>\n",
       "      <td>1000</td>\n",
       "      <td>12.0</td>\n",
       "      <td>124.0</td>\n",
       "      <td>16.0</td>\n",
       "      <td>11.0</td>\n",
       "      <td>2.0</td>\n",
       "      <td>ultimate</td>\n",
       "      <td>Atlanta-Sandy Springs-Roswell, GA MSA</td>\n",
       "      <td>0.0</td>\n",
       "      <td>0.0</td>\n",
       "      <td>0.0</td>\n",
       "      <td>70.00</td>\n",
       "    </tr>\n",
       "    <tr>\n",
       "      <th>1</th>\n",
       "      <td>1001</td>\n",
       "      <td>8.0</td>\n",
       "      <td>182.0</td>\n",
       "      <td>27.0</td>\n",
       "      <td>30.0</td>\n",
       "      <td>7.0</td>\n",
       "      <td>surf</td>\n",
       "      <td>Seattle-Tacoma-Bellevue, WA MSA</td>\n",
       "      <td>0.0</td>\n",
       "      <td>0.0</td>\n",
       "      <td>0.0</td>\n",
       "      <td>20.00</td>\n",
       "    </tr>\n",
       "    <tr>\n",
       "      <th>2</th>\n",
       "      <td>1001</td>\n",
       "      <td>9.0</td>\n",
       "      <td>315.0</td>\n",
       "      <td>49.0</td>\n",
       "      <td>44.0</td>\n",
       "      <td>14.0</td>\n",
       "      <td>surf</td>\n",
       "      <td>Seattle-Tacoma-Bellevue, WA MSA</td>\n",
       "      <td>0.0</td>\n",
       "      <td>0.0</td>\n",
       "      <td>0.0</td>\n",
       "      <td>20.00</td>\n",
       "    </tr>\n",
       "    <tr>\n",
       "      <th>3</th>\n",
       "      <td>1001</td>\n",
       "      <td>10.0</td>\n",
       "      <td>393.0</td>\n",
       "      <td>65.0</td>\n",
       "      <td>53.0</td>\n",
       "      <td>22.0</td>\n",
       "      <td>surf</td>\n",
       "      <td>Seattle-Tacoma-Bellevue, WA MSA</td>\n",
       "      <td>0.0</td>\n",
       "      <td>3.0</td>\n",
       "      <td>7.0</td>\n",
       "      <td>90.09</td>\n",
       "    </tr>\n",
       "    <tr>\n",
       "      <th>4</th>\n",
       "      <td>1001</td>\n",
       "      <td>11.0</td>\n",
       "      <td>426.0</td>\n",
       "      <td>64.0</td>\n",
       "      <td>36.0</td>\n",
       "      <td>19.0</td>\n",
       "      <td>surf</td>\n",
       "      <td>Seattle-Tacoma-Bellevue, WA MSA</td>\n",
       "      <td>0.0</td>\n",
       "      <td>0.0</td>\n",
       "      <td>4.0</td>\n",
       "      <td>60.00</td>\n",
       "    </tr>\n",
       "    <tr>\n",
       "      <th>...</th>\n",
       "      <td>...</td>\n",
       "      <td>...</td>\n",
       "      <td>...</td>\n",
       "      <td>...</td>\n",
       "      <td>...</td>\n",
       "      <td>...</td>\n",
       "      <td>...</td>\n",
       "      <td>...</td>\n",
       "      <td>...</td>\n",
       "      <td>...</td>\n",
       "      <td>...</td>\n",
       "      <td>...</td>\n",
       "    </tr>\n",
       "    <tr>\n",
       "      <th>2298</th>\n",
       "      <td>1307</td>\n",
       "      <td>NaN</td>\n",
       "      <td>NaN</td>\n",
       "      <td>NaN</td>\n",
       "      <td>NaN</td>\n",
       "      <td>NaN</td>\n",
       "      <td>surf</td>\n",
       "      <td>Boston-Cambridge-Newton, MA-NH MSA</td>\n",
       "      <td>0.0</td>\n",
       "      <td>0.0</td>\n",
       "      <td>0.0</td>\n",
       "      <td>20.00</td>\n",
       "    </tr>\n",
       "    <tr>\n",
       "      <th>2299</th>\n",
       "      <td>1319</td>\n",
       "      <td>NaN</td>\n",
       "      <td>NaN</td>\n",
       "      <td>NaN</td>\n",
       "      <td>NaN</td>\n",
       "      <td>NaN</td>\n",
       "      <td>surf</td>\n",
       "      <td>Colorado Springs, CO MSA</td>\n",
       "      <td>0.0</td>\n",
       "      <td>0.0</td>\n",
       "      <td>0.0</td>\n",
       "      <td>20.00</td>\n",
       "    </tr>\n",
       "    <tr>\n",
       "      <th>2300</th>\n",
       "      <td>1378</td>\n",
       "      <td>NaN</td>\n",
       "      <td>NaN</td>\n",
       "      <td>NaN</td>\n",
       "      <td>NaN</td>\n",
       "      <td>NaN</td>\n",
       "      <td>surf</td>\n",
       "      <td>Denver-Aurora-Lakewood, CO MSA</td>\n",
       "      <td>0.0</td>\n",
       "      <td>0.0</td>\n",
       "      <td>0.0</td>\n",
       "      <td>20.00</td>\n",
       "    </tr>\n",
       "    <tr>\n",
       "      <th>2301</th>\n",
       "      <td>1463</td>\n",
       "      <td>NaN</td>\n",
       "      <td>NaN</td>\n",
       "      <td>NaN</td>\n",
       "      <td>NaN</td>\n",
       "      <td>NaN</td>\n",
       "      <td>ultimate</td>\n",
       "      <td>Atlanta-Sandy Springs-Roswell, GA MSA</td>\n",
       "      <td>0.0</td>\n",
       "      <td>0.0</td>\n",
       "      <td>0.0</td>\n",
       "      <td>70.00</td>\n",
       "    </tr>\n",
       "    <tr>\n",
       "      <th>2302</th>\n",
       "      <td>1473</td>\n",
       "      <td>NaN</td>\n",
       "      <td>NaN</td>\n",
       "      <td>NaN</td>\n",
       "      <td>NaN</td>\n",
       "      <td>NaN</td>\n",
       "      <td>surf</td>\n",
       "      <td>Louisville/Jefferson County, KY-IN MSA</td>\n",
       "      <td>0.0</td>\n",
       "      <td>0.0</td>\n",
       "      <td>0.0</td>\n",
       "      <td>20.00</td>\n",
       "    </tr>\n",
       "  </tbody>\n",
       "</table>\n",
       "<p>2303 rows × 12 columns</p>\n",
       "</div>"
      ],
      "text/plain": [
       "      user_id   mes  minutos  llamadas_hechas  num_mensajes  total_gb_usados  \\\n",
       "0        1000  12.0    124.0             16.0          11.0              2.0   \n",
       "1        1001   8.0    182.0             27.0          30.0              7.0   \n",
       "2        1001   9.0    315.0             49.0          44.0             14.0   \n",
       "3        1001  10.0    393.0             65.0          53.0             22.0   \n",
       "4        1001  11.0    426.0             64.0          36.0             19.0   \n",
       "...       ...   ...      ...              ...           ...              ...   \n",
       "2298     1307   NaN      NaN              NaN           NaN              NaN   \n",
       "2299     1319   NaN      NaN              NaN           NaN              NaN   \n",
       "2300     1378   NaN      NaN              NaN           NaN              NaN   \n",
       "2301     1463   NaN      NaN              NaN           NaN              NaN   \n",
       "2302     1473   NaN      NaN              NaN           NaN              NaN   \n",
       "\n",
       "       plan_id                                    city  minutos_cobrables  \\\n",
       "0     ultimate   Atlanta-Sandy Springs-Roswell, GA MSA                0.0   \n",
       "1         surf         Seattle-Tacoma-Bellevue, WA MSA                0.0   \n",
       "2         surf         Seattle-Tacoma-Bellevue, WA MSA                0.0   \n",
       "3         surf         Seattle-Tacoma-Bellevue, WA MSA                0.0   \n",
       "4         surf         Seattle-Tacoma-Bellevue, WA MSA                0.0   \n",
       "...        ...                                     ...                ...   \n",
       "2298      surf      Boston-Cambridge-Newton, MA-NH MSA                0.0   \n",
       "2299      surf                Colorado Springs, CO MSA                0.0   \n",
       "2300      surf          Denver-Aurora-Lakewood, CO MSA                0.0   \n",
       "2301  ultimate   Atlanta-Sandy Springs-Roswell, GA MSA                0.0   \n",
       "2302      surf  Louisville/Jefferson County, KY-IN MSA                0.0   \n",
       "\n",
       "      mensajes_cobrables  gb_cobrables  rentabilidad_mensual  \n",
       "0                    0.0           0.0                 70.00  \n",
       "1                    0.0           0.0                 20.00  \n",
       "2                    0.0           0.0                 20.00  \n",
       "3                    3.0           7.0                 90.09  \n",
       "4                    0.0           4.0                 60.00  \n",
       "...                  ...           ...                   ...  \n",
       "2298                 0.0           0.0                 20.00  \n",
       "2299                 0.0           0.0                 20.00  \n",
       "2300                 0.0           0.0                 20.00  \n",
       "2301                 0.0           0.0                 70.00  \n",
       "2302                 0.0           0.0                 20.00  \n",
       "\n",
       "[2303 rows x 12 columns]"
      ]
     },
     "execution_count": 74,
     "metadata": {},
     "output_type": "execute_result"
    }
   ],
   "source": [
    "tabla_general['rentabilidad_mensual'] = tabla_general.apply(rentabilidad_mensual,axis=1)\n",
    "tabla_general"
   ]
  },
  {
   "cell_type": "code",
   "execution_count": 75,
   "metadata": {},
   "outputs": [],
   "source": [
    "variables = ['minutos','num_mensajes','total_gb_usados']"
   ]
  },
  {
   "cell_type": "code",
   "execution_count": 76,
   "metadata": {},
   "outputs": [],
   "source": [
    "plans = ['surf','ultimate']"
   ]
  },
  {
   "cell_type": "code",
   "execution_count": 77,
   "metadata": {},
   "outputs": [
    {
     "data": {
      "image/png": "[encoded data removed]",
      "text/plain": [
       "<Figure size 640x480 with 1 Axes>"
      ]
     },
     "metadata": {},
     "output_type": "display_data"
    },
    {
     "data": {
      "image/png": "[encoded data removed]",
      "text/plain": [
       "<Figure size 640x480 with 1 Axes>"
      ]
     },
     "metadata": {},
     "output_type": "display_data"
    },
    {
     "data": {
      "image/png": "[encoded data removed]",
      "text/plain": [
       "<Figure size 640x480 with 1 Axes>"
      ]
     },
     "metadata": {},
     "output_type": "display_data"
    }
   ],
   "source": [
    "for metrica in variables:\n",
    "    for plan in plans:\n",
    "        tabla_general[tabla_general['plan_id'] == plan][metrica].plot(kind='hist')\n",
    "        \n",
    "    plt.title(metrica)\n",
    "    plt.legend(plans)\n",
    "    plt.show()"
   ]
  },
  {
   "cell_type": "markdown",
   "metadata": {
    "id": "-jtyHzJb0q1I"
   },
   "source": [
    "## Estudia el comportamiento de usuario"
   ]
  },
  {
   "cell_type": "markdown",
   "metadata": {
    "id": "AxU3Y0N70q1J"
   },
   "source": [
    "Mostraremos gráficos sobre la media de la duración de las llamadas y del número de minutos mensuales que necesitan los usuarios por cada plan, esto se realizará para facilitar la comprensión de los datos. \n",
    "\n"
   ]
  },
  {
   "cell_type": "markdown",
   "metadata": {
    "id": "vtW4CJEe0q1J"
   },
   "source": [
    "### Llamadas"
   ]
  },
  {
   "cell_type": "code",
   "execution_count": 78,
   "metadata": {
    "id": "Jf5v5--k0q1J"
   },
   "outputs": [
    {
     "data": {
      "text/html": [
       "<div>\n",
       "<style scoped>\n",
       "    .dataframe tbody tr th:only-of-type {\n",
       "        vertical-align: middle;\n",
       "    }\n",
       "\n",
       "    .dataframe tbody tr th {\n",
       "        vertical-align: top;\n",
       "    }\n",
       "\n",
       "    .dataframe thead th {\n",
       "        text-align: right;\n",
       "    }\n",
       "</style>\n",
       "<table border=\"1\" class=\"dataframe\">\n",
       "  <thead>\n",
       "    <tr style=\"text-align: right;\">\n",
       "      <th></th>\n",
       "      <th>plan_id</th>\n",
       "      <th>mes</th>\n",
       "      <th>minutos</th>\n",
       "    </tr>\n",
       "  </thead>\n",
       "  <tbody>\n",
       "    <tr>\n",
       "      <th>22</th>\n",
       "      <td>ultimate</td>\n",
       "      <td>11.0</td>\n",
       "      <td>448.730159</td>\n",
       "    </tr>\n",
       "    <tr>\n",
       "      <th>2</th>\n",
       "      <td>surf</td>\n",
       "      <td>3.0</td>\n",
       "      <td>330.000000</td>\n",
       "    </tr>\n",
       "    <tr>\n",
       "      <th>23</th>\n",
       "      <td>ultimate</td>\n",
       "      <td>12.0</td>\n",
       "      <td>465.261745</td>\n",
       "    </tr>\n",
       "    <tr>\n",
       "      <th>12</th>\n",
       "      <td>ultimate</td>\n",
       "      <td>1.0</td>\n",
       "      <td>193.500000</td>\n",
       "    </tr>\n",
       "    <tr>\n",
       "      <th>20</th>\n",
       "      <td>ultimate</td>\n",
       "      <td>9.0</td>\n",
       "      <td>437.511628</td>\n",
       "    </tr>\n",
       "    <tr>\n",
       "      <th>8</th>\n",
       "      <td>surf</td>\n",
       "      <td>9.0</td>\n",
       "      <td>420.732984</td>\n",
       "    </tr>\n",
       "  </tbody>\n",
       "</table>\n",
       "</div>"
      ],
      "text/plain": [
       "     plan_id   mes     minutos\n",
       "22  ultimate  11.0  448.730159\n",
       "2       surf   3.0  330.000000\n",
       "23  ultimate  12.0  465.261745\n",
       "12  ultimate   1.0  193.500000\n",
       "20  ultimate   9.0  437.511628\n",
       "8       surf   9.0  420.732984"
      ]
     },
     "execution_count": 78,
     "metadata": {},
     "output_type": "execute_result"
    }
   ],
   "source": [
    "# Compara la duración promedio de llamadas por cada plan y por cada mes. Traza un gráfico de barras para visualizarla.\n",
    "mean_duration_calls = tabla_general.groupby(['plan_id', 'mes'])['minutos'].mean().reset_index()\n",
    "mean_duration_calls.sample(6)"
   ]
  },
  {
   "cell_type": "code",
   "execution_count": 79,
   "metadata": {},
   "outputs": [
    {
     "data": {
      "image/png": "[encoded data removed]",
      "text/plain": [
       "<Figure size 640x480 with 1 Axes>"
      ]
     },
     "metadata": {},
     "output_type": "display_data"
    }
   ],
   "source": [
    "df_duration_calls_grouped = mean_duration_calls.groupby(['mes', 'plan_id'])['minutos'].sum().reset_index()\n",
    "df_duration_calls_pivot = df_duration_calls_grouped.pivot(index='mes', columns='plan_id', values='minutos').fillna(0)\n",
    "ax = df_duration_calls_pivot.plot(kind='bar')\n",
    "ax.set_xlabel('Mes')\n",
    "ax.set_ylabel('Minutos')\n",
    "ax.set_title('Minutos por Mes y Plan')\n",
    "plt.xticks(rotation=45) \n",
    "plt.legend(title='Plan')\n",
    "plt.tight_layout() \n",
    "plt.show()"
   ]
  },
  {
   "cell_type": "code",
   "execution_count": 80,
   "metadata": {
    "id": "QoLqW1S_0q1J"
   },
   "outputs": [
    {
     "data": {
      "image/png": "[encoded data removed]",
      "text/plain": [
       "<Figure size 640x480 with 1 Axes>"
      ]
     },
     "metadata": {},
     "output_type": "display_data"
    }
   ],
   "source": [
    "# Compara el número de minutos mensuales que necesitan los usuarios de cada plan. Traza un histograma.\n",
    "for plan in tabla_general['plan_id'].unique():\n",
    "    subset = tabla_general[tabla_general['plan_id'] == plan]\n",
    "    subset['minutos'].plot(kind='hist', alpha=0.5, label=plan, bins=20)\n",
    "plt.title('Distribución de Minutos Mensuales por Plan')\n",
    "plt.xlabel('Minutos')\n",
    "plt.ylabel('Frecuencia')\n",
    "plt.legend(title='Plan')\n",
    "plt.show()\n"
   ]
  },
  {
   "cell_type": "markdown",
   "metadata": {
    "id": "bLS9T8OH0q1K"
   },
   "source": [
    "Procederemos a calcula la media y la variable de la duración de las llamadas para averiguar si los usuarios de los distintos planes se comportan de forma diferente al realizar sus llamadas, además se realizarán diagramas de cajas para mayor comprensión. Se calculará de forma general (sobre las dos tablas) y de forma independiente de cada una de ellas."
   ]
  },
  {
   "cell_type": "code",
   "execution_count": 81,
   "metadata": {
    "id": "oSndbAnt0q1K"
   },
   "outputs": [
    {
     "name": "stdout",
     "output_type": "stream",
     "text": [
      "Media de la duración mensual de llamadas: 435.9375553587245\n",
      "Media de la duración mensual de llamadas de usuarios surf: 436.51974110032364\n",
      "Media de la duración mensual de llamadas de usuarios ultimate: 434.67601683029454\n"
     ]
    }
   ],
   "source": [
    "# Calcula la media y la varianza de la duración mensual de llamadas.\n",
    "tabla_general_filtrada = tabla_general.dropna(subset=['minutos'])\n",
    "mean_duration = tabla_general_filtrada['minutos'].mean()\n",
    "mean_duration_surf = tabla_general_filtrada[tabla_general_filtrada['plan_id']=='surf']['minutos'].mean()\n",
    "mean_duration_ultimate = tabla_general_filtrada[tabla_general_filtrada['plan_id']=='ultimate']['minutos'].mean()\n",
    "print(f\"Media de la duración mensual de llamadas: {mean_duration}\")\n",
    "print(f\"Media de la duración mensual de llamadas de usuarios surf: {mean_duration_surf}\")\n",
    "print(f\"Media de la duración mensual de llamadas de usuarios ultimate: {mean_duration_ultimate}\")"
   ]
  },
  {
   "cell_type": "code",
   "execution_count": 82,
   "metadata": {},
   "outputs": [
    {
     "name": "stdout",
     "output_type": "stream",
     "text": [
      "Varianza de la duración mensual de llamadas: 53811.16800855365\n",
      "Varianza de la duración mensual de llamadas de usuarios surf: 52571.06324345624\n",
      "Varianza de la duración mensual de llamadas de usuarios ultimate: 56573.63224703341\n"
     ]
    }
   ],
   "source": [
    "variance_duration = tabla_general_filtrada['minutos'].var()\n",
    "variance_duration_surf = tabla_general_filtrada[tabla_general_filtrada['plan_id']=='surf']['minutos'].var()\n",
    "variance_duration_ultimate = tabla_general_filtrada[tabla_general_filtrada['plan_id']=='ultimate']['minutos'].var()\n",
    "print(f\"Varianza de la duración mensual de llamadas: {variance_duration}\")\n",
    "print(f\"Varianza de la duración mensual de llamadas de usuarios surf: {variance_duration_surf}\")\n",
    "print(f\"Varianza de la duración mensual de llamadas de usuarios ultimate: {variance_duration_ultimate}\")"
   ]
  },
  {
   "cell_type": "code",
   "execution_count": 83,
   "metadata": {
    "id": "nZzoRUKc0q1K"
   },
   "outputs": [
    {
     "data": {
      "image/png": "[encoded data removed]",
      "text/plain": [
       "<Figure size 640x480 with 1 Axes>"
      ]
     },
     "metadata": {},
     "output_type": "display_data"
    }
   ],
   "source": [
    "# Traza un diagrama de caja para visualizar la distribución de la duración mensual de llamadas\n",
    "\n",
    "plt.boxplot(tabla_general['minutos'].dropna())\n",
    "plt.show()"
   ]
  },
  {
   "cell_type": "code",
   "execution_count": 84,
   "metadata": {},
   "outputs": [
    {
     "data": {
      "image/png": "[encoded data removed]",
      "text/plain": [
       "<Figure size 640x480 with 1 Axes>"
      ]
     },
     "metadata": {},
     "output_type": "display_data"
    }
   ],
   "source": [
    "# Traza un diagrama de caja para visualizar la distribución de la duración mensual de llamadas\n",
    "\n",
    "plt.boxplot(tabla_general[tabla_general['plan_id']=='surf']['minutos'].dropna())\n",
    "plt.show()"
   ]
  },
  {
   "cell_type": "code",
   "execution_count": 85,
   "metadata": {},
   "outputs": [
    {
     "data": {
      "image/png": "[encoded data removed]",
      "text/plain": [
       "<Figure size 640x480 with 1 Axes>"
      ]
     },
     "metadata": {},
     "output_type": "display_data"
    }
   ],
   "source": [
    "plt.boxplot(tabla_general[tabla_general['plan_id']=='ultimate']['minutos'].dropna())\n",
    "plt.show()"
   ]
  },
  {
   "cell_type": "markdown",
   "metadata": {
    "id": "r627zBO50q1K"
   },
   "source": [
    "Aparentemente los datos no los minutos no parecen muy diferentes con respecto a cada plan. Los datos de la media parecen ser muy similares, en la varianza ya comienzan a verse las diferencias y en los diagramas de caja se puede percibir los out layers."
   ]
  },
  {
   "cell_type": "markdown",
   "metadata": {
    "id": "8idKy8Wh0q1L"
   },
   "source": [
    "### Mensajes"
   ]
  },
  {
   "cell_type": "markdown",
   "metadata": {},
   "source": [
    "Mostraremos gráficos sobre la media y la varianza de los mensajes de los usuarios en cada plan. Además mostraremos gráficas de cajas. "
   ]
  },
  {
   "cell_type": "code",
   "execution_count": 86,
   "metadata": {},
   "outputs": [
    {
     "data": {
      "text/html": [
       "<div>\n",
       "<style scoped>\n",
       "    .dataframe tbody tr th:only-of-type {\n",
       "        vertical-align: middle;\n",
       "    }\n",
       "\n",
       "    .dataframe tbody tr th {\n",
       "        vertical-align: top;\n",
       "    }\n",
       "\n",
       "    .dataframe thead th {\n",
       "        text-align: right;\n",
       "    }\n",
       "</style>\n",
       "<table border=\"1\" class=\"dataframe\">\n",
       "  <thead>\n",
       "    <tr style=\"text-align: right;\">\n",
       "      <th></th>\n",
       "      <th>plan_id</th>\n",
       "      <th>mes</th>\n",
       "      <th>num_mensajes</th>\n",
       "    </tr>\n",
       "  </thead>\n",
       "  <tbody>\n",
       "    <tr>\n",
       "      <th>22</th>\n",
       "      <td>ultimate</td>\n",
       "      <td>11.0</td>\n",
       "      <td>47.601942</td>\n",
       "    </tr>\n",
       "    <tr>\n",
       "      <th>7</th>\n",
       "      <td>surf</td>\n",
       "      <td>8.0</td>\n",
       "      <td>37.596774</td>\n",
       "    </tr>\n",
       "    <tr>\n",
       "      <th>11</th>\n",
       "      <td>surf</td>\n",
       "      <td>12.0</td>\n",
       "      <td>48.326772</td>\n",
       "    </tr>\n",
       "    <tr>\n",
       "      <th>1</th>\n",
       "      <td>surf</td>\n",
       "      <td>2.0</td>\n",
       "      <td>21.600000</td>\n",
       "    </tr>\n",
       "    <tr>\n",
       "      <th>14</th>\n",
       "      <td>ultimate</td>\n",
       "      <td>3.0</td>\n",
       "      <td>34.714286</td>\n",
       "    </tr>\n",
       "    <tr>\n",
       "      <th>2</th>\n",
       "      <td>surf</td>\n",
       "      <td>3.0</td>\n",
       "      <td>21.937500</td>\n",
       "    </tr>\n",
       "  </tbody>\n",
       "</table>\n",
       "</div>"
      ],
      "text/plain": [
       "     plan_id   mes  num_mensajes\n",
       "22  ultimate  11.0     47.601942\n",
       "7       surf   8.0     37.596774\n",
       "11      surf  12.0     48.326772\n",
       "1       surf   2.0     21.600000\n",
       "14  ultimate   3.0     34.714286\n",
       "2       surf   3.0     21.937500"
      ]
     },
     "execution_count": 86,
     "metadata": {},
     "output_type": "execute_result"
    }
   ],
   "source": [
    "mean_messages = tabla_general.groupby(['plan_id', 'mes'])['num_mensajes'].mean().reset_index()\n",
    "mean_messages.sample(6)"
   ]
  },
  {
   "cell_type": "code",
   "execution_count": 87,
   "metadata": {},
   "outputs": [
    {
     "data": {
      "image/png": "[encoded data removed]",
      "text/plain": [
       "<Figure size 640x480 with 1 Axes>"
      ]
     },
     "metadata": {},
     "output_type": "display_data"
    }
   ],
   "source": [
    "df_mensajes_grouped = mean_messages.groupby(['mes', 'plan_id'])['num_mensajes'].sum().reset_index()\n",
    "df_mensajes_pivot = df_mensajes_grouped.pivot(index='mes', columns='plan_id', values='num_mensajes').fillna(0)\n",
    "ax = df_mensajes_pivot.plot(kind='bar')\n",
    "ax.set_xlabel('Mes')\n",
    "ax.set_ylabel('Mensajes')\n",
    "ax.set_title('Mensajes por Mes y Plan')\n",
    "plt.xticks(rotation=45) \n",
    "plt.legend(title='Plan')\n",
    "plt.tight_layout() \n",
    "plt.show()"
   ]
  },
  {
   "cell_type": "code",
   "execution_count": 88,
   "metadata": {
    "id": "NXLxiTit0q1L"
   },
   "outputs": [
    {
     "data": {
      "image/png": "[encoded data removed]",
      "text/plain": [
       "<Figure size 1000x600 with 1 Axes>"
      ]
     },
     "metadata": {},
     "output_type": "display_data"
    }
   ],
   "source": [
    "# Comprara el número de mensajes que tienden a enviar cada mes los usuarios de cada plan\n",
    "metrica = 'num_mensajes'\n",
    "plt.figure(figsize=(10, 6))\n",
    "for plan in plans:\n",
    "    subset = tabla_general[tabla_general['plan_id'] == plan]\n",
    "    subset[metrica].plot(kind='hist', alpha=0.5, label=plan, bins=15)\n",
    "    \n",
    "plt.title(f'Distribución de {metrica} por plan')\n",
    "plt.xlabel(metrica)\n",
    "plt.ylabel('Frecuencia')\n",
    "plt.legend(plans)\n",
    "plt.show()\n"
   ]
  },
  {
   "cell_type": "code",
   "execution_count": 89,
   "metadata": {},
   "outputs": [
    {
     "name": "stdout",
     "output_type": "stream",
     "text": [
      "Media de mensajes mensuales: 42.110188261351055\n",
      "Media de mensajes mensuales de usuarios surf: 40.10965630114566\n",
      "Media de mensajes mensuales de usuarios ultimate: 46.29623287671233\n"
     ]
    }
   ],
   "source": [
    "\n",
    "tabla_general_filtrada_mensajes = tabla_general.dropna(subset=['num_mensajes'])\n",
    "mean_mensajes = tabla_general_filtrada_mensajes['num_mensajes'].mean()\n",
    "mean_mensajes_surf = tabla_general_filtrada_mensajes[tabla_general_filtrada_mensajes['plan_id']=='surf']['num_mensajes'].mean()\n",
    "mean_mensajes_ultimate = tabla_general_filtrada_mensajes[tabla_general_filtrada_mensajes['plan_id']=='ultimate']['num_mensajes'].mean()\n",
    "print(f\"Media de mensajes mensuales: {mean_mensajes}\")\n",
    "print(f\"Media de mensajes mensuales de usuarios surf: {mean_mensajes_surf}\")\n",
    "print(f\"Media de mensajes mensuales de usuarios ultimate: {mean_mensajes_ultimate}\")"
   ]
  },
  {
   "cell_type": "code",
   "execution_count": 90,
   "metadata": {},
   "outputs": [
    {
     "name": "stdout",
     "output_type": "stream",
     "text": [
      "Varianza de mensajes mensuales: 1097.1285720421004\n",
      "Varianza de mensajes mensuales de usuarios surf: 1091.3442310038054\n",
      "Varianza de mensajes mensuales de usuarios ultimate: 1085.183107568317\n"
     ]
    }
   ],
   "source": [
    "tabla_general_filtrada_mensajes = tabla_general.dropna(subset=['num_mensajes'])\n",
    "mean_mensajes = tabla_general_filtrada_mensajes['num_mensajes'].var()\n",
    "mean_mensajes_surf = tabla_general_filtrada_mensajes[tabla_general_filtrada_mensajes['plan_id']=='surf']['num_mensajes'].var()\n",
    "mean_mensajes_ultimate = tabla_general_filtrada_mensajes[tabla_general_filtrada_mensajes['plan_id']=='ultimate']['num_mensajes'].var()\n",
    "print(f\"Varianza de mensajes mensuales: {mean_mensajes}\")\n",
    "print(f\"Varianza de mensajes mensuales de usuarios surf: {mean_mensajes_surf}\")\n",
    "print(f\"Varianza de mensajes mensuales de usuarios ultimate: {mean_mensajes_ultimate}\")"
   ]
  },
  {
   "cell_type": "code",
   "execution_count": 91,
   "metadata": {},
   "outputs": [
    {
     "data": {
      "image/png": "[encoded data removed]",
      "text/plain": [
       "<Figure size 640x480 with 1 Axes>"
      ]
     },
     "metadata": {},
     "output_type": "display_data"
    }
   ],
   "source": [
    "plt.boxplot(tabla_general['num_mensajes'].dropna())\n",
    "plt.show()"
   ]
  },
  {
   "cell_type": "code",
   "execution_count": 92,
   "metadata": {},
   "outputs": [
    {
     "data": {
      "image/png": "[encoded data removed]",
      "text/plain": [
       "<Figure size 640x480 with 1 Axes>"
      ]
     },
     "metadata": {},
     "output_type": "display_data"
    }
   ],
   "source": [
    "plt.boxplot(tabla_general[tabla_general['plan_id']=='surf']['num_mensajes'].dropna())\n",
    "plt.show()"
   ]
  },
  {
   "cell_type": "code",
   "execution_count": 93,
   "metadata": {},
   "outputs": [
    {
     "data": {
      "image/png": "[encoded data removed]",
      "text/plain": [
       "<Figure size 640x480 with 1 Axes>"
      ]
     },
     "metadata": {},
     "output_type": "display_data"
    }
   ],
   "source": [
    "plt.boxplot(tabla_general[tabla_general['plan_id']=='ultimate']['num_mensajes'].dropna())\n",
    "plt.show()"
   ]
  },
  {
   "cell_type": "markdown",
   "metadata": {
    "id": "390SSL480q1M"
   },
   "source": [
    "Aparentemente los datos de los mensajes no parecen muy diferentes con respecto a cada plan. Los datos de la media parecen ser un poco diferentes, en la varianza se ven muy similares y en los diagramas de caja se puede percibir los out layers mayormente en el plan surf."
   ]
  },
  {
   "cell_type": "markdown",
   "metadata": {
    "id": "42YSypXz0q1M"
   },
   "source": [
    "### Internet"
   ]
  },
  {
   "cell_type": "markdown",
   "metadata": {},
   "source": [
    "Mostraremos la media, varianza y gráficos sobre los Gb usados por cada usuario en cada plan, para así poder analizarlos mejor. "
   ]
  },
  {
   "cell_type": "code",
   "execution_count": 94,
   "metadata": {
    "id": "dtFwCGAp0q1M"
   },
   "outputs": [
    {
     "data": {
      "text/html": [
       "<div>\n",
       "<style scoped>\n",
       "    .dataframe tbody tr th:only-of-type {\n",
       "        vertical-align: middle;\n",
       "    }\n",
       "\n",
       "    .dataframe tbody tr th {\n",
       "        vertical-align: top;\n",
       "    }\n",
       "\n",
       "    .dataframe thead th {\n",
       "        text-align: right;\n",
       "    }\n",
       "</style>\n",
       "<table border=\"1\" class=\"dataframe\">\n",
       "  <thead>\n",
       "    <tr style=\"text-align: right;\">\n",
       "      <th></th>\n",
       "      <th>plan_id</th>\n",
       "      <th>mes</th>\n",
       "      <th>total_gb_usados</th>\n",
       "    </tr>\n",
       "  </thead>\n",
       "  <tbody>\n",
       "    <tr>\n",
       "      <th>1</th>\n",
       "      <td>surf</td>\n",
       "      <td>2.0</td>\n",
       "      <td>12.222222</td>\n",
       "    </tr>\n",
       "    <tr>\n",
       "      <th>11</th>\n",
       "      <td>surf</td>\n",
       "      <td>12.0</td>\n",
       "      <td>18.296530</td>\n",
       "    </tr>\n",
       "    <tr>\n",
       "      <th>15</th>\n",
       "      <td>ultimate</td>\n",
       "      <td>4.0</td>\n",
       "      <td>16.333333</td>\n",
       "    </tr>\n",
       "    <tr>\n",
       "      <th>19</th>\n",
       "      <td>ultimate</td>\n",
       "      <td>8.0</td>\n",
       "      <td>17.845070</td>\n",
       "    </tr>\n",
       "    <tr>\n",
       "      <th>7</th>\n",
       "      <td>surf</td>\n",
       "      <td>8.0</td>\n",
       "      <td>17.201258</td>\n",
       "    </tr>\n",
       "    <tr>\n",
       "      <th>18</th>\n",
       "      <td>ultimate</td>\n",
       "      <td>7.0</td>\n",
       "      <td>16.491525</td>\n",
       "    </tr>\n",
       "  </tbody>\n",
       "</table>\n",
       "</div>"
      ],
      "text/plain": [
       "     plan_id   mes  total_gb_usados\n",
       "1       surf   2.0        12.222222\n",
       "11      surf  12.0        18.296530\n",
       "15  ultimate   4.0        16.333333\n",
       "19  ultimate   8.0        17.845070\n",
       "7       surf   8.0        17.201258\n",
       "18  ultimate   7.0        16.491525"
      ]
     },
     "execution_count": 94,
     "metadata": {},
     "output_type": "execute_result"
    }
   ],
   "source": [
    "mean_internet = tabla_general.groupby(['plan_id', 'mes'])['total_gb_usados'].mean().reset_index()\n",
    "mean_internet.sample(6)"
   ]
  },
  {
   "cell_type": "code",
   "execution_count": 95,
   "metadata": {},
   "outputs": [
    {
     "data": {
      "image/png": "[encoded data removed]",
      "text/plain": [
       "<Figure size 640x480 with 1 Axes>"
      ]
     },
     "metadata": {},
     "output_type": "display_data"
    }
   ],
   "source": [
    "df_internet_grouped = mean_internet.groupby(['mes', 'plan_id'])['total_gb_usados'].sum().reset_index()\n",
    "df_internet_pivot = df_internet_grouped.pivot(index='mes', columns='plan_id', values='total_gb_usados').fillna(0)\n",
    "ax = df_internet_pivot.plot(kind='bar')\n",
    "ax.set_xlabel('Mes')\n",
    "ax.set_ylabel('GB usados')\n",
    "ax.set_title('GB usados por Mes y Plan')\n",
    "plt.xticks(rotation=45) \n",
    "plt.legend(title='Plan')\n",
    "plt.tight_layout() \n",
    "plt.show()"
   ]
  },
  {
   "cell_type": "code",
   "execution_count": 96,
   "metadata": {
    "id": "GRI_R7xF0q1L"
   },
   "outputs": [
    {
     "data": {
      "image/png": "[encoded data removed]",
      "text/plain": [
       "<Figure size 1000x600 with 1 Axes>"
      ]
     },
     "metadata": {},
     "output_type": "display_data"
    }
   ],
   "source": [
    "# Compara la cantidad de tráfico de Internet consumido por usuarios por plan\n",
    "metrica = 'total_gb_usados'\n",
    "plt.figure(figsize=(10, 6))\n",
    "for plan in plans:\n",
    "    subset = tabla_general[tabla_general['plan_id'] == plan]\n",
    "    subset[metrica].plot(kind='hist', alpha=0.5, label=plan, bins=15)\n",
    "    \n",
    "plt.title(f'Distribución de {metrica} por plan')\n",
    "plt.xlabel(metrica)\n",
    "plt.ylabel('Frecuencia')\n",
    "plt.legend(plans)\n",
    "plt.show()\n"
   ]
  },
  {
   "cell_type": "code",
   "execution_count": 97,
   "metadata": {
    "id": "lSuKPtjh0q1M"
   },
   "outputs": [
    {
     "name": "stdout",
     "output_type": "stream",
     "text": [
      "Media de GB usados mensualmente: 16.989020641194553\n",
      "Media de GB usados mensualmente de usuarios surf: 16.831193838254173\n",
      "Media de GB usados mensualmente de usuarios ultimate: 17.331015299026426\n"
     ]
    }
   ],
   "source": [
    "tabla_general_filtrada_internet = tabla_general.dropna(subset=['total_gb_usados'])\n",
    "mean_internet = tabla_general_filtrada_internet['total_gb_usados'].mean()\n",
    "mean_internet_surf = tabla_general_filtrada_internet[tabla_general_filtrada_internet['plan_id']=='surf']['total_gb_usados'].mean()\n",
    "mean_internet_ultimate = tabla_general_filtrada_internet[tabla_general_filtrada_internet['plan_id']=='ultimate']['total_gb_usados'].mean()\n",
    "print(f\"Media de GB usados mensualmente: {mean_internet}\")\n",
    "print(f\"Media de GB usados mensualmente de usuarios surf: {mean_internet_surf}\")\n",
    "print(f\"Media de GB usados mensualmente de usuarios ultimate: {mean_internet_ultimate}\")"
   ]
  },
  {
   "cell_type": "code",
   "execution_count": 98,
   "metadata": {
    "id": "wnh8jYXi0q1N"
   },
   "outputs": [
    {
     "name": "stdout",
     "output_type": "stream",
     "text": [
      "Varianza de GB usados mensualmente: 59.19276165027674\n",
      "Varianza de GB usados mensualmente de usuarios surf: 59.47373409085474\n",
      "Varianza de GB usados mensualmente de usuarios ultimate: 58.494733090294865\n"
     ]
    }
   ],
   "source": [
    "tabla_general_filtrada_internet = tabla_general.dropna(subset=['total_gb_usados'])\n",
    "mean_internet = tabla_general_filtrada_internet['total_gb_usados'].var()\n",
    "mean_internet_surf = tabla_general_filtrada_internet[tabla_general_filtrada_internet['plan_id']=='surf']['total_gb_usados'].var()\n",
    "mean_internet_ultimate = tabla_general_filtrada_internet[tabla_general_filtrada_internet['plan_id']=='ultimate']['total_gb_usados'].var()\n",
    "print(f\"Varianza de GB usados mensualmente: {mean_internet}\")\n",
    "print(f\"Varianza de GB usados mensualmente de usuarios surf: {mean_internet_surf}\")\n",
    "print(f\"Varianza de GB usados mensualmente de usuarios ultimate: {mean_internet_ultimate}\")"
   ]
  },
  {
   "cell_type": "code",
   "execution_count": 99,
   "metadata": {
    "id": "5VlyJ9ry0q1N"
   },
   "outputs": [
    {
     "data": {
      "image/png": "[encoded data removed]",
      "text/plain": [
       "<Figure size 640x480 with 1 Axes>"
      ]
     },
     "metadata": {},
     "output_type": "display_data"
    }
   ],
   "source": [
    "plt.boxplot(tabla_general['total_gb_usados'].dropna())\n",
    "plt.show()"
   ]
  },
  {
   "cell_type": "code",
   "execution_count": 100,
   "metadata": {},
   "outputs": [
    {
     "data": {
      "image/png": "[encoded data removed]",
      "text/plain": [
       "<Figure size 640x480 with 1 Axes>"
      ]
     },
     "metadata": {},
     "output_type": "display_data"
    }
   ],
   "source": [
    "plt.boxplot(tabla_general[tabla_general['plan_id']=='surf']['total_gb_usados'].dropna())\n",
    "plt.show()"
   ]
  },
  {
   "cell_type": "code",
   "execution_count": 101,
   "metadata": {},
   "outputs": [
    {
     "data": {
      "image/png": "[encoded data removed]",
      "text/plain": [
       "<Figure size 640x480 with 1 Axes>"
      ]
     },
     "metadata": {},
     "output_type": "display_data"
    }
   ],
   "source": [
    "plt.boxplot(tabla_general[tabla_general['plan_id']=='ultimate']['total_gb_usados'].dropna())\n",
    "plt.show()"
   ]
  },
  {
   "cell_type": "markdown",
   "metadata": {
    "id": "UN9zwuMP0q1N"
   },
   "source": [
    "Aparentemente los datos de uso de GB no parecen muy diferentes con respecto a cada plan, pero al analizar las diferentes gráficas podemos notar que en el plan ultimate la media es mayor. "
   ]
  },
  {
   "cell_type": "markdown",
   "metadata": {},
   "source": [
    "<div class=\"alert alert-block alert-success\">\n",
    "<b>Éxito</b> <a class=\"tocSkip\"></a>\n",
    "    \n",
    "Utilizaste tablas pivote para calcular el número de llamadas, mensajes y datos de internet por usuario y mes, y graficaste estas distribuciones para analizar el comportamiento de los usuarios.\n",
    "    \n",
    "Calculaste estadísticas descriptivas como la media y varianza de la duración de llamadas, número de mensajes y uso de internet, además de trazar diagramas de caja para visualizar la distribución de estos datos.\n",
    "\n",
    "    \n",
    "</div>"
   ]
  },
  {
   "cell_type": "markdown",
   "metadata": {
    "id": "tCijq3260q1N"
   },
   "source": [
    "## Ingreso"
   ]
  },
  {
   "cell_type": "markdown",
   "metadata": {
    "id": "9nq5IAcy0q1O"
   },
   "source": [
    "Procederemos a ostrar en una gráfica los ingresos de los planes para comprobar su rentabilidad mensual."
   ]
  },
  {
   "cell_type": "code",
   "execution_count": 102,
   "metadata": {
    "id": "tz-dq_V00q1O"
   },
   "outputs": [
    {
     "name": "stdout",
     "output_type": "stream",
     "text": [
      "La rentabilidad mensual del plan surf es de : 95611.18\n",
      "La rentabilidad mensual del plan ultimate es de : 52346.0\n"
     ]
    }
   ],
   "source": [
    "plans = ['surf','ultimate']\n",
    "\n",
    "for plan in plans:\n",
    "    rentabilidad = tabla_general[tabla_general['plan_id'] == plan]['rentabilidad_mensual'].sum()\n",
    "    print(f'La rentabilidad mensual del plan {plan} es de : {rentabilidad}')"
   ]
  },
  {
   "cell_type": "code",
   "execution_count": 103,
   "metadata": {
    "id": "0Y1v8ZUz0q1P",
    "scrolled": true
   },
   "outputs": [
    {
     "data": {
      "image/png": "[encoded data removed]",
      "text/plain": [
       "<Figure size 640x480 with 1 Axes>"
      ]
     },
     "metadata": {},
     "output_type": "display_data"
    }
   ],
   "source": [
    "rentabilidad_por_plan = tabla_general.groupby('plan_id')['rentabilidad_mensual'].sum()\n",
    "rentabilidad_por_plan.plot(kind='bar', color=['lightblue', 'lightgreen'])\n",
    "plt.title('Rentabilidad Mensual Total por Plan')\n",
    "plt.xlabel('Plan')\n",
    "plt.ylabel('Rentabilidad Mensual Total ($)')\n",
    "plt.show()"
   ]
  },
  {
   "cell_type": "markdown",
   "metadata": {
    "id": "KAFidcXZ0q1P"
   },
   "source": [
    "\n",
    "Aparentemente el plan surf deja más rendimientos, la realidad es que se necesita de más personas para llegar a esos números, mientras que en el plan ultimate, con menos personas se llega a obtener más rendimiento, esto se comprobará o se refutará con la información siguiente.\n"
   ]
  },
  {
   "cell_type": "markdown",
   "metadata": {},
   "source": [
    "<div class=\"alert alert-block alert-success\">\n",
    "<b>Éxito</b> <a class=\"tocSkip\"></a>\n",
    "    \n",
    "Definiste funciones para calcular los minutos, mensajes y datos cobrables para los usuarios que exceden sus límites de plan y calculaste los ingresos mensuales para cada usuario.\n",
    "    \n",
    "Comparaste la rentabilidad mensual de los planes Surf y Ultimate, concluyendo que, aunque el plan Surf tiene más usuarios, el plan Ultimate genera más ingresos por usuario.\n",
    "\n",
    "    \n",
    "</div>"
   ]
  },
  {
   "cell_type": "markdown",
   "metadata": {
    "id": "ajJ7VKeI0q1Q"
   },
   "source": [
    "## Prueba las hipótesis estadísticas"
   ]
  },
  {
   "cell_type": "markdown",
   "metadata": {
    "id": "AdXAZ-yL0q1Q"
   },
   "source": [
    "Antes de proceder a realizar la prueba de las hipótesis nula y alternativa, con la información siguiente podemos demostrar que son más los usuarios en surf y que aún así los ingresos de ultimate, aunque parezcan menores, requieren de menos personas para tener un buen ingreso. "
   ]
  },
  {
   "cell_type": "code",
   "execution_count": 104,
   "metadata": {
    "id": "bYmwxyVh0q1P"
   },
   "outputs": [
    {
     "data": {
      "text/plain": [
       "1       20.00\n",
       "2       20.00\n",
       "3       90.09\n",
       "4       60.00\n",
       "5       60.00\n",
       "        ...  \n",
       "2295    20.00\n",
       "2298    20.00\n",
       "2299    20.00\n",
       "2300    20.00\n",
       "2302    20.00\n",
       "Name: rentabilidad_mensual, Length: 1579, dtype: float64"
      ]
     },
     "execution_count": 104,
     "metadata": {},
     "output_type": "execute_result"
    }
   ],
   "source": [
    "alpha = 0.05\n",
    "sample_1 = tabla_general.query('plan_id == \"surf\"')['rentabilidad_mensual']\n",
    "sample_1"
   ]
  },
  {
   "cell_type": "code",
   "execution_count": 105,
   "metadata": {},
   "outputs": [
    {
     "data": {
      "text/plain": [
       "0       70.0\n",
       "19      70.0\n",
       "20      84.0\n",
       "26      70.0\n",
       "27      70.0\n",
       "        ... \n",
       "2292    70.0\n",
       "2293    70.0\n",
       "2296    70.0\n",
       "2297    70.0\n",
       "2301    70.0\n",
       "Name: rentabilidad_mensual, Length: 724, dtype: float64"
      ]
     },
     "execution_count": 105,
     "metadata": {},
     "output_type": "execute_result"
    }
   ],
   "source": [
    "sample_2 = tabla_general.query('plan_id == \"ultimate\"')['rentabilidad_mensual']\n",
    "sample_2"
   ]
  },
  {
   "cell_type": "markdown",
   "metadata": {
    "id": "IQwa_hsh0q1Q"
   },
   "source": [
    "Utilizaremos una prueba Ttest_ind para comparar dos muestras y utilizaremos un valor alpha de 0.05 de manera arbitraria.\n",
    "La hipótesis nula es que los promedios de ambos planes son similares \n",
    "La hipótesis alternativa es que son diferentes.\n",
    "\n"
   ]
  },
  {
   "cell_type": "code",
   "execution_count": 106,
   "metadata": {
    "id": "nFoPNlPq0q1R"
   },
   "outputs": [
    {
     "name": "stdout",
     "output_type": "stream",
     "text": [
      "p-value: 1.218411585212325e-15\n"
     ]
    }
   ],
   "source": [
    "# Prueba las hipótesis\n",
    "resultados = st.ttest_ind(sample_1,sample_2, equal_var=False)\n",
    "\n",
    "print(f'p-value: {resultados.pvalue}')"
   ]
  },
  {
   "cell_type": "code",
   "execution_count": 107,
   "metadata": {},
   "outputs": [
    {
     "name": "stdout",
     "output_type": "stream",
     "text": [
      "Podemos rechazar la hipotesis nula\n"
     ]
    }
   ],
   "source": [
    "if resultados.pvalue < alpha:\n",
    "    print(\"Podemos rechazar la hipotesis nula\")\n",
    "else: \n",
    "    print(\"No podemos rechazar la hipotesis nula\")"
   ]
  },
  {
   "cell_type": "markdown",
   "metadata": {},
   "source": [
    "Se obtienen más ingresos por parte de los usuarios del plan Ultimate."
   ]
  },
  {
   "cell_type": "markdown",
   "metadata": {
    "id": "tCcAruM60q1R"
   },
   "source": [
    "Probaremos la hipótesis de que el ingreso promedio de los usuarios del área NY-NJ es diferente al de los usuarios de otras regiones."
   ]
  },
  {
   "cell_type": "code",
   "execution_count": 108,
   "metadata": {},
   "outputs": [],
   "source": [
    "tabla_general['in_NY_NJ'] = tabla_general['city'].str.contains('NY-NJ', case=False, na=False)"
   ]
  },
  {
   "cell_type": "code",
   "execution_count": 109,
   "metadata": {},
   "outputs": [
    {
     "data": {
      "text/plain": [
       "56       20.00\n",
       "57       38.84\n",
       "75       20.00\n",
       "76      100.00\n",
       "77       20.00\n",
       "         ...  \n",
       "2264    120.42\n",
       "2265    170.27\n",
       "2266    200.00\n",
       "2267    110.33\n",
       "2297     70.00\n",
       "Name: rentabilidad_mensual, Length: 378, dtype: float64"
      ]
     },
     "execution_count": 109,
     "metadata": {},
     "output_type": "execute_result"
    }
   ],
   "source": [
    "sample_nynj = tabla_general.query('in_NY_NJ == True')['rentabilidad_mensual']\n",
    "sample_nynj"
   ]
  },
  {
   "cell_type": "code",
   "execution_count": 110,
   "metadata": {},
   "outputs": [
    {
     "data": {
      "text/plain": [
       "0       70.00\n",
       "1       20.00\n",
       "2       20.00\n",
       "3       90.09\n",
       "4       60.00\n",
       "        ...  \n",
       "2298    20.00\n",
       "2299    20.00\n",
       "2300    20.00\n",
       "2301    70.00\n",
       "2302    20.00\n",
       "Name: rentabilidad_mensual, Length: 1925, dtype: float64"
      ]
     },
     "execution_count": 110,
     "metadata": {},
     "output_type": "execute_result"
    }
   ],
   "source": [
    "sample_others = tabla_general.query('in_NY_NJ == False')['rentabilidad_mensual']\n",
    "sample_others"
   ]
  },
  {
   "cell_type": "markdown",
   "metadata": {
    "id": "LsBgitqj0q1R"
   },
   "source": [
    "Utilizaremos ttest_ind  y el valor alpha 0.05 para el análisis \n",
    "\n",
    "\n",
    "Hipótesis nula:\n",
    "El ingreso promedio de los usuarios del área NY-NJ es igual al ingreso promedio de los usuarios de otras regiones. \n",
    "\n",
    "\n",
    "Hipótesis alternativa:\n",
    "El ingreso promedio de los usuarios del área NY-NJ es diferente al ingreso promedio de los usuarios de otras regiones."
   ]
  },
  {
   "cell_type": "code",
   "execution_count": 111,
   "metadata": {},
   "outputs": [
    {
     "name": "stdout",
     "output_type": "stream",
     "text": [
      "p-value: 0.03870322661292944\n"
     ]
    }
   ],
   "source": [
    "# Prueba las hipótesis\n",
    "resultados_city = st.ttest_ind(sample_nynj,sample_others, equal_var=False)\n",
    "\n",
    "print(f'p-value: {resultados_city.pvalue}')"
   ]
  },
  {
   "cell_type": "code",
   "execution_count": 112,
   "metadata": {},
   "outputs": [
    {
     "name": "stdout",
     "output_type": "stream",
     "text": [
      "Podemos rechazar la hipotesis nula\n"
     ]
    }
   ],
   "source": [
    "if resultados_city.pvalue < alpha:\n",
    "    print(\"Podemos rechazar la hipotesis nula\")\n",
    "else: \n",
    "    print(\"No podemos rechazar la hipotesis nula\")"
   ]
  },
  {
   "cell_type": "markdown",
   "metadata": {},
   "source": [
    "<div class=\"alert alert-block alert-success\">\n",
    "<b>Éxito</b> <a class=\"tocSkip\"></a>\n",
    "    \n",
    "Realizaste pruebas estadísticas utilizando la prueba T para comparar los ingresos promedio de los usuarios de los diferentes planes, concluyendo que los ingresos de los usuarios del plan Ultimate son significativamente mayores.\n",
    "    \n",
    "También comparaste los ingresos de los usuarios del área NY-NJ con los de otras regiones y encontraste diferencias significativas en los ingresos promedio.\n",
    "    \n",
    "</div>"
   ]
  },
  {
   "cell_type": "markdown",
   "metadata": {
    "id": "bbTR8UQO0q1T"
   },
   "source": [
    "## Conclusión general\n",
    "\n"
   ]
  },
  {
   "cell_type": "markdown",
   "metadata": {},
   "source": [
    "Realizamos una limpieza de datos, creamos columnas, unimos data frames y convertimos MB a GB para un análisis más claro.\n",
    "\n",
    "\n",
    "Utilizamos visualizaciones como gráficos de barras, diagramas de caja e histogramas para revelar patrones de uso de llamadas, mensajes y datos en GB.\n",
    "\n",
    "\n",
    "Usamos la media y la varianza y utilizamos la prueba t de Student e indicó diferencias significativas en los ingresos, destacando la variabilidad en la rentabilidad de cada tarifa.\n",
    "\n",
    "La conclusión del análisis muestra que, aunque la tarifa Surf tiene más clientes, la tarifa Ultimate, con menos clientes, genera ingresos comparables, lo cual puede resultar confuso. Pero, tras ver los resultados pudimos darnos cuenta que Ultimate puede estar generando más ingresos por usuario. Por tanto, se recomienda enfocar el presupuesto de publicidad en la tarifa más rentable y segmentar clientes según sus patrones de uso para maximizar ingresos."
   ]
  },
  {
   "cell_type": "markdown",
   "metadata": {},
   "source": [
    "<div class=\"alert alert-block alert-success\">\n",
    "<b>Éxito</b> <a class=\"tocSkip\"></a>\n",
    "    \n",
    "Sintetizaste los hallazgos y recomendaste enfocar el presupuesto de publicidad en la tarifa más rentable, segmentando a los clientes según sus patrones de uso para maximizar ingresos.\n",
    "\n",
    "Tu análisis fue metodológico, detallado y bien documentado, lo que facilita la interpretación y comunicación de los resultados. \n",
    "  \n",
    "¡Buen trabajo!\n",
    "\n",
    "</div>"
   ]
  },
  {
   "cell_type": "markdown",
   "metadata": {},
   "source": [
    "<div class=\"alert alert-block alert-warning\">\n",
    "<b>Recomendaciones para el proyecto de tu portafolio</b> <a class=\"tocSkip\"></a>\n",
    "    \n",
    "Rachel, aquí tienes algunas recomendaciones específicas para tu proyecto sobre la revisión de outliers y la varianza:\n",
    "    \n",
    "    \n",
    "\n",
    "**Revisión de Outliers**\n",
    "    \n",
    "Importancia de Revisar Outliers:\n",
    "\n",
    "- Influencia en Resultados: Los outliers pueden afectar significativamente los resultados estadísticos, distorsionando la media y la varianza. Esto puede llevar a conclusiones incorrectas sobre el comportamiento de los usuarios.\n",
    "Calidad de Datos: Identificar y tratar los outliers ayuda a mejorar la calidad de los datos y garantiza que los análisis sean más precisos.\n",
    "\n",
    "Cómo Aplicarlo:\n",
    "\n",
    "- Utiliza los diagramas de caja (boxplots) que ya generaste para identificar outliers en la duración de llamadas, el número de mensajes y el uso de internet.\n",
    "\n",
    "- Considera si estos outliers son errores de datos o valores extremos legítimos. Si son errores, corrígelos o exclúyelos del análisis para evitar distorsiones.\n",
    "    \n",
    "**Revisión de la Varianza**\n",
    "    \n",
    "Importancia de Revisar la Varianza:\n",
    "\n",
    "- Asunción de Homogeneidad: Para la prueba T de Student que usaste, es crucial verificar si las varianzas de los ingresos entre las tarifas Surf y Ultimate son iguales. Si las varianzas son diferentes, la asunción de homogeneidad no se cumple, y los resultados de la prueba pueden no ser válidos.\n",
    "Cómo Aplicarlo:\n",
    "\n",
    "- Realiza la prueba de Levene para verificar la homogeneidad de las varianzas antes de realizar la prueba T de Student. Esto asegurará que estás utilizando el parámetro correcto (equal_var).\n",
    "\n",
    "        from scipy.stats import levene\n",
    "\n",
    "        sample_surf = tabla_general.query('plan_id == \"surf\"')['rentabilidad_mensual']\n",
    "        sample_ultimate = tabla_general.query('plan_id == \"ultimate\"')['rentabilidad_mensual']\n",
    "\n",
    "        stat, p = levene(sample_surf, sample_ultimate)\n",
    "        print(f'Prueba de Levene p-value: {p}')\n",
    "\n",
    "        if p < 0.05:\n",
    "            print(\"Las varianzas son significativamente diferentes. Usa `equal_var=False` en ttest_ind.\")\n",
    "        else:\n",
    "            print(\"No hay diferencias significativas en las varianzas. Puedes usar `equal_var=True` en ttest_ind.\")\n",
    "\n",
    "        # Prueba T de Student considerando el resultado de la prueba de Levene\n",
    "        from scipy.stats import ttest_ind\n",
    "\n",
    "        resultados = ttest_ind(sample_surf, sample_ultimate, equal_var=(p >= 0.05))\n",
    "        print(f'p-value: {resultados.pvalue}')\n",
    "        if resultados.pvalue < 0.05:\n",
    "            print(\"Podemos rechazar la hipotesis nula\")\n",
    "        else:\n",
    "            print(\"No podemos rechazar la hipotesis nula\")                                    \n",
    "\n",
    "\n",
    "</div>"
   ]
  },
  {
   "cell_type": "code",
   "execution_count": null,
   "metadata": {},
   "outputs": [],
   "source": []
  }
 ],
 "metadata": {
  "ExecuteTimeLog": [
   {
    "duration": 828,
    "start_time": "2021-11-16T09:21:11.304Z"
   },
   {
    "duration": 893,
    "start_time": "2021-11-16T09:21:17.728Z"
   },
   {
    "duration": 1150,
    "start_time": "2021-11-16T09:21:29.568Z"
   },
   {
    "duration": 3,
    "start_time": "2021-11-16T09:24:14.495Z"
   },
   {
    "duration": 120,
    "start_time": "2021-11-16T09:24:46.630Z"
   },
   {
    "duration": 3,
    "start_time": "2021-11-16T09:28:27.882Z"
   },
   {
    "duration": 4,
    "start_time": "2021-11-16T09:29:54.281Z"
   },
   {
    "duration": 3,
    "start_time": "2021-11-16T09:30:45.936Z"
   },
   {
    "duration": 4,
    "start_time": "2021-11-16T09:31:06.300Z"
   },
   {
    "duration": 113,
    "start_time": "2021-11-16T09:31:37.208Z"
   },
   {
    "duration": 143,
    "start_time": "2021-11-16T09:31:48.656Z"
   },
   {
    "duration": 98,
    "start_time": "2021-11-16T09:31:55.678Z"
   },
   {
    "duration": 3,
    "start_time": "2021-11-16T09:32:08.535Z"
   },
   {
    "duration": 111,
    "start_time": "2021-11-16T09:32:10.120Z"
   },
   {
    "duration": 3,
    "start_time": "2021-11-16T09:32:15.732Z"
   },
   {
    "duration": 4,
    "start_time": "2021-11-16T09:32:29.423Z"
   },
   {
    "duration": 3,
    "start_time": "2021-11-16T10:03:03.074Z"
   },
   {
    "duration": 3,
    "start_time": "2021-11-16T10:10:01.288Z"
   },
   {
    "duration": 3,
    "start_time": "2021-11-16T10:10:46.923Z"
   },
   {
    "duration": 121,
    "start_time": "2021-11-16T10:37:46.494Z"
   },
   {
    "duration": 125,
    "start_time": "2021-11-16T10:38:20.632Z"
   },
   {
    "duration": 112,
    "start_time": "2021-11-16T10:46:53.001Z"
   },
   {
    "duration": 110,
    "start_time": "2021-11-16T10:48:25.775Z"
   },
   {
    "duration": 3,
    "start_time": "2021-11-16T10:50:18.720Z"
   },
   {
    "duration": 4,
    "start_time": "2021-11-16T10:50:37.649Z"
   },
   {
    "duration": 2,
    "start_time": "2021-11-16T10:50:51.884Z"
   },
   {
    "duration": 3,
    "start_time": "2021-11-16T10:51:56.237Z"
   },
   {
    "duration": 101,
    "start_time": "2021-11-16T10:53:13.791Z"
   },
   {
    "duration": 3,
    "start_time": "2021-11-16T10:55:59.186Z"
   },
   {
    "duration": 3,
    "start_time": "2021-11-16T10:56:10.751Z"
   },
   {
    "duration": 3,
    "start_time": "2021-11-16T10:56:49.038Z"
   },
   {
    "duration": 3,
    "start_time": "2021-11-16T10:56:49.174Z"
   },
   {
    "duration": 4,
    "start_time": "2021-11-16T10:56:49.414Z"
   },
   {
    "duration": 3,
    "start_time": "2021-11-16T10:56:49.680Z"
   },
   {
    "duration": 3,
    "start_time": "2021-11-16T10:56:50.370Z"
   },
   {
    "duration": 114,
    "start_time": "2021-11-16T10:59:34.518Z"
   },
   {
    "duration": 3,
    "start_time": "2021-11-16T11:01:41.201Z"
   },
   {
    "duration": 116,
    "start_time": "2021-11-16T11:01:48.754Z"
   },
   {
    "duration": 3,
    "start_time": "2021-11-16T11:02:16.685Z"
   },
   {
    "duration": 3,
    "start_time": "2021-11-16T11:02:19.479Z"
   },
   {
    "duration": 3,
    "start_time": "2021-11-16T11:02:47.067Z"
   },
   {
    "duration": 3,
    "start_time": "2021-11-16T11:02:49.353Z"
   },
   {
    "duration": 3,
    "start_time": "2021-11-16T11:03:07.835Z"
   },
   {
    "duration": 3,
    "start_time": "2021-11-16T11:03:07.953Z"
   },
   {
    "duration": 112,
    "start_time": "2021-11-16T11:07:52.072Z"
   },
   {
    "duration": 187,
    "start_time": "2021-11-16T11:09:23.468Z"
   },
   {
    "duration": 4,
    "start_time": "2021-11-16T11:10:01.455Z"
   },
   {
    "duration": 3,
    "start_time": "2021-11-16T11:10:05.069Z"
   },
   {
    "duration": 4,
    "start_time": "2021-11-16T11:10:13.376Z"
   },
   {
    "duration": 3,
    "start_time": "2021-11-16T11:10:14.434Z"
   },
   {
    "duration": 3,
    "start_time": "2021-11-16T11:10:22.853Z"
   },
   {
    "duration": 4,
    "start_time": "2021-11-16T11:27:29.279Z"
   },
   {
    "duration": 4,
    "start_time": "2021-11-16T11:29:08.919Z"
   },
   {
    "duration": 118,
    "start_time": "2021-11-16T11:29:46.703Z"
   },
   {
    "duration": 437,
    "start_time": "2021-11-16T11:36:02.181Z"
   },
   {
    "duration": 157,
    "start_time": "2021-11-16T11:36:14.388Z"
   },
   {
    "duration": 207,
    "start_time": "2021-11-16T11:47:15.898Z"
   },
   {
    "duration": 3,
    "start_time": "2021-11-16T11:53:52.092Z"
   },
   {
    "duration": 3,
    "start_time": "2021-11-16T11:53:52.236Z"
   },
   {
    "duration": 3,
    "start_time": "2021-11-16T11:59:12.005Z"
   },
   {
    "duration": 112,
    "start_time": "2021-11-16T12:00:33.446Z"
   },
   {
    "duration": 3,
    "start_time": "2021-11-16T12:02:14.453Z"
   },
   {
    "duration": 3,
    "start_time": "2021-11-16T12:02:39.512Z"
   },
   {
    "duration": 106,
    "start_time": "2021-11-16T12:03:03.460Z"
   },
   {
    "duration": 3,
    "start_time": "2021-11-17T20:37:21.139Z"
   },
   {
    "duration": 3,
    "start_time": "2021-11-17T20:37:22.229Z"
   },
   {
    "duration": 3,
    "start_time": "2021-11-17T20:38:38.806Z"
   },
   {
    "duration": 3,
    "start_time": "2021-11-17T20:38:41.958Z"
   },
   {
    "duration": 3,
    "start_time": "2021-11-17T20:43:46.551Z"
   },
   {
    "duration": 4,
    "start_time": "2021-11-17T20:58:21.835Z"
   },
   {
    "duration": 3,
    "start_time": "2021-11-17T20:59:21.872Z"
   },
   {
    "duration": 4,
    "start_time": "2021-11-17T20:59:45.352Z"
   },
   {
    "duration": 4,
    "start_time": "2021-11-17T20:59:49.646Z"
   },
   {
    "duration": 159,
    "start_time": "2021-11-17T21:02:26.949Z"
   },
   {
    "duration": 3,
    "start_time": "2021-11-17T21:03:53.461Z"
   },
   {
    "duration": 3,
    "start_time": "2021-11-17T21:03:53.694Z"
   },
   {
    "duration": 3,
    "start_time": "2021-11-17T21:05:28.145Z"
   },
   {
    "duration": 116,
    "start_time": "2021-11-17T21:05:57.787Z"
   },
   {
    "duration": 3,
    "start_time": "2021-11-17T21:06:37.993Z"
   },
   {
    "duration": 3,
    "start_time": "2021-11-17T21:06:38.261Z"
   },
   {
    "duration": 3,
    "start_time": "2021-11-17T21:11:54.358Z"
   },
   {
    "duration": 3,
    "start_time": "2021-11-17T21:12:43.846Z"
   },
   {
    "duration": 4,
    "start_time": "2021-11-17T21:13:08.773Z"
   },
   {
    "duration": 3,
    "start_time": "2021-11-17T21:14:44.441Z"
   },
   {
    "duration": 3,
    "start_time": "2021-11-17T21:15:42.059Z"
   },
   {
    "duration": 4,
    "start_time": "2021-11-17T21:15:51.995Z"
   },
   {
    "duration": 3,
    "start_time": "2021-11-17T21:15:53.923Z"
   },
   {
    "duration": 3,
    "start_time": "2021-11-17T21:15:55.282Z"
   },
   {
    "duration": 3,
    "start_time": "2021-11-17T21:16:28.492Z"
   },
   {
    "duration": 3,
    "start_time": "2021-11-17T21:16:32.603Z"
   },
   {
    "duration": 3,
    "start_time": "2021-11-17T21:17:06.941Z"
   },
   {
    "duration": 98,
    "start_time": "2021-11-17T21:18:05.733Z"
   },
   {
    "duration": 4,
    "start_time": "2021-11-17T21:21:35.255Z"
   },
   {
    "duration": 3,
    "start_time": "2021-11-17T21:21:37.804Z"
   },
   {
    "duration": 4,
    "start_time": "2021-11-17T21:23:06.071Z"
   },
   {
    "duration": 3,
    "start_time": "2021-11-17T21:23:24.799Z"
   },
   {
    "duration": 3,
    "start_time": "2021-11-17T21:23:32.591Z"
   },
   {
    "duration": 98,
    "start_time": "2021-11-17T21:28:31.559Z"
   },
   {
    "duration": 3,
    "start_time": "2021-11-17T21:28:45.448Z"
   },
   {
    "duration": 3,
    "start_time": "2021-11-17T21:29:17.303Z"
   },
   {
    "duration": 3,
    "start_time": "2021-11-17T21:29:29.617Z"
   },
   {
    "duration": 3,
    "start_time": "2021-11-17T21:29:32.681Z"
   },
   {
    "duration": 3,
    "start_time": "2021-11-17T21:36:11.474Z"
   },
   {
    "duration": 3,
    "start_time": "2021-11-17T21:36:14.791Z"
   },
   {
    "duration": 3,
    "start_time": "2021-11-17T21:36:53.943Z"
   },
   {
    "duration": 3,
    "start_time": "2021-11-17T21:36:56.165Z"
   },
   {
    "duration": 4,
    "start_time": "2021-11-17T21:37:16.590Z"
   },
   {
    "duration": 3,
    "start_time": "2021-11-17T21:37:22.702Z"
   },
   {
    "duration": 4,
    "start_time": "2021-11-17T21:38:03.479Z"
   },
   {
    "duration": 3,
    "start_time": "2021-11-17T21:38:08.601Z"
   },
   {
    "duration": 3,
    "start_time": "2021-11-17T21:38:12.928Z"
   },
   {
    "duration": 3,
    "start_time": "2021-11-17T21:38:48.896Z"
   },
   {
    "duration": 2,
    "start_time": "2021-11-17T21:38:49.171Z"
   },
   {
    "duration": 4,
    "start_time": "2021-11-17T21:39:57.889Z"
   },
   {
    "duration": 3,
    "start_time": "2021-11-17T21:39:58.057Z"
   },
   {
    "duration": 3,
    "start_time": "2021-11-17T21:41:20.108Z"
   },
   {
    "duration": 3,
    "start_time": "2021-11-17T21:41:20.629Z"
   },
   {
    "duration": 3,
    "start_time": "2021-11-17T21:42:49.136Z"
   },
   {
    "duration": 3,
    "start_time": "2021-11-17T21:43:15.137Z"
   },
   {
    "duration": 4,
    "start_time": "2021-11-17T21:43:16.766Z"
   },
   {
    "duration": 4,
    "start_time": "2021-11-17T21:43:31.711Z"
   },
   {
    "duration": 3,
    "start_time": "2021-11-17T21:43:36.312Z"
   },
   {
    "duration": 4,
    "start_time": "2021-11-17T21:45:08.825Z"
   },
   {
    "duration": 4,
    "start_time": "2021-11-17T21:45:10.119Z"
   },
   {
    "duration": 4,
    "start_time": "2021-11-17T21:45:13.748Z"
   },
   {
    "duration": 3,
    "start_time": "2021-11-17T21:45:22.219Z"
   },
   {
    "duration": 3,
    "start_time": "2021-11-17T21:45:33.412Z"
   },
   {
    "duration": 2,
    "start_time": "2021-11-17T21:46:01.885Z"
   },
   {
    "duration": 3,
    "start_time": "2021-11-17T21:46:03.628Z"
   },
   {
    "duration": 107,
    "start_time": "2021-11-17T21:47:32.512Z"
   },
   {
    "duration": 103,
    "start_time": "2021-11-17T21:50:36.243Z"
   },
   {
    "duration": 3,
    "start_time": "2021-11-18T06:28:31.440Z"
   },
   {
    "duration": 3,
    "start_time": "2021-11-18T06:29:00.168Z"
   },
   {
    "duration": 3,
    "start_time": "2021-11-18T06:31:27.008Z"
   },
   {
    "duration": 2,
    "start_time": "2021-11-18T06:35:34.288Z"
   },
   {
    "duration": 2,
    "start_time": "2021-11-18T06:38:04.527Z"
   },
   {
    "duration": 388,
    "start_time": "2024-07-30T23:01:44.889Z"
   },
   {
    "duration": 26,
    "start_time": "2024-07-30T23:02:35.780Z"
   },
   {
    "duration": 1029,
    "start_time": "2024-07-30T23:03:16.049Z"
   },
   {
    "duration": 419,
    "start_time": "2024-07-30T23:03:18.626Z"
   },
   {
    "duration": 20,
    "start_time": "2024-07-30T23:04:46.638Z"
   },
   {
    "duration": 4,
    "start_time": "2024-07-30T23:08:16.836Z"
   },
   {
    "duration": 13,
    "start_time": "2024-07-30T23:08:26.034Z"
   },
   {
    "duration": 887,
    "start_time": "2024-07-31T02:03:06.277Z"
   },
   {
    "duration": 380,
    "start_time": "2024-07-31T02:03:08.734Z"
   },
   {
    "duration": 19,
    "start_time": "2024-07-31T02:03:12.734Z"
   },
   {
    "duration": 4,
    "start_time": "2024-07-31T02:14:25.654Z"
   },
   {
    "duration": 4,
    "start_time": "2024-07-31T02:14:27.998Z"
   },
   {
    "duration": 11,
    "start_time": "2024-07-31T02:14:32.383Z"
   },
   {
    "duration": 11,
    "start_time": "2024-07-31T02:20:16.950Z"
   },
   {
    "duration": 9,
    "start_time": "2024-07-31T02:20:44.730Z"
   },
   {
    "duration": 13,
    "start_time": "2024-07-31T02:21:00.890Z"
   },
   {
    "duration": 13,
    "start_time": "2024-07-31T02:21:20.884Z"
   },
   {
    "duration": 1094,
    "start_time": "2024-07-31T03:51:24.029Z"
   },
   {
    "duration": 381,
    "start_time": "2024-07-31T03:51:26.326Z"
   },
   {
    "duration": 18,
    "start_time": "2024-07-31T03:51:29.674Z"
   },
   {
    "duration": 37,
    "start_time": "2024-07-31T03:51:32.645Z"
   },
   {
    "duration": 10,
    "start_time": "2024-07-31T03:51:35.277Z"
   },
   {
    "duration": 11,
    "start_time": "2024-07-31T03:51:38.459Z"
   },
   {
    "duration": 13,
    "start_time": "2024-07-31T03:51:41.038Z"
   },
   {
    "duration": 5,
    "start_time": "2024-07-31T03:51:47.129Z"
   },
   {
    "duration": 11,
    "start_time": "2024-07-31T03:51:49.257Z"
   },
   {
    "duration": 11,
    "start_time": "2024-07-31T03:53:29.392Z"
   },
   {
    "duration": 25,
    "start_time": "2024-07-31T03:53:37.638Z"
   },
   {
    "duration": 18,
    "start_time": "2024-07-31T03:54:35.070Z"
   },
   {
    "duration": 15,
    "start_time": "2024-07-31T03:55:21.080Z"
   },
   {
    "duration": 13,
    "start_time": "2024-07-31T03:55:24.443Z"
   },
   {
    "duration": 21,
    "start_time": "2024-07-31T03:56:00.256Z"
   },
   {
    "duration": 29,
    "start_time": "2024-07-31T04:03:31.861Z"
   },
   {
    "duration": 20,
    "start_time": "2024-07-31T04:03:52.840Z"
   },
   {
    "duration": 58,
    "start_time": "2024-07-31T04:04:25.136Z"
   },
   {
    "duration": 40,
    "start_time": "2024-07-31T04:07:03.569Z"
   },
   {
    "duration": 28,
    "start_time": "2024-07-31T04:14:25.458Z"
   },
   {
    "duration": 29,
    "start_time": "2024-07-31T04:22:39.724Z"
   },
   {
    "duration": 13,
    "start_time": "2024-07-31T04:22:58.780Z"
   },
   {
    "duration": 20,
    "start_time": "2024-07-31T04:23:14.412Z"
   },
   {
    "duration": 15,
    "start_time": "2024-07-31T04:33:58.919Z"
   },
   {
    "duration": 14,
    "start_time": "2024-07-31T04:34:20.314Z"
   },
   {
    "duration": 31,
    "start_time": "2024-07-31T04:41:11.784Z"
   },
   {
    "duration": 19,
    "start_time": "2024-07-31T04:41:38.577Z"
   },
   {
    "duration": 18,
    "start_time": "2024-07-31T04:42:28.667Z"
   },
   {
    "duration": 25,
    "start_time": "2024-07-31T04:42:35.564Z"
   },
   {
    "duration": 19,
    "start_time": "2024-07-31T04:43:02.014Z"
   },
   {
    "duration": 63,
    "start_time": "2024-07-31T04:45:13.504Z"
   },
   {
    "duration": 3,
    "start_time": "2024-07-31T04:45:25.059Z"
   },
   {
    "duration": 65,
    "start_time": "2024-07-31T04:45:27.188Z"
   },
   {
    "duration": 918,
    "start_time": "2024-07-31T04:46:24.352Z"
   },
   {
    "duration": 278,
    "start_time": "2024-07-31T04:46:25.273Z"
   },
   {
    "duration": 19,
    "start_time": "2024-07-31T04:46:25.553Z"
   },
   {
    "duration": 20,
    "start_time": "2024-07-31T04:46:25.574Z"
   },
   {
    "duration": 9,
    "start_time": "2024-07-31T04:46:25.599Z"
   },
   {
    "duration": 13,
    "start_time": "2024-07-31T04:46:25.611Z"
   },
   {
    "duration": 15,
    "start_time": "2024-07-31T04:46:25.627Z"
   },
   {
    "duration": 47,
    "start_time": "2024-07-31T04:46:25.645Z"
   },
   {
    "duration": 4,
    "start_time": "2024-07-31T04:46:25.695Z"
   },
   {
    "duration": 17,
    "start_time": "2024-07-31T04:46:25.702Z"
   },
   {
    "duration": 4,
    "start_time": "2024-07-31T04:46:25.721Z"
   },
   {
    "duration": 4,
    "start_time": "2024-07-31T04:46:25.728Z"
   },
   {
    "duration": 75,
    "start_time": "2024-07-31T04:46:25.736Z"
   },
   {
    "duration": 19,
    "start_time": "2024-07-31T04:46:25.819Z"
   },
   {
    "duration": 89,
    "start_time": "2024-07-31T04:46:25.841Z"
   },
   {
    "duration": 448,
    "start_time": "2024-07-31T04:46:25.933Z"
   },
   {
    "duration": 0,
    "start_time": "2024-07-31T04:46:26.392Z"
   },
   {
    "duration": 0,
    "start_time": "2024-07-31T04:46:26.395Z"
   },
   {
    "duration": 0,
    "start_time": "2024-07-31T04:46:26.397Z"
   },
   {
    "duration": 0,
    "start_time": "2024-07-31T04:46:26.399Z"
   },
   {
    "duration": 0,
    "start_time": "2024-07-31T04:46:26.401Z"
   },
   {
    "duration": 0,
    "start_time": "2024-07-31T04:46:26.403Z"
   },
   {
    "duration": 0,
    "start_time": "2024-07-31T04:46:26.406Z"
   },
   {
    "duration": 0,
    "start_time": "2024-07-31T04:46:26.408Z"
   },
   {
    "duration": 0,
    "start_time": "2024-07-31T04:46:26.411Z"
   },
   {
    "duration": 0,
    "start_time": "2024-07-31T04:46:26.413Z"
   },
   {
    "duration": 0,
    "start_time": "2024-07-31T04:46:26.415Z"
   },
   {
    "duration": 0,
    "start_time": "2024-07-31T04:46:26.417Z"
   },
   {
    "duration": 0,
    "start_time": "2024-07-31T04:46:26.420Z"
   },
   {
    "duration": 0,
    "start_time": "2024-07-31T04:46:26.422Z"
   },
   {
    "duration": 0,
    "start_time": "2024-07-31T04:46:26.424Z"
   },
   {
    "duration": 0,
    "start_time": "2024-07-31T04:46:26.426Z"
   },
   {
    "duration": 0,
    "start_time": "2024-07-31T04:46:26.428Z"
   },
   {
    "duration": 0,
    "start_time": "2024-07-31T04:46:26.431Z"
   },
   {
    "duration": 0,
    "start_time": "2024-07-31T04:46:26.434Z"
   },
   {
    "duration": 0,
    "start_time": "2024-07-31T04:46:26.490Z"
   },
   {
    "duration": 0,
    "start_time": "2024-07-31T04:46:26.492Z"
   },
   {
    "duration": 0,
    "start_time": "2024-07-31T04:46:26.499Z"
   },
   {
    "duration": 0,
    "start_time": "2024-07-31T04:46:26.506Z"
   },
   {
    "duration": 0,
    "start_time": "2024-07-31T04:46:26.507Z"
   },
   {
    "duration": 0,
    "start_time": "2024-07-31T04:46:26.509Z"
   },
   {
    "duration": 0,
    "start_time": "2024-07-31T04:46:26.512Z"
   },
   {
    "duration": 0,
    "start_time": "2024-07-31T04:46:26.515Z"
   },
   {
    "duration": 0,
    "start_time": "2024-07-31T04:46:26.517Z"
   },
   {
    "duration": 0,
    "start_time": "2024-07-31T04:46:26.519Z"
   },
   {
    "duration": 0,
    "start_time": "2024-07-31T04:46:26.522Z"
   },
   {
    "duration": 0,
    "start_time": "2024-07-31T04:46:26.524Z"
   },
   {
    "duration": 0,
    "start_time": "2024-07-31T04:46:26.526Z"
   },
   {
    "duration": 4,
    "start_time": "2024-07-31T04:48:38.908Z"
   },
   {
    "duration": 285,
    "start_time": "2024-07-31T04:48:40.344Z"
   },
   {
    "duration": 12,
    "start_time": "2024-07-31T04:48:43.040Z"
   },
   {
    "duration": 13,
    "start_time": "2024-07-31T04:48:44.664Z"
   },
   {
    "duration": 11,
    "start_time": "2024-07-31T04:48:45.734Z"
   },
   {
    "duration": 12,
    "start_time": "2024-07-31T04:48:47.319Z"
   },
   {
    "duration": 13,
    "start_time": "2024-07-31T04:48:48.420Z"
   },
   {
    "duration": 17,
    "start_time": "2024-07-31T04:48:52.010Z"
   },
   {
    "duration": 25,
    "start_time": "2024-07-31T04:48:56.071Z"
   },
   {
    "duration": 19,
    "start_time": "2024-07-31T04:48:58.104Z"
   },
   {
    "duration": 58,
    "start_time": "2024-07-31T04:48:59.141Z"
   },
   {
    "duration": 38,
    "start_time": "2024-07-31T04:49:00.279Z"
   },
   {
    "duration": 46,
    "start_time": "2024-07-31T04:49:33.597Z"
   },
   {
    "duration": 5,
    "start_time": "2024-07-31T04:49:37.358Z"
   },
   {
    "duration": 11,
    "start_time": "2024-07-31T04:49:38.164Z"
   },
   {
    "duration": 28,
    "start_time": "2024-07-31T04:49:40.162Z"
   },
   {
    "duration": 21,
    "start_time": "2024-07-31T04:49:40.754Z"
   },
   {
    "duration": 15,
    "start_time": "2024-07-31T04:49:42.563Z"
   },
   {
    "duration": 12,
    "start_time": "2024-07-31T04:49:43.270Z"
   },
   {
    "duration": 22,
    "start_time": "2024-07-31T04:49:49.418Z"
   },
   {
    "duration": 68,
    "start_time": "2024-07-31T04:49:51.248Z"
   },
   {
    "duration": 24,
    "start_time": "2024-07-31T04:49:52.608Z"
   },
   {
    "duration": 23,
    "start_time": "2024-07-31T04:49:59.842Z"
   },
   {
    "duration": 20,
    "start_time": "2024-07-31T04:50:00.712Z"
   },
   {
    "duration": 19,
    "start_time": "2024-07-31T04:50:05.176Z"
   },
   {
    "duration": 19,
    "start_time": "2024-07-31T04:51:28.505Z"
   },
   {
    "duration": 10,
    "start_time": "2024-07-31T04:52:11.913Z"
   },
   {
    "duration": 10,
    "start_time": "2024-07-31T04:52:37.929Z"
   },
   {
    "duration": 29,
    "start_time": "2024-07-31T05:01:42.908Z"
   },
   {
    "duration": 912,
    "start_time": "2024-07-31T14:20:19.773Z"
   },
   {
    "duration": 377,
    "start_time": "2024-07-31T14:20:20.688Z"
   },
   {
    "duration": 19,
    "start_time": "2024-07-31T14:20:21.068Z"
   },
   {
    "duration": 13,
    "start_time": "2024-07-31T14:20:21.091Z"
   },
   {
    "duration": 28,
    "start_time": "2024-07-31T14:20:21.108Z"
   },
   {
    "duration": 16,
    "start_time": "2024-07-31T14:20:21.139Z"
   },
   {
    "duration": 14,
    "start_time": "2024-07-31T14:20:21.157Z"
   },
   {
    "duration": 3,
    "start_time": "2024-07-31T14:20:21.175Z"
   },
   {
    "duration": 4,
    "start_time": "2024-07-31T14:20:21.181Z"
   },
   {
    "duration": 14,
    "start_time": "2024-07-31T14:20:21.235Z"
   },
   {
    "duration": 5,
    "start_time": "2024-07-31T14:20:21.254Z"
   },
   {
    "duration": 4,
    "start_time": "2024-07-31T14:20:21.261Z"
   },
   {
    "duration": 24,
    "start_time": "2024-07-31T14:20:21.268Z"
   },
   {
    "duration": 56,
    "start_time": "2024-07-31T14:20:21.295Z"
   },
   {
    "duration": 56,
    "start_time": "2024-07-31T14:20:21.355Z"
   },
   {
    "duration": 40,
    "start_time": "2024-07-31T14:20:21.433Z"
   },
   {
    "duration": 27,
    "start_time": "2024-07-31T14:20:21.476Z"
   },
   {
    "duration": 54,
    "start_time": "2024-07-31T14:20:21.506Z"
   },
   {
    "duration": 26,
    "start_time": "2024-07-31T14:20:21.563Z"
   },
   {
    "duration": 4,
    "start_time": "2024-07-31T14:20:21.592Z"
   },
   {
    "duration": 46,
    "start_time": "2024-07-31T14:20:21.599Z"
   },
   {
    "duration": 18,
    "start_time": "2024-07-31T14:20:21.648Z"
   },
   {
    "duration": 15,
    "start_time": "2024-07-31T14:20:21.669Z"
   },
   {
    "duration": 57,
    "start_time": "2024-07-31T14:20:21.687Z"
   },
   {
    "duration": 3,
    "start_time": "2024-07-31T14:20:21.747Z"
   },
   {
    "duration": 24,
    "start_time": "2024-07-31T14:20:21.753Z"
   },
   {
    "duration": 3,
    "start_time": "2024-07-31T14:20:21.780Z"
   },
   {
    "duration": 104,
    "start_time": "2024-07-31T14:20:21.792Z"
   },
   {
    "duration": 45,
    "start_time": "2024-07-31T14:20:21.899Z"
   },
   {
    "duration": 23,
    "start_time": "2024-07-31T14:20:21.946Z"
   },
   {
    "duration": 19,
    "start_time": "2024-07-31T14:20:21.972Z"
   },
   {
    "duration": 48,
    "start_time": "2024-07-31T14:20:21.994Z"
   },
   {
    "duration": 15,
    "start_time": "2024-07-31T14:20:22.045Z"
   },
   {
    "duration": 3,
    "start_time": "2024-07-31T14:20:22.063Z"
   },
   {
    "duration": 4,
    "start_time": "2024-07-31T14:20:22.069Z"
   },
   {
    "duration": 4,
    "start_time": "2024-07-31T14:20:22.076Z"
   },
   {
    "duration": 51,
    "start_time": "2024-07-31T14:20:22.083Z"
   },
   {
    "duration": 4,
    "start_time": "2024-07-31T14:20:22.136Z"
   },
   {
    "duration": 4,
    "start_time": "2024-07-31T14:20:22.143Z"
   },
   {
    "duration": 4,
    "start_time": "2024-07-31T14:20:22.149Z"
   },
   {
    "duration": 4,
    "start_time": "2024-07-31T14:20:22.156Z"
   },
   {
    "duration": 4,
    "start_time": "2024-07-31T14:20:22.163Z"
   },
   {
    "duration": 3,
    "start_time": "2024-07-31T14:20:22.171Z"
   },
   {
    "duration": 57,
    "start_time": "2024-07-31T14:20:22.178Z"
   },
   {
    "duration": 4,
    "start_time": "2024-07-31T14:20:22.238Z"
   },
   {
    "duration": 3,
    "start_time": "2024-07-31T14:20:22.245Z"
   },
   {
    "duration": 4,
    "start_time": "2024-07-31T14:20:22.251Z"
   },
   {
    "duration": 3,
    "start_time": "2024-07-31T14:20:22.259Z"
   },
   {
    "duration": 4,
    "start_time": "2024-07-31T14:20:22.266Z"
   },
   {
    "duration": 10,
    "start_time": "2024-07-31T14:25:55.081Z"
   },
   {
    "duration": 18,
    "start_time": "2024-07-31T14:28:11.806Z"
   },
   {
    "duration": 18,
    "start_time": "2024-07-31T14:28:14.248Z"
   },
   {
    "duration": 74,
    "start_time": "2024-07-31T14:28:29.608Z"
   },
   {
    "duration": 1192,
    "start_time": "2024-07-31T14:30:18.715Z"
   },
   {
    "duration": 16,
    "start_time": "2024-07-31T14:30:34.130Z"
   },
   {
    "duration": 13,
    "start_time": "2024-07-31T14:35:35.808Z"
   },
   {
    "duration": 17,
    "start_time": "2024-07-31T14:36:55.680Z"
   },
   {
    "duration": 27,
    "start_time": "2024-07-31T14:49:07.239Z"
   },
   {
    "duration": 8,
    "start_time": "2024-07-31T14:50:50.384Z"
   },
   {
    "duration": 14,
    "start_time": "2024-07-31T14:51:20.376Z"
   },
   {
    "duration": 13,
    "start_time": "2024-07-31T14:51:57.944Z"
   },
   {
    "duration": 14,
    "start_time": "2024-07-31T14:58:14.994Z"
   },
   {
    "duration": 10,
    "start_time": "2024-07-31T14:59:30.151Z"
   },
   {
    "duration": 9,
    "start_time": "2024-07-31T14:59:38.141Z"
   },
   {
    "duration": 20,
    "start_time": "2024-07-31T15:02:57.826Z"
   },
   {
    "duration": 11,
    "start_time": "2024-07-31T15:03:01.315Z"
   },
   {
    "duration": 14,
    "start_time": "2024-07-31T15:06:35.227Z"
   },
   {
    "duration": 81,
    "start_time": "2024-07-31T15:08:18.347Z"
   },
   {
    "duration": 15,
    "start_time": "2024-07-31T15:08:42.003Z"
   },
   {
    "duration": 20,
    "start_time": "2024-07-31T15:12:58.726Z"
   },
   {
    "duration": 79,
    "start_time": "2024-07-31T15:15:33.974Z"
   },
   {
    "duration": 16,
    "start_time": "2024-07-31T15:15:52.299Z"
   },
   {
    "duration": 19,
    "start_time": "2024-07-31T15:18:13.108Z"
   },
   {
    "duration": 19,
    "start_time": "2024-07-31T15:19:22.842Z"
   },
   {
    "duration": 17,
    "start_time": "2024-07-31T15:23:20.306Z"
   },
   {
    "duration": 3,
    "start_time": "2024-07-31T15:26:30.355Z"
   },
   {
    "duration": 4,
    "start_time": "2024-07-31T15:35:27.256Z"
   },
   {
    "duration": 23,
    "start_time": "2024-07-31T15:38:06.802Z"
   },
   {
    "duration": 87,
    "start_time": "2024-07-31T15:38:20.116Z"
   },
   {
    "duration": 12,
    "start_time": "2024-07-31T15:45:37.163Z"
   },
   {
    "duration": 53,
    "start_time": "2024-07-31T15:51:39.225Z"
   },
   {
    "duration": 3,
    "start_time": "2024-07-31T15:51:39.282Z"
   },
   {
    "duration": 10,
    "start_time": "2024-07-31T15:55:21.685Z"
   },
   {
    "duration": 12,
    "start_time": "2024-07-31T15:59:19.456Z"
   },
   {
    "duration": 762,
    "start_time": "2024-07-31T16:00:12.906Z"
   },
   {
    "duration": 55,
    "start_time": "2024-07-31T16:00:33.187Z"
   },
   {
    "duration": 911,
    "start_time": "2024-07-31T16:00:45.487Z"
   },
   {
    "duration": 281,
    "start_time": "2024-07-31T16:00:46.402Z"
   },
   {
    "duration": 20,
    "start_time": "2024-07-31T16:00:46.687Z"
   },
   {
    "duration": 26,
    "start_time": "2024-07-31T16:00:46.711Z"
   },
   {
    "duration": 11,
    "start_time": "2024-07-31T16:00:46.740Z"
   },
   {
    "duration": 12,
    "start_time": "2024-07-31T16:00:46.755Z"
   },
   {
    "duration": 15,
    "start_time": "2024-07-31T16:00:46.771Z"
   },
   {
    "duration": 59,
    "start_time": "2024-07-31T16:00:46.789Z"
   },
   {
    "duration": 12,
    "start_time": "2024-07-31T16:00:46.852Z"
   },
   {
    "duration": 9,
    "start_time": "2024-07-31T16:00:46.870Z"
   },
   {
    "duration": 55,
    "start_time": "2024-07-31T16:00:46.883Z"
   },
   {
    "duration": 15,
    "start_time": "2024-07-31T16:00:46.941Z"
   },
   {
    "duration": 9,
    "start_time": "2024-07-31T16:00:46.958Z"
   },
   {
    "duration": 19,
    "start_time": "2024-07-31T16:00:46.970Z"
   },
   {
    "duration": 54,
    "start_time": "2024-07-31T16:00:46.992Z"
   },
   {
    "duration": 22,
    "start_time": "2024-07-31T16:00:47.049Z"
   },
   {
    "duration": 1730,
    "start_time": "2024-07-31T16:00:47.075Z"
   },
   {
    "duration": 0,
    "start_time": "2024-07-31T16:00:48.811Z"
   },
   {
    "duration": 0,
    "start_time": "2024-07-31T16:00:48.815Z"
   },
   {
    "duration": 0,
    "start_time": "2024-07-31T16:00:48.817Z"
   },
   {
    "duration": 0,
    "start_time": "2024-07-31T16:00:48.819Z"
   },
   {
    "duration": 0,
    "start_time": "2024-07-31T16:00:48.834Z"
   },
   {
    "duration": 0,
    "start_time": "2024-07-31T16:00:48.837Z"
   },
   {
    "duration": 0,
    "start_time": "2024-07-31T16:00:48.839Z"
   },
   {
    "duration": 0,
    "start_time": "2024-07-31T16:00:48.841Z"
   },
   {
    "duration": 0,
    "start_time": "2024-07-31T16:00:48.843Z"
   },
   {
    "duration": 0,
    "start_time": "2024-07-31T16:00:48.845Z"
   },
   {
    "duration": 1,
    "start_time": "2024-07-31T16:00:48.846Z"
   },
   {
    "duration": 0,
    "start_time": "2024-07-31T16:00:48.849Z"
   },
   {
    "duration": 0,
    "start_time": "2024-07-31T16:00:48.851Z"
   },
   {
    "duration": 0,
    "start_time": "2024-07-31T16:00:48.854Z"
   },
   {
    "duration": 1,
    "start_time": "2024-07-31T16:00:48.855Z"
   },
   {
    "duration": 0,
    "start_time": "2024-07-31T16:00:48.857Z"
   },
   {
    "duration": 0,
    "start_time": "2024-07-31T16:00:48.859Z"
   },
   {
    "duration": 0,
    "start_time": "2024-07-31T16:00:48.862Z"
   },
   {
    "duration": 0,
    "start_time": "2024-07-31T16:00:48.864Z"
   },
   {
    "duration": 0,
    "start_time": "2024-07-31T16:00:48.868Z"
   },
   {
    "duration": 0,
    "start_time": "2024-07-31T16:00:48.870Z"
   },
   {
    "duration": 0,
    "start_time": "2024-07-31T16:00:48.871Z"
   },
   {
    "duration": 0,
    "start_time": "2024-07-31T16:00:48.936Z"
   },
   {
    "duration": 0,
    "start_time": "2024-07-31T16:00:48.938Z"
   },
   {
    "duration": 0,
    "start_time": "2024-07-31T16:00:48.940Z"
   },
   {
    "duration": 0,
    "start_time": "2024-07-31T16:00:48.942Z"
   },
   {
    "duration": 0,
    "start_time": "2024-07-31T16:00:48.945Z"
   },
   {
    "duration": 0,
    "start_time": "2024-07-31T16:00:48.947Z"
   },
   {
    "duration": 0,
    "start_time": "2024-07-31T16:00:48.950Z"
   },
   {
    "duration": 0,
    "start_time": "2024-07-31T16:00:48.951Z"
   },
   {
    "duration": 1,
    "start_time": "2024-07-31T16:00:48.954Z"
   },
   {
    "duration": 0,
    "start_time": "2024-07-31T16:00:48.956Z"
   },
   {
    "duration": 0,
    "start_time": "2024-07-31T16:00:48.959Z"
   },
   {
    "duration": 0,
    "start_time": "2024-07-31T16:00:48.961Z"
   },
   {
    "duration": 0,
    "start_time": "2024-07-31T16:00:48.963Z"
   },
   {
    "duration": 0,
    "start_time": "2024-07-31T16:00:48.965Z"
   },
   {
    "duration": 0,
    "start_time": "2024-07-31T16:00:48.968Z"
   },
   {
    "duration": 0,
    "start_time": "2024-07-31T16:00:48.970Z"
   },
   {
    "duration": 0,
    "start_time": "2024-07-31T16:00:48.972Z"
   },
   {
    "duration": 0,
    "start_time": "2024-07-31T16:00:49.036Z"
   },
   {
    "duration": 0,
    "start_time": "2024-07-31T16:00:49.038Z"
   },
   {
    "duration": 0,
    "start_time": "2024-07-31T16:00:49.041Z"
   },
   {
    "duration": 0,
    "start_time": "2024-07-31T16:00:49.043Z"
   },
   {
    "duration": 0,
    "start_time": "2024-07-31T16:00:49.046Z"
   },
   {
    "duration": 1,
    "start_time": "2024-07-31T16:00:49.048Z"
   },
   {
    "duration": 0,
    "start_time": "2024-07-31T16:00:49.052Z"
   },
   {
    "duration": 927,
    "start_time": "2024-07-31T16:01:21.709Z"
   },
   {
    "duration": 267,
    "start_time": "2024-07-31T16:01:22.640Z"
   },
   {
    "duration": 27,
    "start_time": "2024-07-31T16:01:22.909Z"
   },
   {
    "duration": 11,
    "start_time": "2024-07-31T16:01:22.941Z"
   },
   {
    "duration": 10,
    "start_time": "2024-07-31T16:01:22.955Z"
   },
   {
    "duration": 13,
    "start_time": "2024-07-31T16:01:22.968Z"
   },
   {
    "duration": 51,
    "start_time": "2024-07-31T16:01:22.984Z"
   },
   {
    "duration": 15,
    "start_time": "2024-07-31T16:01:23.038Z"
   },
   {
    "duration": 13,
    "start_time": "2024-07-31T16:01:23.056Z"
   },
   {
    "duration": 8,
    "start_time": "2024-07-31T16:01:23.074Z"
   },
   {
    "duration": 56,
    "start_time": "2024-07-31T16:01:23.085Z"
   },
   {
    "duration": 16,
    "start_time": "2024-07-31T16:01:23.144Z"
   },
   {
    "duration": 9,
    "start_time": "2024-07-31T16:01:23.164Z"
   },
   {
    "duration": 59,
    "start_time": "2024-07-31T16:01:23.176Z"
   },
   {
    "duration": 15,
    "start_time": "2024-07-31T16:01:23.238Z"
   },
   {
    "duration": 22,
    "start_time": "2024-07-31T16:01:23.256Z"
   },
   {
    "duration": 1737,
    "start_time": "2024-07-31T16:01:23.281Z"
   },
   {
    "duration": 0,
    "start_time": "2024-07-31T16:01:25.023Z"
   },
   {
    "duration": 0,
    "start_time": "2024-07-31T16:01:25.026Z"
   },
   {
    "duration": 0,
    "start_time": "2024-07-31T16:01:25.035Z"
   },
   {
    "duration": 0,
    "start_time": "2024-07-31T16:01:25.038Z"
   },
   {
    "duration": 0,
    "start_time": "2024-07-31T16:01:25.041Z"
   },
   {
    "duration": 0,
    "start_time": "2024-07-31T16:01:25.042Z"
   },
   {
    "duration": 0,
    "start_time": "2024-07-31T16:01:25.044Z"
   },
   {
    "duration": 0,
    "start_time": "2024-07-31T16:01:25.046Z"
   },
   {
    "duration": 0,
    "start_time": "2024-07-31T16:01:25.048Z"
   },
   {
    "duration": 0,
    "start_time": "2024-07-31T16:01:25.050Z"
   },
   {
    "duration": 0,
    "start_time": "2024-07-31T16:01:25.052Z"
   },
   {
    "duration": 0,
    "start_time": "2024-07-31T16:01:25.053Z"
   },
   {
    "duration": 0,
    "start_time": "2024-07-31T16:01:25.055Z"
   },
   {
    "duration": 0,
    "start_time": "2024-07-31T16:01:25.057Z"
   },
   {
    "duration": 0,
    "start_time": "2024-07-31T16:01:25.059Z"
   },
   {
    "duration": 0,
    "start_time": "2024-07-31T16:01:25.062Z"
   },
   {
    "duration": 0,
    "start_time": "2024-07-31T16:01:25.072Z"
   },
   {
    "duration": 0,
    "start_time": "2024-07-31T16:01:25.074Z"
   },
   {
    "duration": 0,
    "start_time": "2024-07-31T16:01:25.075Z"
   },
   {
    "duration": 0,
    "start_time": "2024-07-31T16:01:25.078Z"
   },
   {
    "duration": 0,
    "start_time": "2024-07-31T16:01:25.079Z"
   },
   {
    "duration": 0,
    "start_time": "2024-07-31T16:01:25.080Z"
   },
   {
    "duration": 0,
    "start_time": "2024-07-31T16:01:25.081Z"
   },
   {
    "duration": 0,
    "start_time": "2024-07-31T16:01:25.083Z"
   },
   {
    "duration": 0,
    "start_time": "2024-07-31T16:01:25.138Z"
   },
   {
    "duration": 0,
    "start_time": "2024-07-31T16:01:25.139Z"
   },
   {
    "duration": 0,
    "start_time": "2024-07-31T16:01:25.141Z"
   },
   {
    "duration": 0,
    "start_time": "2024-07-31T16:01:25.144Z"
   },
   {
    "duration": 0,
    "start_time": "2024-07-31T16:01:25.147Z"
   },
   {
    "duration": 0,
    "start_time": "2024-07-31T16:01:25.149Z"
   },
   {
    "duration": 0,
    "start_time": "2024-07-31T16:01:25.151Z"
   },
   {
    "duration": 0,
    "start_time": "2024-07-31T16:01:25.154Z"
   },
   {
    "duration": 0,
    "start_time": "2024-07-31T16:01:25.156Z"
   },
   {
    "duration": 0,
    "start_time": "2024-07-31T16:01:25.158Z"
   },
   {
    "duration": 0,
    "start_time": "2024-07-31T16:01:25.161Z"
   },
   {
    "duration": 0,
    "start_time": "2024-07-31T16:01:25.163Z"
   },
   {
    "duration": 0,
    "start_time": "2024-07-31T16:01:25.165Z"
   },
   {
    "duration": 0,
    "start_time": "2024-07-31T16:01:25.167Z"
   },
   {
    "duration": 0,
    "start_time": "2024-07-31T16:01:25.171Z"
   },
   {
    "duration": 0,
    "start_time": "2024-07-31T16:01:25.172Z"
   },
   {
    "duration": 0,
    "start_time": "2024-07-31T16:01:25.174Z"
   },
   {
    "duration": 0,
    "start_time": "2024-07-31T16:01:25.235Z"
   },
   {
    "duration": 0,
    "start_time": "2024-07-31T16:01:25.238Z"
   },
   {
    "duration": 0,
    "start_time": "2024-07-31T16:01:25.240Z"
   },
   {
    "duration": 0,
    "start_time": "2024-07-31T16:01:25.243Z"
   },
   {
    "duration": 0,
    "start_time": "2024-07-31T16:01:25.246Z"
   },
   {
    "duration": 4,
    "start_time": "2024-07-31T16:01:42.293Z"
   },
   {
    "duration": 256,
    "start_time": "2024-07-31T16:01:43.321Z"
   },
   {
    "duration": 11,
    "start_time": "2024-07-31T16:01:46.086Z"
   },
   {
    "duration": 11,
    "start_time": "2024-07-31T16:01:48.448Z"
   },
   {
    "duration": 10,
    "start_time": "2024-07-31T16:01:50.388Z"
   },
   {
    "duration": 13,
    "start_time": "2024-07-31T16:01:52.535Z"
   },
   {
    "duration": 14,
    "start_time": "2024-07-31T16:01:54.688Z"
   },
   {
    "duration": 15,
    "start_time": "2024-07-31T16:01:57.151Z"
   },
   {
    "duration": 13,
    "start_time": "2024-07-31T16:01:59.303Z"
   },
   {
    "duration": 7,
    "start_time": "2024-07-31T16:02:01.135Z"
   },
   {
    "duration": 14,
    "start_time": "2024-07-31T16:02:04.035Z"
   },
   {
    "duration": 17,
    "start_time": "2024-07-31T16:02:05.847Z"
   },
   {
    "duration": 10,
    "start_time": "2024-07-31T16:02:07.702Z"
   },
   {
    "duration": 18,
    "start_time": "2024-07-31T16:02:10.047Z"
   },
   {
    "duration": 14,
    "start_time": "2024-07-31T16:02:12.511Z"
   },
   {
    "duration": 18,
    "start_time": "2024-07-31T16:02:14.142Z"
   },
   {
    "duration": 74,
    "start_time": "2024-07-31T16:02:16.606Z"
   },
   {
    "duration": 24,
    "start_time": "2024-07-31T16:02:33.400Z"
   },
   {
    "duration": 11,
    "start_time": "2024-07-31T16:02:35.459Z"
   },
   {
    "duration": 20,
    "start_time": "2024-07-31T16:02:37.203Z"
   },
   {
    "duration": 64,
    "start_time": "2024-07-31T16:02:39.121Z"
   },
   {
    "duration": 40,
    "start_time": "2024-07-31T16:02:40.363Z"
   },
   {
    "duration": 26,
    "start_time": "2024-07-31T16:02:41.398Z"
   },
   {
    "duration": 34,
    "start_time": "2024-07-31T16:02:45.434Z"
   },
   {
    "duration": 32,
    "start_time": "2024-07-31T16:02:48.554Z"
   },
   {
    "duration": 4,
    "start_time": "2024-07-31T16:02:52.225Z"
   },
   {
    "duration": 12,
    "start_time": "2024-07-31T16:02:53.667Z"
   },
   {
    "duration": 16,
    "start_time": "2024-07-31T16:02:56.033Z"
   },
   {
    "duration": 12,
    "start_time": "2024-07-31T16:02:57.363Z"
   },
   {
    "duration": 3,
    "start_time": "2024-07-31T16:02:59.510Z"
   },
   {
    "duration": 88,
    "start_time": "2024-07-31T16:03:00.430Z"
   },
   {
    "duration": 18,
    "start_time": "2024-07-31T16:03:02.585Z"
   },
   {
    "duration": 10,
    "start_time": "2024-07-31T16:03:04.829Z"
   },
   {
    "duration": 28,
    "start_time": "2024-07-31T16:03:06.088Z"
   },
   {
    "duration": 30,
    "start_time": "2024-07-31T16:03:08.307Z"
   },
   {
    "duration": 16,
    "start_time": "2024-07-31T16:03:10.063Z"
   },
   {
    "duration": 11,
    "start_time": "2024-07-31T16:03:12.321Z"
   },
   {
    "duration": 22,
    "start_time": "2024-07-31T16:03:14.967Z"
   },
   {
    "duration": 64,
    "start_time": "2024-07-31T16:03:18.859Z"
   },
   {
    "duration": 25,
    "start_time": "2024-07-31T16:03:21.407Z"
   },
   {
    "duration": 11,
    "start_time": "2024-07-31T16:03:48.769Z"
   },
   {
    "duration": 22,
    "start_time": "2024-07-31T16:03:53.186Z"
   },
   {
    "duration": 18,
    "start_time": "2024-07-31T16:03:54.284Z"
   },
   {
    "duration": 22,
    "start_time": "2024-07-31T16:03:56.646Z"
   },
   {
    "duration": 22,
    "start_time": "2024-07-31T16:03:59.736Z"
   },
   {
    "duration": 13,
    "start_time": "2024-07-31T16:04:00.947Z"
   },
   {
    "duration": 12,
    "start_time": "2024-07-31T16:04:05.467Z"
   },
   {
    "duration": 56,
    "start_time": "2024-07-31T16:04:07.193Z"
   },
   {
    "duration": 15,
    "start_time": "2024-07-31T16:04:09.251Z"
   },
   {
    "duration": 389,
    "start_time": "2024-07-31T16:10:21.580Z"
   },
   {
    "duration": 56,
    "start_time": "2024-07-31T16:10:54.166Z"
   },
   {
    "duration": 158,
    "start_time": "2024-07-31T16:11:37.020Z"
   },
   {
    "duration": 926,
    "start_time": "2024-07-31T17:22:35.931Z"
   },
   {
    "duration": 367,
    "start_time": "2024-07-31T17:22:36.861Z"
   },
   {
    "duration": 20,
    "start_time": "2024-07-31T17:22:37.230Z"
   },
   {
    "duration": 14,
    "start_time": "2024-07-31T17:22:37.253Z"
   },
   {
    "duration": 12,
    "start_time": "2024-07-31T17:22:37.291Z"
   },
   {
    "duration": 13,
    "start_time": "2024-07-31T17:22:37.306Z"
   },
   {
    "duration": 14,
    "start_time": "2024-07-31T17:22:37.321Z"
   },
   {
    "duration": 51,
    "start_time": "2024-07-31T17:22:37.339Z"
   },
   {
    "duration": 13,
    "start_time": "2024-07-31T17:22:37.393Z"
   },
   {
    "duration": 7,
    "start_time": "2024-07-31T17:22:37.409Z"
   },
   {
    "duration": 14,
    "start_time": "2024-07-31T17:22:37.420Z"
   },
   {
    "duration": 58,
    "start_time": "2024-07-31T17:22:37.438Z"
   },
   {
    "duration": 9,
    "start_time": "2024-07-31T17:22:37.499Z"
   },
   {
    "duration": 19,
    "start_time": "2024-07-31T17:22:37.515Z"
   },
   {
    "duration": 16,
    "start_time": "2024-07-31T17:22:37.537Z"
   },
   {
    "duration": 52,
    "start_time": "2024-07-31T17:22:37.555Z"
   },
   {
    "duration": 24,
    "start_time": "2024-07-31T17:22:37.611Z"
   },
   {
    "duration": 52,
    "start_time": "2024-07-31T17:22:37.638Z"
   },
   {
    "duration": 19,
    "start_time": "2024-07-31T17:22:37.694Z"
   },
   {
    "duration": 84,
    "start_time": "2024-07-31T17:22:37.716Z"
   },
   {
    "duration": 41,
    "start_time": "2024-07-31T17:22:37.803Z"
   },
   {
    "duration": 55,
    "start_time": "2024-07-31T17:22:37.847Z"
   },
   {
    "duration": 30,
    "start_time": "2024-07-31T17:22:37.906Z"
   },
   {
    "duration": 53,
    "start_time": "2024-07-31T17:22:37.940Z"
   },
   {
    "duration": 5,
    "start_time": "2024-07-31T17:22:37.997Z"
   },
   {
    "duration": 13,
    "start_time": "2024-07-31T17:22:38.006Z"
   },
   {
    "duration": 15,
    "start_time": "2024-07-31T17:22:38.022Z"
   },
   {
    "duration": 53,
    "start_time": "2024-07-31T17:22:38.040Z"
   },
   {
    "duration": 4,
    "start_time": "2024-07-31T17:22:38.097Z"
   },
   {
    "duration": 116,
    "start_time": "2024-07-31T17:22:38.104Z"
   },
   {
    "duration": 22,
    "start_time": "2024-07-31T17:22:38.224Z"
   },
   {
    "duration": 10,
    "start_time": "2024-07-31T17:22:38.249Z"
   },
   {
    "duration": 31,
    "start_time": "2024-07-31T17:22:38.292Z"
   },
   {
    "duration": 31,
    "start_time": "2024-07-31T17:22:38.326Z"
   },
   {
    "duration": 42,
    "start_time": "2024-07-31T17:22:38.359Z"
   },
   {
    "duration": 13,
    "start_time": "2024-07-31T17:22:38.404Z"
   },
   {
    "duration": 25,
    "start_time": "2024-07-31T17:22:38.420Z"
   },
   {
    "duration": 48,
    "start_time": "2024-07-31T17:22:38.448Z"
   },
   {
    "duration": 96,
    "start_time": "2024-07-31T17:22:38.500Z"
   },
   {
    "duration": 27,
    "start_time": "2024-07-31T17:22:38.599Z"
   },
   {
    "duration": 23,
    "start_time": "2024-07-31T17:22:38.635Z"
   },
   {
    "duration": 48,
    "start_time": "2024-07-31T17:22:38.661Z"
   },
   {
    "duration": 20,
    "start_time": "2024-07-31T17:22:38.712Z"
   },
   {
    "duration": 17,
    "start_time": "2024-07-31T17:22:38.735Z"
   },
   {
    "duration": 47,
    "start_time": "2024-07-31T17:22:38.755Z"
   },
   {
    "duration": 13,
    "start_time": "2024-07-31T17:22:38.805Z"
   },
   {
    "duration": 100,
    "start_time": "2024-07-31T17:22:38.821Z"
   },
   {
    "duration": 1212,
    "start_time": "2024-07-31T17:22:38.924Z"
   },
   {
    "duration": 0,
    "start_time": "2024-07-31T17:22:40.140Z"
   },
   {
    "duration": 0,
    "start_time": "2024-07-31T17:22:40.143Z"
   },
   {
    "duration": 0,
    "start_time": "2024-07-31T17:22:40.146Z"
   },
   {
    "duration": 0,
    "start_time": "2024-07-31T17:22:40.149Z"
   },
   {
    "duration": 0,
    "start_time": "2024-07-31T17:22:40.151Z"
   },
   {
    "duration": 0,
    "start_time": "2024-07-31T17:22:40.154Z"
   },
   {
    "duration": 0,
    "start_time": "2024-07-31T17:22:40.157Z"
   },
   {
    "duration": 0,
    "start_time": "2024-07-31T17:22:40.191Z"
   },
   {
    "duration": 0,
    "start_time": "2024-07-31T17:22:40.193Z"
   },
   {
    "duration": 0,
    "start_time": "2024-07-31T17:22:40.195Z"
   },
   {
    "duration": 0,
    "start_time": "2024-07-31T17:22:40.198Z"
   },
   {
    "duration": 0,
    "start_time": "2024-07-31T17:22:40.202Z"
   },
   {
    "duration": 0,
    "start_time": "2024-07-31T17:22:40.206Z"
   },
   {
    "duration": 0,
    "start_time": "2024-07-31T17:22:40.207Z"
   },
   {
    "duration": 58,
    "start_time": "2024-07-31T17:26:35.668Z"
   },
   {
    "duration": 55,
    "start_time": "2024-07-31T17:26:40.223Z"
   },
   {
    "duration": 18,
    "start_time": "2024-07-31T17:26:42.698Z"
   },
   {
    "duration": 56,
    "start_time": "2024-07-31T17:26:59.273Z"
   },
   {
    "duration": 54,
    "start_time": "2024-07-31T17:27:20.351Z"
   },
   {
    "duration": 51,
    "start_time": "2024-07-31T17:27:31.828Z"
   },
   {
    "duration": 58,
    "start_time": "2024-07-31T17:27:33.595Z"
   },
   {
    "duration": 58,
    "start_time": "2024-07-31T17:27:48.177Z"
   },
   {
    "duration": 51,
    "start_time": "2024-07-31T17:27:51.382Z"
   },
   {
    "duration": 14,
    "start_time": "2024-07-31T17:27:52.800Z"
   },
   {
    "duration": 33,
    "start_time": "2024-07-31T17:34:38.860Z"
   },
   {
    "duration": 19,
    "start_time": "2024-07-31T17:36:04.776Z"
   },
   {
    "duration": 18,
    "start_time": "2024-07-31T17:37:16.945Z"
   },
   {
    "duration": 27,
    "start_time": "2024-07-31T17:42:01.070Z"
   },
   {
    "duration": 18,
    "start_time": "2024-07-31T17:43:39.147Z"
   },
   {
    "duration": 17,
    "start_time": "2024-07-31T17:44:53.977Z"
   },
   {
    "duration": 4,
    "start_time": "2024-07-31T17:50:33.164Z"
   },
   {
    "duration": 16,
    "start_time": "2024-07-31T17:52:57.064Z"
   },
   {
    "duration": 25,
    "start_time": "2024-07-31T18:31:16.550Z"
   },
   {
    "duration": 28,
    "start_time": "2024-07-31T18:37:12.509Z"
   },
   {
    "duration": 870,
    "start_time": "2024-07-31T18:44:36.682Z"
   },
   {
    "duration": 15,
    "start_time": "2024-07-31T18:44:46.414Z"
   },
   {
    "duration": 30,
    "start_time": "2024-07-31T18:51:43.807Z"
   },
   {
    "duration": 22,
    "start_time": "2024-07-31T19:38:51.138Z"
   },
   {
    "duration": 5,
    "start_time": "2024-07-31T19:38:58.291Z"
   },
   {
    "duration": 4,
    "start_time": "2024-07-31T19:38:59.842Z"
   },
   {
    "duration": 66,
    "start_time": "2024-07-31T19:39:01.670Z"
   },
   {
    "duration": 68,
    "start_time": "2024-07-31T19:45:53.636Z"
   },
   {
    "duration": 65,
    "start_time": "2024-07-31T19:46:27.567Z"
   },
   {
    "duration": 48,
    "start_time": "2024-07-31T19:46:50.882Z"
   },
   {
    "duration": 49,
    "start_time": "2024-07-31T19:47:13.003Z"
   },
   {
    "duration": 25,
    "start_time": "2024-07-31T19:47:28.466Z"
   },
   {
    "duration": 16,
    "start_time": "2024-07-31T19:49:21.827Z"
   },
   {
    "duration": 17,
    "start_time": "2024-07-31T19:49:28.796Z"
   },
   {
    "duration": 44,
    "start_time": "2024-07-31T19:50:13.331Z"
   },
   {
    "duration": 62,
    "start_time": "2024-07-31T19:50:22.958Z"
   },
   {
    "duration": 9,
    "start_time": "2024-07-31T19:50:28.683Z"
   },
   {
    "duration": 5,
    "start_time": "2024-07-31T20:05:16.422Z"
   },
   {
    "duration": 60,
    "start_time": "2024-07-31T20:05:18.055Z"
   },
   {
    "duration": 58,
    "start_time": "2024-07-31T20:05:33.929Z"
   },
   {
    "duration": 62,
    "start_time": "2024-07-31T20:06:02.549Z"
   },
   {
    "duration": 10,
    "start_time": "2024-07-31T20:07:29.956Z"
   },
   {
    "duration": 8,
    "start_time": "2024-07-31T20:07:41.828Z"
   },
   {
    "duration": 5,
    "start_time": "2024-07-31T20:18:53.904Z"
   },
   {
    "duration": 59,
    "start_time": "2024-07-31T20:20:09.507Z"
   },
   {
    "duration": 6,
    "start_time": "2024-07-31T20:20:40.874Z"
   },
   {
    "duration": 63,
    "start_time": "2024-07-31T20:20:44.910Z"
   },
   {
    "duration": 61,
    "start_time": "2024-07-31T20:21:03.340Z"
   },
   {
    "duration": 62,
    "start_time": "2024-07-31T20:22:07.056Z"
   },
   {
    "duration": 10,
    "start_time": "2024-07-31T20:23:16.978Z"
   },
   {
    "duration": 896,
    "start_time": "2024-07-31T20:54:43.454Z"
   },
   {
    "duration": 292,
    "start_time": "2024-07-31T20:54:44.354Z"
   },
   {
    "duration": 23,
    "start_time": "2024-07-31T20:54:44.649Z"
   },
   {
    "duration": 24,
    "start_time": "2024-07-31T20:54:44.676Z"
   },
   {
    "duration": 11,
    "start_time": "2024-07-31T20:54:44.703Z"
   },
   {
    "duration": 17,
    "start_time": "2024-07-31T20:54:44.718Z"
   },
   {
    "duration": 71,
    "start_time": "2024-07-31T20:54:44.738Z"
   },
   {
    "duration": 29,
    "start_time": "2024-07-31T20:54:44.812Z"
   },
   {
    "duration": 14,
    "start_time": "2024-07-31T20:54:44.845Z"
   },
   {
    "duration": 8,
    "start_time": "2024-07-31T20:54:44.894Z"
   },
   {
    "duration": 14,
    "start_time": "2024-07-31T20:54:44.905Z"
   },
   {
    "duration": 15,
    "start_time": "2024-07-31T20:54:44.922Z"
   },
   {
    "duration": 58,
    "start_time": "2024-07-31T20:54:44.941Z"
   },
   {
    "duration": 19,
    "start_time": "2024-07-31T20:54:45.001Z"
   },
   {
    "duration": 15,
    "start_time": "2024-07-31T20:54:45.024Z"
   },
   {
    "duration": 19,
    "start_time": "2024-07-31T20:54:45.090Z"
   },
   {
    "duration": 25,
    "start_time": "2024-07-31T20:54:45.112Z"
   },
   {
    "duration": 12,
    "start_time": "2024-07-31T20:54:45.141Z"
   },
   {
    "duration": 20,
    "start_time": "2024-07-31T20:54:45.192Z"
   },
   {
    "duration": 96,
    "start_time": "2024-07-31T20:54:45.215Z"
   },
   {
    "duration": 41,
    "start_time": "2024-07-31T20:54:45.315Z"
   },
   {
    "duration": 53,
    "start_time": "2024-07-31T20:54:45.359Z"
   },
   {
    "duration": 28,
    "start_time": "2024-07-31T20:54:45.415Z"
   },
   {
    "duration": 60,
    "start_time": "2024-07-31T20:54:45.446Z"
   },
   {
    "duration": 5,
    "start_time": "2024-07-31T20:54:45.510Z"
   },
   {
    "duration": 13,
    "start_time": "2024-07-31T20:54:45.519Z"
   },
   {
    "duration": 59,
    "start_time": "2024-07-31T20:54:45.536Z"
   },
   {
    "duration": 15,
    "start_time": "2024-07-31T20:54:45.605Z"
   },
   {
    "duration": 4,
    "start_time": "2024-07-31T20:54:45.629Z"
   },
   {
    "duration": 122,
    "start_time": "2024-07-31T20:54:45.636Z"
   },
   {
    "duration": 37,
    "start_time": "2024-07-31T20:54:45.761Z"
   },
   {
    "duration": 10,
    "start_time": "2024-07-31T20:54:45.802Z"
   },
   {
    "duration": 32,
    "start_time": "2024-07-31T20:54:45.815Z"
   },
   {
    "duration": 69,
    "start_time": "2024-07-31T20:54:45.849Z"
   },
   {
    "duration": 17,
    "start_time": "2024-07-31T20:54:45.922Z"
   },
   {
    "duration": 50,
    "start_time": "2024-07-31T20:54:45.942Z"
   },
   {
    "duration": 22,
    "start_time": "2024-07-31T20:54:45.995Z"
   },
   {
    "duration": 12,
    "start_time": "2024-07-31T20:54:46.020Z"
   },
   {
    "duration": 106,
    "start_time": "2024-07-31T20:54:46.035Z"
   },
   {
    "duration": 54,
    "start_time": "2024-07-31T20:54:46.145Z"
   },
   {
    "duration": 23,
    "start_time": "2024-07-31T20:54:46.202Z"
   },
   {
    "duration": 21,
    "start_time": "2024-07-31T20:54:46.228Z"
   },
   {
    "duration": 53,
    "start_time": "2024-07-31T20:54:46.253Z"
   },
   {
    "duration": 15,
    "start_time": "2024-07-31T20:54:46.309Z"
   },
   {
    "duration": 14,
    "start_time": "2024-07-31T20:54:46.326Z"
   },
   {
    "duration": 55,
    "start_time": "2024-07-31T20:54:46.342Z"
   },
   {
    "duration": 58,
    "start_time": "2024-07-31T20:54:46.400Z"
   },
   {
    "duration": 14,
    "start_time": "2024-07-31T20:54:46.492Z"
   },
   {
    "duration": 1218,
    "start_time": "2024-07-31T20:54:46.509Z"
   },
   {
    "duration": 0,
    "start_time": "2024-07-31T20:54:47.730Z"
   },
   {
    "duration": 0,
    "start_time": "2024-07-31T20:54:47.732Z"
   },
   {
    "duration": 0,
    "start_time": "2024-07-31T20:54:47.734Z"
   },
   {
    "duration": 0,
    "start_time": "2024-07-31T20:54:47.737Z"
   },
   {
    "duration": 0,
    "start_time": "2024-07-31T20:54:47.739Z"
   },
   {
    "duration": 0,
    "start_time": "2024-07-31T20:54:47.741Z"
   },
   {
    "duration": 0,
    "start_time": "2024-07-31T20:54:47.743Z"
   },
   {
    "duration": 0,
    "start_time": "2024-07-31T20:54:47.746Z"
   },
   {
    "duration": 0,
    "start_time": "2024-07-31T20:54:47.748Z"
   },
   {
    "duration": 0,
    "start_time": "2024-07-31T20:54:47.751Z"
   },
   {
    "duration": 37,
    "start_time": "2024-07-31T20:54:47.753Z"
   },
   {
    "duration": 0,
    "start_time": "2024-07-31T20:54:47.792Z"
   },
   {
    "duration": 0,
    "start_time": "2024-07-31T20:54:47.794Z"
   },
   {
    "duration": 0,
    "start_time": "2024-07-31T20:54:47.797Z"
   },
   {
    "duration": 0,
    "start_time": "2024-07-31T20:54:47.800Z"
   },
   {
    "duration": 0,
    "start_time": "2024-07-31T20:54:47.806Z"
   },
   {
    "duration": 0,
    "start_time": "2024-07-31T20:54:47.808Z"
   },
   {
    "duration": 0,
    "start_time": "2024-07-31T20:54:47.812Z"
   },
   {
    "duration": 0,
    "start_time": "2024-07-31T20:54:47.815Z"
   },
   {
    "duration": 0,
    "start_time": "2024-07-31T20:54:47.818Z"
   },
   {
    "duration": 0,
    "start_time": "2024-07-31T20:54:47.821Z"
   },
   {
    "duration": 0,
    "start_time": "2024-07-31T20:54:47.824Z"
   },
   {
    "duration": 0,
    "start_time": "2024-07-31T20:54:47.826Z"
   },
   {
    "duration": 0,
    "start_time": "2024-07-31T20:54:47.830Z"
   },
   {
    "duration": 0,
    "start_time": "2024-07-31T20:54:47.831Z"
   },
   {
    "duration": 0,
    "start_time": "2024-07-31T20:54:47.891Z"
   },
   {
    "duration": 0,
    "start_time": "2024-07-31T20:54:47.893Z"
   },
   {
    "duration": 0,
    "start_time": "2024-07-31T20:54:47.896Z"
   },
   {
    "duration": 0,
    "start_time": "2024-07-31T20:54:47.898Z"
   },
   {
    "duration": 4,
    "start_time": "2024-07-31T20:55:07.326Z"
   },
   {
    "duration": 949,
    "start_time": "2024-07-31T21:09:22.993Z"
   },
   {
    "duration": 274,
    "start_time": "2024-07-31T21:09:23.946Z"
   },
   {
    "duration": 19,
    "start_time": "2024-07-31T21:09:24.223Z"
   },
   {
    "duration": 11,
    "start_time": "2024-07-31T21:09:24.247Z"
   },
   {
    "duration": 32,
    "start_time": "2024-07-31T21:09:24.261Z"
   },
   {
    "duration": 13,
    "start_time": "2024-07-31T21:09:24.296Z"
   },
   {
    "duration": 14,
    "start_time": "2024-07-31T21:09:24.312Z"
   },
   {
    "duration": 16,
    "start_time": "2024-07-31T21:09:24.329Z"
   },
   {
    "duration": 12,
    "start_time": "2024-07-31T21:09:24.392Z"
   },
   {
    "duration": 7,
    "start_time": "2024-07-31T21:09:24.411Z"
   },
   {
    "duration": 16,
    "start_time": "2024-07-31T21:09:24.421Z"
   },
   {
    "duration": 52,
    "start_time": "2024-07-31T21:09:24.440Z"
   },
   {
    "duration": 9,
    "start_time": "2024-07-31T21:09:24.496Z"
   },
   {
    "duration": 19,
    "start_time": "2024-07-31T21:09:24.509Z"
   },
   {
    "duration": 58,
    "start_time": "2024-07-31T21:09:24.531Z"
   },
   {
    "duration": 20,
    "start_time": "2024-07-31T21:09:24.593Z"
   },
   {
    "duration": 26,
    "start_time": "2024-07-31T21:09:24.616Z"
   },
   {
    "duration": 46,
    "start_time": "2024-07-31T21:09:24.645Z"
   },
   {
    "duration": 21,
    "start_time": "2024-07-31T21:09:24.693Z"
   },
   {
    "duration": 89,
    "start_time": "2024-07-31T21:09:24.717Z"
   },
   {
    "duration": 46,
    "start_time": "2024-07-31T21:09:24.809Z"
   },
   {
    "duration": 48,
    "start_time": "2024-07-31T21:09:24.857Z"
   },
   {
    "duration": 28,
    "start_time": "2024-07-31T21:09:24.908Z"
   },
   {
    "duration": 54,
    "start_time": "2024-07-31T21:09:24.940Z"
   },
   {
    "duration": 5,
    "start_time": "2024-07-31T21:09:24.997Z"
   },
   {
    "duration": 15,
    "start_time": "2024-07-31T21:09:25.005Z"
   },
   {
    "duration": 18,
    "start_time": "2024-07-31T21:09:25.023Z"
   },
   {
    "duration": 12,
    "start_time": "2024-07-31T21:09:25.090Z"
   },
   {
    "duration": 6,
    "start_time": "2024-07-31T21:09:25.105Z"
   },
   {
    "duration": 105,
    "start_time": "2024-07-31T21:09:25.114Z"
   },
   {
    "duration": 19,
    "start_time": "2024-07-31T21:09:25.222Z"
   },
   {
    "duration": 10,
    "start_time": "2024-07-31T21:09:25.244Z"
   },
   {
    "duration": 57,
    "start_time": "2024-07-31T21:09:25.256Z"
   },
   {
    "duration": 29,
    "start_time": "2024-07-31T21:09:25.316Z"
   },
   {
    "duration": 17,
    "start_time": "2024-07-31T21:09:25.347Z"
   },
   {
    "duration": 12,
    "start_time": "2024-07-31T21:09:25.392Z"
   },
   {
    "duration": 23,
    "start_time": "2024-07-31T21:09:25.407Z"
   },
   {
    "duration": 14,
    "start_time": "2024-07-31T21:09:25.433Z"
   },
   {
    "duration": 101,
    "start_time": "2024-07-31T21:09:25.450Z"
   },
   {
    "duration": 45,
    "start_time": "2024-07-31T21:09:25.554Z"
   },
   {
    "duration": 21,
    "start_time": "2024-07-31T21:09:25.602Z"
   },
   {
    "duration": 21,
    "start_time": "2024-07-31T21:09:25.626Z"
   },
   {
    "duration": 51,
    "start_time": "2024-07-31T21:09:25.650Z"
   },
   {
    "duration": 13,
    "start_time": "2024-07-31T21:09:25.704Z"
   },
   {
    "duration": 14,
    "start_time": "2024-07-31T21:09:25.720Z"
   },
   {
    "duration": 13,
    "start_time": "2024-07-31T21:09:25.737Z"
   },
   {
    "duration": 101,
    "start_time": "2024-07-31T21:09:25.753Z"
   },
   {
    "duration": 38,
    "start_time": "2024-07-31T21:09:25.857Z"
   },
   {
    "duration": 1212,
    "start_time": "2024-07-31T21:09:25.898Z"
   },
   {
    "duration": 0,
    "start_time": "2024-07-31T21:09:27.113Z"
   },
   {
    "duration": 0,
    "start_time": "2024-07-31T21:09:27.115Z"
   },
   {
    "duration": 0,
    "start_time": "2024-07-31T21:09:27.119Z"
   },
   {
    "duration": 0,
    "start_time": "2024-07-31T21:09:27.122Z"
   },
   {
    "duration": 0,
    "start_time": "2024-07-31T21:09:27.124Z"
   },
   {
    "duration": 0,
    "start_time": "2024-07-31T21:09:27.127Z"
   },
   {
    "duration": 0,
    "start_time": "2024-07-31T21:09:27.130Z"
   },
   {
    "duration": 0,
    "start_time": "2024-07-31T21:09:27.133Z"
   },
   {
    "duration": 0,
    "start_time": "2024-07-31T21:09:27.135Z"
   },
   {
    "duration": 0,
    "start_time": "2024-07-31T21:09:27.138Z"
   },
   {
    "duration": 0,
    "start_time": "2024-07-31T21:09:27.141Z"
   },
   {
    "duration": 0,
    "start_time": "2024-07-31T21:09:27.143Z"
   },
   {
    "duration": 0,
    "start_time": "2024-07-31T21:09:27.191Z"
   },
   {
    "duration": 0,
    "start_time": "2024-07-31T21:09:27.193Z"
   },
   {
    "duration": 0,
    "start_time": "2024-07-31T21:09:27.196Z"
   },
   {
    "duration": 0,
    "start_time": "2024-07-31T21:09:27.198Z"
   },
   {
    "duration": 0,
    "start_time": "2024-07-31T21:09:27.200Z"
   },
   {
    "duration": 0,
    "start_time": "2024-07-31T21:09:27.202Z"
   },
   {
    "duration": 0,
    "start_time": "2024-07-31T21:09:27.205Z"
   },
   {
    "duration": 0,
    "start_time": "2024-07-31T21:09:27.207Z"
   },
   {
    "duration": 0,
    "start_time": "2024-07-31T21:09:27.210Z"
   },
   {
    "duration": 0,
    "start_time": "2024-07-31T21:09:27.212Z"
   },
   {
    "duration": 0,
    "start_time": "2024-07-31T21:09:27.214Z"
   },
   {
    "duration": 0,
    "start_time": "2024-07-31T21:09:27.217Z"
   },
   {
    "duration": 0,
    "start_time": "2024-07-31T21:09:27.219Z"
   },
   {
    "duration": 0,
    "start_time": "2024-07-31T21:09:27.221Z"
   },
   {
    "duration": 0,
    "start_time": "2024-07-31T21:09:27.224Z"
   },
   {
    "duration": 0,
    "start_time": "2024-07-31T21:09:27.226Z"
   },
   {
    "duration": 0,
    "start_time": "2024-07-31T21:09:27.229Z"
   },
   {
    "duration": 32,
    "start_time": "2024-07-31T21:09:40.233Z"
   },
   {
    "duration": 16,
    "start_time": "2024-07-31T21:09:49.861Z"
   },
   {
    "duration": 28,
    "start_time": "2024-07-31T21:09:52.266Z"
   },
   {
    "duration": 16,
    "start_time": "2024-07-31T21:09:54.096Z"
   },
   {
    "duration": 4,
    "start_time": "2024-07-31T21:09:56.039Z"
   },
   {
    "duration": 16,
    "start_time": "2024-07-31T21:09:57.230Z"
   },
   {
    "duration": 24,
    "start_time": "2024-07-31T21:09:59.508Z"
   },
   {
    "duration": 29,
    "start_time": "2024-07-31T21:10:01.562Z"
   },
   {
    "duration": 16,
    "start_time": "2024-07-31T21:10:03.568Z"
   },
   {
    "duration": 28,
    "start_time": "2024-07-31T21:10:05.690Z"
   },
   {
    "duration": 4,
    "start_time": "2024-07-31T21:10:09.700Z"
   },
   {
    "duration": 4,
    "start_time": "2024-07-31T21:10:11.056Z"
   },
   {
    "duration": 5,
    "start_time": "2024-07-31T21:10:12.232Z"
   },
   {
    "duration": 58,
    "start_time": "2024-07-31T21:10:13.855Z"
   },
   {
    "duration": 12,
    "start_time": "2024-07-31T21:10:15.728Z"
   },
   {
    "duration": 6,
    "start_time": "2024-07-31T21:10:17.059Z"
   },
   {
    "duration": 61,
    "start_time": "2024-07-31T21:10:18.812Z"
   },
   {
    "duration": 14,
    "start_time": "2024-07-31T21:10:21.069Z"
   },
   {
    "duration": 5,
    "start_time": "2024-07-31T21:10:22.933Z"
   },
   {
    "duration": 61,
    "start_time": "2024-07-31T21:10:24.561Z"
   },
   {
    "duration": 10,
    "start_time": "2024-07-31T21:10:27.503Z"
   },
   {
    "duration": 25,
    "start_time": "2024-07-31T21:24:13.344Z"
   },
   {
    "duration": 7,
    "start_time": "2024-07-31T21:24:18.865Z"
   },
   {
    "duration": 92,
    "start_time": "2024-07-31T21:24:20.448Z"
   },
   {
    "duration": 954,
    "start_time": "2024-07-31T22:41:10.126Z"
   },
   {
    "duration": 369,
    "start_time": "2024-07-31T22:41:11.086Z"
   },
   {
    "duration": 19,
    "start_time": "2024-07-31T22:41:11.458Z"
   },
   {
    "duration": 11,
    "start_time": "2024-07-31T22:41:11.481Z"
   },
   {
    "duration": 10,
    "start_time": "2024-07-31T22:41:11.496Z"
   },
   {
    "duration": 13,
    "start_time": "2024-07-31T22:41:11.534Z"
   },
   {
    "duration": 14,
    "start_time": "2024-07-31T22:41:11.550Z"
   },
   {
    "duration": 15,
    "start_time": "2024-07-31T22:41:11.567Z"
   },
   {
    "duration": 59,
    "start_time": "2024-07-31T22:41:11.585Z"
   },
   {
    "duration": 8,
    "start_time": "2024-07-31T22:41:11.652Z"
   },
   {
    "duration": 15,
    "start_time": "2024-07-31T22:41:11.663Z"
   },
   {
    "duration": 15,
    "start_time": "2024-07-31T22:41:11.681Z"
   },
   {
    "duration": 42,
    "start_time": "2024-07-31T22:41:11.699Z"
   },
   {
    "duration": 20,
    "start_time": "2024-07-31T22:41:11.744Z"
   },
   {
    "duration": 15,
    "start_time": "2024-07-31T22:41:11.767Z"
   },
   {
    "duration": 63,
    "start_time": "2024-07-31T22:41:11.785Z"
   },
   {
    "duration": 26,
    "start_time": "2024-07-31T22:41:11.851Z"
   },
   {
    "duration": 11,
    "start_time": "2024-07-31T22:41:11.880Z"
   },
   {
    "duration": 55,
    "start_time": "2024-07-31T22:41:11.894Z"
   },
   {
    "duration": 56,
    "start_time": "2024-07-31T22:41:11.953Z"
   },
   {
    "duration": 60,
    "start_time": "2024-07-31T22:41:12.012Z"
   },
   {
    "duration": 26,
    "start_time": "2024-07-31T22:41:12.076Z"
   },
   {
    "duration": 52,
    "start_time": "2024-07-31T22:41:12.105Z"
   },
   {
    "duration": 27,
    "start_time": "2024-07-31T22:41:12.160Z"
   },
   {
    "duration": 5,
    "start_time": "2024-07-31T22:41:12.190Z"
   },
   {
    "duration": 12,
    "start_time": "2024-07-31T22:41:12.233Z"
   },
   {
    "duration": 15,
    "start_time": "2024-07-31T22:41:12.248Z"
   },
   {
    "duration": 11,
    "start_time": "2024-07-31T22:41:12.272Z"
   },
   {
    "duration": 4,
    "start_time": "2024-07-31T22:41:12.287Z"
   },
   {
    "duration": 124,
    "start_time": "2024-07-31T22:41:12.294Z"
   },
   {
    "duration": 28,
    "start_time": "2024-07-31T22:41:12.421Z"
   },
   {
    "duration": 11,
    "start_time": "2024-07-31T22:41:12.451Z"
   },
   {
    "duration": 29,
    "start_time": "2024-07-31T22:41:12.464Z"
   },
   {
    "duration": 62,
    "start_time": "2024-07-31T22:41:12.497Z"
   },
   {
    "duration": 17,
    "start_time": "2024-07-31T22:41:12.562Z"
   },
   {
    "duration": 12,
    "start_time": "2024-07-31T22:41:12.582Z"
   },
   {
    "duration": 23,
    "start_time": "2024-07-31T22:41:12.633Z"
   },
   {
    "duration": 11,
    "start_time": "2024-07-31T22:41:12.659Z"
   },
   {
    "duration": 101,
    "start_time": "2024-07-31T22:41:12.673Z"
   },
   {
    "duration": 27,
    "start_time": "2024-07-31T22:41:12.778Z"
   },
   {
    "duration": 41,
    "start_time": "2024-07-31T22:41:12.808Z"
   },
   {
    "duration": 21,
    "start_time": "2024-07-31T22:41:12.851Z"
   },
   {
    "duration": 20,
    "start_time": "2024-07-31T22:41:12.874Z"
   },
   {
    "duration": 48,
    "start_time": "2024-07-31T22:41:12.896Z"
   },
   {
    "duration": 14,
    "start_time": "2024-07-31T22:41:12.946Z"
   },
   {
    "duration": 12,
    "start_time": "2024-07-31T22:41:12.963Z"
   },
   {
    "duration": 87,
    "start_time": "2024-07-31T22:41:12.977Z"
   },
   {
    "duration": 13,
    "start_time": "2024-07-31T22:41:13.067Z"
   },
   {
    "duration": 1191,
    "start_time": "2024-07-31T22:41:13.083Z"
   },
   {
    "duration": 0,
    "start_time": "2024-07-31T22:41:14.277Z"
   },
   {
    "duration": 0,
    "start_time": "2024-07-31T22:41:14.279Z"
   },
   {
    "duration": 0,
    "start_time": "2024-07-31T22:41:14.280Z"
   },
   {
    "duration": 0,
    "start_time": "2024-07-31T22:41:14.282Z"
   },
   {
    "duration": 0,
    "start_time": "2024-07-31T22:41:14.283Z"
   },
   {
    "duration": 0,
    "start_time": "2024-07-31T22:41:14.285Z"
   },
   {
    "duration": 0,
    "start_time": "2024-07-31T22:41:14.287Z"
   },
   {
    "duration": 0,
    "start_time": "2024-07-31T22:41:14.289Z"
   },
   {
    "duration": 0,
    "start_time": "2024-07-31T22:41:14.291Z"
   },
   {
    "duration": 0,
    "start_time": "2024-07-31T22:41:14.292Z"
   },
   {
    "duration": 0,
    "start_time": "2024-07-31T22:41:14.294Z"
   },
   {
    "duration": 0,
    "start_time": "2024-07-31T22:41:14.296Z"
   },
   {
    "duration": 0,
    "start_time": "2024-07-31T22:41:14.298Z"
   },
   {
    "duration": 0,
    "start_time": "2024-07-31T22:41:14.335Z"
   },
   {
    "duration": 0,
    "start_time": "2024-07-31T22:41:14.337Z"
   },
   {
    "duration": 0,
    "start_time": "2024-07-31T22:41:14.340Z"
   },
   {
    "duration": 0,
    "start_time": "2024-07-31T22:41:14.343Z"
   },
   {
    "duration": 0,
    "start_time": "2024-07-31T22:41:14.345Z"
   },
   {
    "duration": 0,
    "start_time": "2024-07-31T22:41:14.347Z"
   },
   {
    "duration": 0,
    "start_time": "2024-07-31T22:41:14.349Z"
   },
   {
    "duration": 0,
    "start_time": "2024-07-31T22:41:14.351Z"
   },
   {
    "duration": 0,
    "start_time": "2024-07-31T22:41:14.353Z"
   },
   {
    "duration": 1,
    "start_time": "2024-07-31T22:41:14.354Z"
   },
   {
    "duration": 0,
    "start_time": "2024-07-31T22:41:14.356Z"
   },
   {
    "duration": 0,
    "start_time": "2024-07-31T22:41:14.358Z"
   },
   {
    "duration": 0,
    "start_time": "2024-07-31T22:41:14.360Z"
   },
   {
    "duration": 0,
    "start_time": "2024-07-31T22:41:14.361Z"
   },
   {
    "duration": 0,
    "start_time": "2024-07-31T22:41:14.363Z"
   },
   {
    "duration": 0,
    "start_time": "2024-07-31T22:41:14.365Z"
   },
   {
    "duration": 1,
    "start_time": "2024-07-31T22:41:14.366Z"
   },
   {
    "duration": 0,
    "start_time": "2024-07-31T22:41:14.368Z"
   },
   {
    "duration": 53,
    "start_time": "2024-07-31T22:41:40.925Z"
   },
   {
    "duration": 4,
    "start_time": "2024-07-31T22:41:46.166Z"
   },
   {
    "duration": 265,
    "start_time": "2024-07-31T22:41:47.681Z"
   },
   {
    "duration": 11,
    "start_time": "2024-07-31T22:41:49.442Z"
   },
   {
    "duration": 10,
    "start_time": "2024-07-31T22:41:50.383Z"
   },
   {
    "duration": 11,
    "start_time": "2024-07-31T22:41:51.967Z"
   },
   {
    "duration": 12,
    "start_time": "2024-07-31T22:41:53.377Z"
   },
   {
    "duration": 14,
    "start_time": "2024-07-31T22:41:54.625Z"
   },
   {
    "duration": 15,
    "start_time": "2024-07-31T22:41:56.375Z"
   },
   {
    "duration": 16,
    "start_time": "2024-07-31T22:41:58.521Z"
   },
   {
    "duration": 7,
    "start_time": "2024-07-31T22:41:59.681Z"
   },
   {
    "duration": 13,
    "start_time": "2024-07-31T22:42:04.461Z"
   },
   {
    "duration": 14,
    "start_time": "2024-07-31T22:42:06.771Z"
   },
   {
    "duration": 9,
    "start_time": "2024-07-31T22:42:08.318Z"
   },
   {
    "duration": 18,
    "start_time": "2024-07-31T22:42:10.413Z"
   },
   {
    "duration": 15,
    "start_time": "2024-07-31T22:42:12.439Z"
   },
   {
    "duration": 22,
    "start_time": "2024-07-31T22:42:14.068Z"
   },
   {
    "duration": 26,
    "start_time": "2024-07-31T22:42:15.780Z"
   },
   {
    "duration": 11,
    "start_time": "2024-07-31T22:42:18.615Z"
   },
   {
    "duration": 19,
    "start_time": "2024-07-31T22:42:20.069Z"
   },
   {
    "duration": 53,
    "start_time": "2024-07-31T22:42:21.618Z"
   },
   {
    "duration": 35,
    "start_time": "2024-07-31T22:42:23.216Z"
   },
   {
    "duration": 26,
    "start_time": "2024-07-31T22:42:24.954Z"
   },
   {
    "duration": 26,
    "start_time": "2024-07-31T22:42:27.108Z"
   },
   {
    "duration": 27,
    "start_time": "2024-07-31T22:42:28.312Z"
   },
   {
    "duration": 5,
    "start_time": "2024-07-31T22:42:31.440Z"
   },
   {
    "duration": 12,
    "start_time": "2024-07-31T22:42:32.209Z"
   },
   {
    "duration": 14,
    "start_time": "2024-07-31T22:42:33.911Z"
   },
   {
    "duration": 12,
    "start_time": "2024-07-31T22:42:34.788Z"
   },
   {
    "duration": 5,
    "start_time": "2024-07-31T22:42:36.263Z"
   },
   {
    "duration": 85,
    "start_time": "2024-07-31T22:42:36.865Z"
   },
   {
    "duration": 20,
    "start_time": "2024-07-31T22:42:38.540Z"
   },
   {
    "duration": 9,
    "start_time": "2024-07-31T22:42:39.602Z"
   },
   {
    "duration": 27,
    "start_time": "2024-07-31T22:42:41.601Z"
   },
   {
    "duration": 30,
    "start_time": "2024-07-31T22:42:42.913Z"
   },
   {
    "duration": 17,
    "start_time": "2024-07-31T22:42:44.558Z"
   },
   {
    "duration": 11,
    "start_time": "2024-07-31T22:42:46.813Z"
   },
   {
    "duration": 21,
    "start_time": "2024-07-31T22:42:48.556Z"
   },
   {
    "duration": 12,
    "start_time": "2024-07-31T22:42:50.010Z"
   },
   {
    "duration": 60,
    "start_time": "2024-07-31T22:42:51.628Z"
   },
   {
    "duration": 25,
    "start_time": "2024-07-31T22:42:52.639Z"
   },
   {
    "duration": 22,
    "start_time": "2024-07-31T22:42:55.004Z"
   },
   {
    "duration": 20,
    "start_time": "2024-07-31T22:42:55.804Z"
   },
   {
    "duration": 20,
    "start_time": "2024-07-31T22:42:57.541Z"
   },
   {
    "duration": 12,
    "start_time": "2024-07-31T22:43:00.165Z"
   },
   {
    "duration": 12,
    "start_time": "2024-07-31T22:43:01.346Z"
   },
   {
    "duration": 12,
    "start_time": "2024-07-31T22:43:04.488Z"
   },
   {
    "duration": 52,
    "start_time": "2024-07-31T22:43:06.855Z"
   },
   {
    "duration": 13,
    "start_time": "2024-07-31T22:43:08.516Z"
   },
   {
    "duration": 52,
    "start_time": "2024-07-31T22:43:10.969Z"
   },
   {
    "duration": 53,
    "start_time": "2024-07-31T22:43:13.999Z"
   },
   {
    "duration": 30,
    "start_time": "2024-07-31T22:43:34.302Z"
   },
   {
    "duration": 15,
    "start_time": "2024-07-31T22:43:35.994Z"
   },
   {
    "duration": 26,
    "start_time": "2024-07-31T22:43:37.511Z"
   },
   {
    "duration": 16,
    "start_time": "2024-07-31T22:43:39.223Z"
   },
   {
    "duration": 4,
    "start_time": "2024-07-31T22:43:41.004Z"
   },
   {
    "duration": 17,
    "start_time": "2024-07-31T22:43:41.827Z"
   },
   {
    "duration": 25,
    "start_time": "2024-07-31T22:43:43.573Z"
   },
   {
    "duration": 26,
    "start_time": "2024-07-31T22:43:45.409Z"
   },
   {
    "duration": 15,
    "start_time": "2024-07-31T22:43:47.551Z"
   },
   {
    "duration": 28,
    "start_time": "2024-07-31T22:43:49.360Z"
   },
   {
    "duration": 5,
    "start_time": "2024-07-31T22:43:52.458Z"
   },
   {
    "duration": 5,
    "start_time": "2024-07-31T22:43:53.805Z"
   },
   {
    "duration": 60,
    "start_time": "2024-07-31T22:43:55.242Z"
   },
   {
    "duration": 10,
    "start_time": "2024-07-31T22:43:57.420Z"
   },
   {
    "duration": 5,
    "start_time": "2024-07-31T22:43:59.062Z"
   },
   {
    "duration": 65,
    "start_time": "2024-07-31T22:44:00.194Z"
   },
   {
    "duration": 10,
    "start_time": "2024-07-31T22:44:02.401Z"
   },
   {
    "duration": 5,
    "start_time": "2024-07-31T22:44:03.541Z"
   },
   {
    "duration": 60,
    "start_time": "2024-07-31T22:44:05.523Z"
   },
   {
    "duration": 9,
    "start_time": "2024-07-31T22:44:08.104Z"
   },
   {
    "duration": 6,
    "start_time": "2024-07-31T22:44:09.975Z"
   },
   {
    "duration": 94,
    "start_time": "2024-07-31T22:44:11.470Z"
   },
   {
    "duration": 3935,
    "start_time": "2024-07-31T22:50:17.630Z"
   },
   {
    "duration": 4,
    "start_time": "2024-07-31T22:56:32.551Z"
   },
   {
    "duration": 3,
    "start_time": "2024-07-31T22:56:33.239Z"
   },
   {
    "duration": 322,
    "start_time": "2024-07-31T22:59:36.613Z"
   },
   {
    "duration": 884,
    "start_time": "2024-07-31T22:59:47.456Z"
   },
   {
    "duration": 152,
    "start_time": "2024-07-31T23:08:16.682Z"
   },
   {
    "duration": 144,
    "start_time": "2024-07-31T23:08:58.601Z"
   },
   {
    "duration": 4,
    "start_time": "2024-07-31T23:16:40.007Z"
   },
   {
    "duration": 9,
    "start_time": "2024-07-31T23:19:58.513Z"
   },
   {
    "duration": 8,
    "start_time": "2024-07-31T23:20:11.788Z"
   },
   {
    "duration": 13,
    "start_time": "2024-07-31T23:28:48.803Z"
   },
   {
    "duration": 11,
    "start_time": "2024-07-31T23:29:37.296Z"
   },
   {
    "duration": 6,
    "start_time": "2024-07-31T23:47:08.193Z"
   },
   {
    "duration": 5,
    "start_time": "2024-07-31T23:53:45.653Z"
   },
   {
    "duration": 32,
    "start_time": "2024-08-01T00:32:59.570Z"
   },
   {
    "duration": 51620,
    "start_time": "2024-08-01T00:35:21.274Z"
   },
   {
    "duration": 327,
    "start_time": "2024-08-01T00:38:45.294Z"
   },
   {
    "duration": 41,
    "start_time": "2024-08-01T00:39:23.512Z"
   },
   {
    "duration": 328,
    "start_time": "2024-08-01T00:40:22.822Z"
   },
   {
    "duration": 326,
    "start_time": "2024-08-01T00:41:31.696Z"
   },
   {
    "duration": 19,
    "start_time": "2024-08-01T00:44:04.876Z"
   },
   {
    "duration": 16,
    "start_time": "2024-08-01T00:44:24.267Z"
   },
   {
    "duration": 758,
    "start_time": "2024-08-01T00:46:47.953Z"
   },
   {
    "duration": 9,
    "start_time": "2024-08-01T00:50:08.426Z"
   },
   {
    "duration": 6,
    "start_time": "2024-08-01T00:50:34.236Z"
   },
   {
    "duration": 6,
    "start_time": "2024-08-01T00:51:42.513Z"
   },
   {
    "duration": 6,
    "start_time": "2024-08-01T00:51:50.755Z"
   },
   {
    "duration": 9,
    "start_time": "2024-08-01T00:52:06.243Z"
   },
   {
    "duration": 6,
    "start_time": "2024-08-01T00:52:15.579Z"
   },
   {
    "duration": 6,
    "start_time": "2024-08-01T00:52:18.301Z"
   },
   {
    "duration": 5,
    "start_time": "2024-08-01T00:52:53.940Z"
   },
   {
    "duration": 6,
    "start_time": "2024-08-01T00:52:58.271Z"
   },
   {
    "duration": 4,
    "start_time": "2024-08-01T00:53:18.968Z"
   },
   {
    "duration": 12,
    "start_time": "2024-08-01T00:53:40.947Z"
   },
   {
    "duration": 6,
    "start_time": "2024-08-01T00:54:00.731Z"
   },
   {
    "duration": 305,
    "start_time": "2024-08-01T00:56:42.270Z"
   },
   {
    "duration": 7,
    "start_time": "2024-08-01T00:58:40.949Z"
   },
   {
    "duration": 23,
    "start_time": "2024-08-01T01:10:08.089Z"
   },
   {
    "duration": 9,
    "start_time": "2024-08-01T01:10:46.226Z"
   },
   {
    "duration": 10,
    "start_time": "2024-08-01T01:11:02.582Z"
   },
   {
    "duration": 6,
    "start_time": "2024-08-01T01:13:22.018Z"
   },
   {
    "duration": 8,
    "start_time": "2024-08-01T01:14:02.961Z"
   },
   {
    "duration": 5,
    "start_time": "2024-08-01T01:14:39.290Z"
   },
   {
    "duration": 183,
    "start_time": "2024-08-01T01:27:03.500Z"
   },
   {
    "duration": 174,
    "start_time": "2024-08-01T01:27:47.977Z"
   },
   {
    "duration": 25,
    "start_time": "2024-08-01T01:42:42.604Z"
   },
   {
    "duration": 34,
    "start_time": "2024-08-01T01:51:18.570Z"
   },
   {
    "duration": 3,
    "start_time": "2024-08-01T01:58:06.576Z"
   },
   {
    "duration": 1169,
    "start_time": "2024-08-01T02:03:09.876Z"
   },
   {
    "duration": 273,
    "start_time": "2024-08-01T02:03:11.050Z"
   },
   {
    "duration": 16,
    "start_time": "2024-08-01T02:03:11.326Z"
   },
   {
    "duration": 11,
    "start_time": "2024-08-01T02:03:11.347Z"
   },
   {
    "duration": 10,
    "start_time": "2024-08-01T02:03:11.361Z"
   },
   {
    "duration": 13,
    "start_time": "2024-08-01T02:03:11.374Z"
   },
   {
    "duration": 50,
    "start_time": "2024-08-01T02:03:11.390Z"
   },
   {
    "duration": 16,
    "start_time": "2024-08-01T02:03:11.443Z"
   },
   {
    "duration": 12,
    "start_time": "2024-08-01T02:03:11.462Z"
   },
   {
    "duration": 7,
    "start_time": "2024-08-01T02:03:11.480Z"
   },
   {
    "duration": 53,
    "start_time": "2024-08-01T02:03:11.491Z"
   },
   {
    "duration": 14,
    "start_time": "2024-08-01T02:03:11.548Z"
   },
   {
    "duration": 10,
    "start_time": "2024-08-01T02:03:11.565Z"
   },
   {
    "duration": 65,
    "start_time": "2024-08-01T02:03:11.578Z"
   },
   {
    "duration": 18,
    "start_time": "2024-08-01T02:03:11.647Z"
   },
   {
    "duration": 20,
    "start_time": "2024-08-01T02:03:11.668Z"
   },
   {
    "duration": 57,
    "start_time": "2024-08-01T02:03:11.692Z"
   },
   {
    "duration": 12,
    "start_time": "2024-08-01T02:03:11.752Z"
   },
   {
    "duration": 20,
    "start_time": "2024-08-01T02:03:11.766Z"
   },
   {
    "duration": 89,
    "start_time": "2024-08-01T02:03:11.788Z"
   },
   {
    "duration": 55,
    "start_time": "2024-08-01T02:03:11.880Z"
   },
   {
    "duration": 27,
    "start_time": "2024-08-01T02:03:11.938Z"
   },
   {
    "duration": 28,
    "start_time": "2024-08-01T02:03:11.968Z"
   },
   {
    "duration": 56,
    "start_time": "2024-08-01T02:03:11.999Z"
   },
   {
    "duration": 4,
    "start_time": "2024-08-01T02:03:12.059Z"
   },
   {
    "duration": 17,
    "start_time": "2024-08-01T02:03:12.067Z"
   },
   {
    "duration": 54,
    "start_time": "2024-08-01T02:03:12.089Z"
   },
   {
    "duration": 15,
    "start_time": "2024-08-01T02:03:12.153Z"
   },
   {
    "duration": 3,
    "start_time": "2024-08-01T02:03:12.171Z"
   },
   {
    "duration": 116,
    "start_time": "2024-08-01T02:03:12.178Z"
   },
   {
    "duration": 37,
    "start_time": "2024-08-01T02:03:12.297Z"
   },
   {
    "duration": 10,
    "start_time": "2024-08-01T02:03:12.336Z"
   },
   {
    "duration": 30,
    "start_time": "2024-08-01T02:03:12.350Z"
   },
   {
    "duration": 61,
    "start_time": "2024-08-01T02:03:12.383Z"
   },
   {
    "duration": 17,
    "start_time": "2024-08-01T02:03:12.448Z"
   },
   {
    "duration": 13,
    "start_time": "2024-08-01T02:03:12.467Z"
   },
   {
    "duration": 59,
    "start_time": "2024-08-01T02:03:12.483Z"
   },
   {
    "duration": 12,
    "start_time": "2024-08-01T02:03:12.544Z"
   },
   {
    "duration": 88,
    "start_time": "2024-08-01T02:03:12.559Z"
   },
   {
    "duration": 25,
    "start_time": "2024-08-01T02:03:12.650Z"
   },
   {
    "duration": 22,
    "start_time": "2024-08-01T02:03:12.679Z"
   },
   {
    "duration": 42,
    "start_time": "2024-08-01T02:03:12.704Z"
   },
   {
    "duration": 20,
    "start_time": "2024-08-01T02:03:12.748Z"
   },
   {
    "duration": 15,
    "start_time": "2024-08-01T02:03:12.770Z"
   },
   {
    "duration": 53,
    "start_time": "2024-08-01T02:03:12.788Z"
   },
   {
    "duration": 12,
    "start_time": "2024-08-01T02:03:12.844Z"
   },
   {
    "duration": 81,
    "start_time": "2024-08-01T02:03:12.860Z"
   },
   {
    "duration": 13,
    "start_time": "2024-08-01T02:03:12.944Z"
   },
   {
    "duration": 7,
    "start_time": "2024-08-01T02:03:12.960Z"
   },
   {
    "duration": 0,
    "start_time": "2024-08-01T02:03:12.971Z"
   },
   {
    "duration": 0,
    "start_time": "2024-08-01T02:03:12.973Z"
   },
   {
    "duration": 0,
    "start_time": "2024-08-01T02:03:12.976Z"
   },
   {
    "duration": 0,
    "start_time": "2024-08-01T02:03:12.977Z"
   },
   {
    "duration": 0,
    "start_time": "2024-08-01T02:03:12.979Z"
   },
   {
    "duration": 0,
    "start_time": "2024-08-01T02:03:12.981Z"
   },
   {
    "duration": 0,
    "start_time": "2024-08-01T02:03:12.983Z"
   },
   {
    "duration": 0,
    "start_time": "2024-08-01T02:03:12.984Z"
   },
   {
    "duration": 0,
    "start_time": "2024-08-01T02:03:12.987Z"
   },
   {
    "duration": 0,
    "start_time": "2024-08-01T02:03:13.035Z"
   },
   {
    "duration": 0,
    "start_time": "2024-08-01T02:03:13.037Z"
   },
   {
    "duration": 0,
    "start_time": "2024-08-01T02:03:13.039Z"
   },
   {
    "duration": 0,
    "start_time": "2024-08-01T02:03:13.041Z"
   },
   {
    "duration": 1,
    "start_time": "2024-08-01T02:03:13.046Z"
   },
   {
    "duration": 0,
    "start_time": "2024-08-01T02:03:13.049Z"
   },
   {
    "duration": 0,
    "start_time": "2024-08-01T02:03:13.064Z"
   },
   {
    "duration": 0,
    "start_time": "2024-08-01T02:03:13.065Z"
   },
   {
    "duration": 0,
    "start_time": "2024-08-01T02:03:13.067Z"
   },
   {
    "duration": 0,
    "start_time": "2024-08-01T02:03:13.070Z"
   },
   {
    "duration": 0,
    "start_time": "2024-08-01T02:03:13.072Z"
   },
   {
    "duration": 0,
    "start_time": "2024-08-01T02:03:13.076Z"
   },
   {
    "duration": 0,
    "start_time": "2024-08-01T02:03:13.078Z"
   },
   {
    "duration": 0,
    "start_time": "2024-08-01T02:03:13.080Z"
   },
   {
    "duration": 0,
    "start_time": "2024-08-01T02:03:13.082Z"
   },
   {
    "duration": 0,
    "start_time": "2024-08-01T02:03:13.084Z"
   },
   {
    "duration": 0,
    "start_time": "2024-08-01T02:03:13.135Z"
   },
   {
    "duration": 0,
    "start_time": "2024-08-01T02:03:13.139Z"
   },
   {
    "duration": 0,
    "start_time": "2024-08-01T02:03:13.148Z"
   },
   {
    "duration": 0,
    "start_time": "2024-08-01T02:03:13.151Z"
   },
   {
    "duration": 0,
    "start_time": "2024-08-01T02:03:13.154Z"
   },
   {
    "duration": 0,
    "start_time": "2024-08-01T02:03:13.158Z"
   },
   {
    "duration": 0,
    "start_time": "2024-08-01T02:03:13.160Z"
   },
   {
    "duration": 0,
    "start_time": "2024-08-01T02:03:13.163Z"
   },
   {
    "duration": 0,
    "start_time": "2024-08-01T02:03:13.164Z"
   },
   {
    "duration": 0,
    "start_time": "2024-08-01T02:03:13.170Z"
   },
   {
    "duration": 0,
    "start_time": "2024-08-01T02:03:13.172Z"
   },
   {
    "duration": 0,
    "start_time": "2024-08-01T02:03:13.179Z"
   },
   {
    "duration": 1,
    "start_time": "2024-08-01T02:03:13.234Z"
   },
   {
    "duration": 0,
    "start_time": "2024-08-01T02:03:13.236Z"
   },
   {
    "duration": 0,
    "start_time": "2024-08-01T02:03:13.238Z"
   },
   {
    "duration": 0,
    "start_time": "2024-08-01T02:03:13.240Z"
   },
   {
    "duration": 31,
    "start_time": "2024-08-01T02:04:12.878Z"
   },
   {
    "duration": 15,
    "start_time": "2024-08-01T02:04:13.806Z"
   },
   {
    "duration": 28,
    "start_time": "2024-08-01T02:04:14.349Z"
   },
   {
    "duration": 17,
    "start_time": "2024-08-01T02:04:14.964Z"
   },
   {
    "duration": 3,
    "start_time": "2024-08-01T02:04:16.171Z"
   },
   {
    "duration": 15,
    "start_time": "2024-08-01T02:04:16.765Z"
   },
   {
    "duration": 23,
    "start_time": "2024-08-01T02:04:18.179Z"
   },
   {
    "duration": 26,
    "start_time": "2024-08-01T02:04:18.813Z"
   },
   {
    "duration": 17,
    "start_time": "2024-08-01T02:04:19.445Z"
   },
   {
    "duration": 30,
    "start_time": "2024-08-01T02:04:20.035Z"
   },
   {
    "duration": 25,
    "start_time": "2024-08-01T02:07:04.707Z"
   },
   {
    "duration": 30,
    "start_time": "2024-08-01T02:07:17.764Z"
   },
   {
    "duration": 1197,
    "start_time": "2024-08-01T02:09:37.446Z"
   },
   {
    "duration": 285,
    "start_time": "2024-08-01T02:09:38.647Z"
   },
   {
    "duration": 16,
    "start_time": "2024-08-01T02:09:38.935Z"
   },
   {
    "duration": 11,
    "start_time": "2024-08-01T02:09:38.956Z"
   },
   {
    "duration": 9,
    "start_time": "2024-08-01T02:09:38.971Z"
   },
   {
    "duration": 50,
    "start_time": "2024-08-01T02:09:38.984Z"
   },
   {
    "duration": 15,
    "start_time": "2024-08-01T02:09:39.037Z"
   },
   {
    "duration": 15,
    "start_time": "2024-08-01T02:09:39.055Z"
   },
   {
    "duration": 12,
    "start_time": "2024-08-01T02:09:39.073Z"
   },
   {
    "duration": 48,
    "start_time": "2024-08-01T02:09:39.091Z"
   },
   {
    "duration": 15,
    "start_time": "2024-08-01T02:09:39.142Z"
   },
   {
    "duration": 14,
    "start_time": "2024-08-01T02:09:39.161Z"
   },
   {
    "duration": 10,
    "start_time": "2024-08-01T02:09:39.178Z"
   },
   {
    "duration": 67,
    "start_time": "2024-08-01T02:09:39.190Z"
   },
   {
    "duration": 18,
    "start_time": "2024-08-01T02:09:39.260Z"
   },
   {
    "duration": 20,
    "start_time": "2024-08-01T02:09:39.282Z"
   },
   {
    "duration": 26,
    "start_time": "2024-08-01T02:09:39.336Z"
   },
   {
    "duration": 11,
    "start_time": "2024-08-01T02:09:39.365Z"
   },
   {
    "duration": 20,
    "start_time": "2024-08-01T02:09:39.379Z"
   },
   {
    "duration": 57,
    "start_time": "2024-08-01T02:09:39.436Z"
   },
   {
    "duration": 65,
    "start_time": "2024-08-01T02:09:39.498Z"
   },
   {
    "duration": 34,
    "start_time": "2024-08-01T02:09:39.567Z"
   },
   {
    "duration": 48,
    "start_time": "2024-08-01T02:09:39.604Z"
   },
   {
    "duration": 27,
    "start_time": "2024-08-01T02:09:39.658Z"
   },
   {
    "duration": 5,
    "start_time": "2024-08-01T02:09:39.688Z"
   },
   {
    "duration": 40,
    "start_time": "2024-08-01T02:09:39.696Z"
   },
   {
    "duration": 15,
    "start_time": "2024-08-01T02:09:39.741Z"
   },
   {
    "duration": 12,
    "start_time": "2024-08-01T02:09:39.768Z"
   },
   {
    "duration": 6,
    "start_time": "2024-08-01T02:09:39.785Z"
   },
   {
    "duration": 120,
    "start_time": "2024-08-01T02:09:39.794Z"
   },
   {
    "duration": 18,
    "start_time": "2024-08-01T02:09:39.934Z"
   },
   {
    "duration": 9,
    "start_time": "2024-08-01T02:09:39.956Z"
   },
   {
    "duration": 28,
    "start_time": "2024-08-01T02:09:39.969Z"
   },
   {
    "duration": 57,
    "start_time": "2024-08-01T02:09:40.000Z"
   },
   {
    "duration": 15,
    "start_time": "2024-08-01T02:09:40.061Z"
   },
   {
    "duration": 12,
    "start_time": "2024-08-01T02:09:40.079Z"
   },
   {
    "duration": 60,
    "start_time": "2024-08-01T02:09:40.095Z"
   },
   {
    "duration": 11,
    "start_time": "2024-08-01T02:09:40.158Z"
   },
   {
    "duration": 93,
    "start_time": "2024-08-01T02:09:40.172Z"
   },
   {
    "duration": 27,
    "start_time": "2024-08-01T02:09:40.268Z"
   },
   {
    "duration": 42,
    "start_time": "2024-08-01T02:09:40.298Z"
   },
   {
    "duration": 19,
    "start_time": "2024-08-01T02:09:40.343Z"
   },
   {
    "duration": 19,
    "start_time": "2024-08-01T02:09:40.365Z"
   },
   {
    "duration": 48,
    "start_time": "2024-08-01T02:09:40.387Z"
   },
   {
    "duration": 13,
    "start_time": "2024-08-01T02:09:40.438Z"
   },
   {
    "duration": 12,
    "start_time": "2024-08-01T02:09:40.455Z"
   },
   {
    "duration": 88,
    "start_time": "2024-08-01T02:09:40.470Z"
   },
   {
    "duration": 13,
    "start_time": "2024-08-01T02:09:40.560Z"
   },
   {
    "duration": 3,
    "start_time": "2024-08-01T02:09:40.576Z"
   },
   {
    "duration": 63,
    "start_time": "2024-08-01T02:09:40.582Z"
   },
   {
    "duration": 22,
    "start_time": "2024-08-01T02:09:40.647Z"
   },
   {
    "duration": 28,
    "start_time": "2024-08-01T02:09:40.672Z"
   },
   {
    "duration": 44,
    "start_time": "2024-08-01T02:09:40.703Z"
   },
   {
    "duration": 7,
    "start_time": "2024-08-01T02:09:40.750Z"
   },
   {
    "duration": 17,
    "start_time": "2024-08-01T02:09:40.760Z"
   },
   {
    "duration": 64,
    "start_time": "2024-08-01T02:09:40.779Z"
   },
   {
    "duration": 22,
    "start_time": "2024-08-01T02:09:40.846Z"
   },
   {
    "duration": 29,
    "start_time": "2024-08-01T02:09:40.874Z"
   },
   {
    "duration": 3,
    "start_time": "2024-08-01T02:09:40.933Z"
   },
   {
    "duration": 5,
    "start_time": "2024-08-01T02:09:40.939Z"
   },
   {
    "duration": 5,
    "start_time": "2024-08-01T02:09:40.948Z"
   },
   {
    "duration": 90,
    "start_time": "2024-08-01T02:09:40.956Z"
   },
   {
    "duration": 11,
    "start_time": "2024-08-01T02:09:41.048Z"
   },
   {
    "duration": 5,
    "start_time": "2024-08-01T02:09:41.062Z"
   },
   {
    "duration": 85,
    "start_time": "2024-08-01T02:09:41.070Z"
   },
   {
    "duration": 10,
    "start_time": "2024-08-01T02:09:41.157Z"
   },
   {
    "duration": 5,
    "start_time": "2024-08-01T02:09:41.170Z"
   },
   {
    "duration": 92,
    "start_time": "2024-08-01T02:09:41.178Z"
   },
   {
    "duration": 9,
    "start_time": "2024-08-01T02:09:41.274Z"
   },
   {
    "duration": 5,
    "start_time": "2024-08-01T02:09:41.287Z"
   },
   {
    "duration": 118,
    "start_time": "2024-08-01T02:09:41.295Z"
   },
   {
    "duration": 19,
    "start_time": "2024-08-01T02:09:41.416Z"
   },
   {
    "duration": 3,
    "start_time": "2024-08-01T02:09:41.438Z"
   },
   {
    "duration": 833,
    "start_time": "2024-08-01T02:09:41.444Z"
   },
   {
    "duration": 17,
    "start_time": "2024-08-01T02:09:42.280Z"
   },
   {
    "duration": 6,
    "start_time": "2024-08-01T02:09:42.300Z"
   },
   {
    "duration": 0,
    "start_time": "2024-08-01T02:09:42.336Z"
   },
   {
    "duration": 0,
    "start_time": "2024-08-01T02:09:42.338Z"
   },
   {
    "duration": 0,
    "start_time": "2024-08-01T02:09:42.341Z"
   },
   {
    "duration": 0,
    "start_time": "2024-08-01T02:09:42.343Z"
   },
   {
    "duration": 0,
    "start_time": "2024-08-01T02:09:42.345Z"
   },
   {
    "duration": 0,
    "start_time": "2024-08-01T02:09:42.346Z"
   },
   {
    "duration": 0,
    "start_time": "2024-08-01T02:09:42.349Z"
   },
   {
    "duration": 0,
    "start_time": "2024-08-01T02:09:42.352Z"
   },
   {
    "duration": 0,
    "start_time": "2024-08-01T02:09:42.353Z"
   },
   {
    "duration": 0,
    "start_time": "2024-08-01T02:09:42.355Z"
   },
   {
    "duration": 0,
    "start_time": "2024-08-01T02:09:42.357Z"
   },
   {
    "duration": 0,
    "start_time": "2024-08-01T02:09:42.462Z"
   },
   {
    "duration": 0,
    "start_time": "2024-08-01T02:09:42.464Z"
   },
   {
    "duration": 25,
    "start_time": "2024-08-01T02:11:32.776Z"
   },
   {
    "duration": 19,
    "start_time": "2024-08-01T02:12:44.080Z"
   },
   {
    "duration": 15,
    "start_time": "2024-08-01T02:14:31.629Z"
   },
   {
    "duration": 20,
    "start_time": "2024-08-01T02:15:23.331Z"
   },
   {
    "duration": 14,
    "start_time": "2024-08-01T02:15:30.428Z"
   },
   {
    "duration": 34,
    "start_time": "2024-08-01T02:16:02.171Z"
   },
   {
    "duration": 19,
    "start_time": "2024-08-01T02:17:13.239Z"
   },
   {
    "duration": 6,
    "start_time": "2024-08-01T02:17:36.269Z"
   },
   {
    "duration": 10,
    "start_time": "2024-08-01T02:17:52.409Z"
   },
   {
    "duration": 31,
    "start_time": "2024-08-01T02:18:17.664Z"
   },
   {
    "duration": 24,
    "start_time": "2024-08-01T02:20:10.706Z"
   },
   {
    "duration": 6,
    "start_time": "2024-08-01T02:20:25.038Z"
   },
   {
    "duration": 385,
    "start_time": "2024-08-01T02:22:10.017Z"
   },
   {
    "duration": 25,
    "start_time": "2024-08-01T02:22:14.513Z"
   },
   {
    "duration": 11,
    "start_time": "2024-08-01T02:22:36.918Z"
   },
   {
    "duration": 5,
    "start_time": "2024-08-01T02:29:12.111Z"
   },
   {
    "duration": 6,
    "start_time": "2024-08-01T02:29:19.422Z"
   },
   {
    "duration": 14,
    "start_time": "2024-08-01T02:34:57.880Z"
   },
   {
    "duration": 13,
    "start_time": "2024-08-01T02:36:01.927Z"
   },
   {
    "duration": 21,
    "start_time": "2024-08-01T02:36:44.845Z"
   },
   {
    "duration": 20,
    "start_time": "2024-08-01T02:38:17.914Z"
   },
   {
    "duration": 429,
    "start_time": "2024-08-01T02:39:14.646Z"
   },
   {
    "duration": 374,
    "start_time": "2024-08-01T02:40:30.155Z"
   },
   {
    "duration": 749,
    "start_time": "2024-08-01T02:43:56.673Z"
   },
   {
    "duration": 483,
    "start_time": "2024-08-01T02:44:29.353Z"
   },
   {
    "duration": 433,
    "start_time": "2024-08-01T02:45:07.964Z"
   },
   {
    "duration": 16,
    "start_time": "2024-08-01T02:45:34.543Z"
   },
   {
    "duration": 433,
    "start_time": "2024-08-01T02:46:22.877Z"
   },
   {
    "duration": 329,
    "start_time": "2024-08-01T02:48:36.279Z"
   },
   {
    "duration": 318,
    "start_time": "2024-08-01T02:51:55.643Z"
   },
   {
    "duration": 312,
    "start_time": "2024-08-01T02:52:11.113Z"
   },
   {
    "duration": 319,
    "start_time": "2024-08-01T02:52:22.906Z"
   },
   {
    "duration": 411,
    "start_time": "2024-08-01T02:52:30.716Z"
   },
   {
    "duration": 8,
    "start_time": "2024-08-01T02:53:24.151Z"
   },
   {
    "duration": 5,
    "start_time": "2024-08-01T02:54:37.434Z"
   },
   {
    "duration": 140,
    "start_time": "2024-08-01T02:54:44.496Z"
   },
   {
    "duration": 124,
    "start_time": "2024-08-01T02:55:10.703Z"
   },
   {
    "duration": 140,
    "start_time": "2024-08-01T02:55:24.726Z"
   },
   {
    "duration": 147,
    "start_time": "2024-08-01T02:55:38.003Z"
   },
   {
    "duration": 140,
    "start_time": "2024-08-01T02:55:49.275Z"
   },
   {
    "duration": 141,
    "start_time": "2024-08-01T02:57:24.432Z"
   },
   {
    "duration": 143,
    "start_time": "2024-08-01T02:57:57.296Z"
   },
   {
    "duration": 13,
    "start_time": "2024-08-01T03:01:04.293Z"
   },
   {
    "duration": 10,
    "start_time": "2024-08-01T03:03:07.897Z"
   },
   {
    "duration": 322,
    "start_time": "2024-08-01T03:05:07.515Z"
   },
   {
    "duration": 319,
    "start_time": "2024-08-01T03:05:15.042Z"
   },
   {
    "duration": 17,
    "start_time": "2024-08-01T03:09:01.563Z"
   },
   {
    "duration": 689,
    "start_time": "2024-08-01T03:09:54.076Z"
   },
   {
    "duration": 428,
    "start_time": "2024-08-01T03:10:28.662Z"
   },
   {
    "duration": 20,
    "start_time": "2024-08-01T03:11:26.945Z"
   },
   {
    "duration": 459,
    "start_time": "2024-08-01T03:12:53.681Z"
   },
   {
    "duration": 20,
    "start_time": "2024-08-01T03:15:46.233Z"
   },
   {
    "duration": 13,
    "start_time": "2024-08-01T03:16:39.435Z"
   },
   {
    "duration": 143,
    "start_time": "2024-08-01T03:17:37.036Z"
   },
   {
    "duration": 131,
    "start_time": "2024-08-01T03:18:10.384Z"
   },
   {
    "duration": 134,
    "start_time": "2024-08-01T03:18:13.821Z"
   },
   {
    "duration": 14,
    "start_time": "2024-08-01T03:21:08.353Z"
   },
   {
    "duration": 16,
    "start_time": "2024-08-01T03:21:40.746Z"
   },
   {
    "duration": 141,
    "start_time": "2024-08-01T03:22:05.148Z"
   },
   {
    "duration": 141,
    "start_time": "2024-08-01T03:22:34.192Z"
   },
   {
    "duration": 128,
    "start_time": "2024-08-01T03:22:36.919Z"
   },
   {
    "duration": 9,
    "start_time": "2024-08-01T03:23:45.769Z"
   },
   {
    "duration": 171,
    "start_time": "2024-08-01T03:23:51.323Z"
   },
   {
    "duration": 682,
    "start_time": "2024-08-01T03:24:09.986Z"
   },
   {
    "duration": 176,
    "start_time": "2024-08-01T03:24:16.567Z"
   },
   {
    "duration": 175,
    "start_time": "2024-08-01T03:25:10.568Z"
   },
   {
    "duration": 13,
    "start_time": "2024-08-01T03:25:29.438Z"
   },
   {
    "duration": 12,
    "start_time": "2024-08-01T03:25:31.855Z"
   },
   {
    "duration": 7,
    "start_time": "2024-08-01T03:27:04.314Z"
   },
   {
    "duration": 4,
    "start_time": "2024-08-01T03:27:06.297Z"
   },
   {
    "duration": 29,
    "start_time": "2024-08-01T03:30:01.287Z"
   },
   {
    "duration": 29,
    "start_time": "2024-08-01T03:32:27.105Z"
   },
   {
    "duration": 7,
    "start_time": "2024-08-01T03:33:00.401Z"
   },
   {
    "duration": 6,
    "start_time": "2024-08-01T03:33:39.172Z"
   },
   {
    "duration": 5,
    "start_time": "2024-08-01T03:33:45.133Z"
   },
   {
    "duration": 12,
    "start_time": "2024-08-01T03:35:42.031Z"
   },
   {
    "duration": 7,
    "start_time": "2024-08-01T03:36:04.637Z"
   },
   {
    "duration": 5,
    "start_time": "2024-08-01T03:36:40.544Z"
   },
   {
    "duration": 10,
    "start_time": "2024-08-01T03:36:49.218Z"
   },
   {
    "duration": 12,
    "start_time": "2024-08-01T03:38:04.250Z"
   },
   {
    "duration": 26,
    "start_time": "2024-08-01T03:38:52.122Z"
   },
   {
    "duration": 25,
    "start_time": "2024-08-01T03:38:59.148Z"
   },
   {
    "duration": 3,
    "start_time": "2024-08-01T03:39:56.323Z"
   },
   {
    "duration": 8,
    "start_time": "2024-08-01T03:40:30.332Z"
   },
   {
    "duration": 34,
    "start_time": "2024-08-01T03:40:39.254Z"
   },
   {
    "duration": 35,
    "start_time": "2024-08-01T03:41:27.561Z"
   },
   {
    "duration": 11,
    "start_time": "2024-08-01T03:41:56.356Z"
   },
   {
    "duration": 8,
    "start_time": "2024-08-01T03:43:02.630Z"
   },
   {
    "duration": 8,
    "start_time": "2024-08-01T03:43:45.158Z"
   },
   {
    "duration": 11,
    "start_time": "2024-08-01T03:43:46.299Z"
   },
   {
    "duration": 12,
    "start_time": "2024-08-01T03:44:23.118Z"
   },
   {
    "duration": 6,
    "start_time": "2024-08-01T03:45:00.007Z"
   },
   {
    "duration": 6,
    "start_time": "2024-08-01T03:45:46.841Z"
   },
   {
    "duration": 5,
    "start_time": "2024-08-01T03:45:48.163Z"
   },
   {
    "duration": 1214,
    "start_time": "2024-08-01T03:46:36.534Z"
   },
   {
    "duration": 268,
    "start_time": "2024-08-01T03:46:37.751Z"
   },
   {
    "duration": 16,
    "start_time": "2024-08-01T03:46:38.022Z"
   },
   {
    "duration": 11,
    "start_time": "2024-08-01T03:46:38.043Z"
   },
   {
    "duration": 11,
    "start_time": "2024-08-01T03:46:38.058Z"
   },
   {
    "duration": 12,
    "start_time": "2024-08-01T03:46:38.072Z"
   },
   {
    "duration": 54,
    "start_time": "2024-08-01T03:46:38.088Z"
   },
   {
    "duration": 15,
    "start_time": "2024-08-01T03:46:38.146Z"
   },
   {
    "duration": 12,
    "start_time": "2024-08-01T03:46:38.166Z"
   },
   {
    "duration": 8,
    "start_time": "2024-08-01T03:46:38.184Z"
   },
   {
    "duration": 15,
    "start_time": "2024-08-01T03:46:38.235Z"
   },
   {
    "duration": 14,
    "start_time": "2024-08-01T03:46:38.254Z"
   },
   {
    "duration": 9,
    "start_time": "2024-08-01T03:46:38.271Z"
   },
   {
    "duration": 60,
    "start_time": "2024-08-01T03:46:38.283Z"
   },
   {
    "duration": 17,
    "start_time": "2024-08-01T03:46:38.346Z"
   },
   {
    "duration": 23,
    "start_time": "2024-08-01T03:46:38.366Z"
   },
   {
    "duration": 62,
    "start_time": "2024-08-01T03:46:38.391Z"
   },
   {
    "duration": 10,
    "start_time": "2024-08-01T03:46:38.459Z"
   },
   {
    "duration": 19,
    "start_time": "2024-08-01T03:46:38.472Z"
   },
   {
    "duration": 86,
    "start_time": "2024-08-01T03:46:38.494Z"
   },
   {
    "duration": 55,
    "start_time": "2024-08-01T03:46:38.583Z"
   },
   {
    "duration": 27,
    "start_time": "2024-08-01T03:46:38.641Z"
   },
   {
    "duration": 30,
    "start_time": "2024-08-01T03:46:38.671Z"
   },
   {
    "duration": 57,
    "start_time": "2024-08-01T03:46:38.704Z"
   },
   {
    "duration": 5,
    "start_time": "2024-08-01T03:46:38.764Z"
   },
   {
    "duration": 14,
    "start_time": "2024-08-01T03:46:38.772Z"
   },
   {
    "duration": 57,
    "start_time": "2024-08-01T03:46:38.789Z"
   },
   {
    "duration": 13,
    "start_time": "2024-08-01T03:46:38.856Z"
   },
   {
    "duration": 6,
    "start_time": "2024-08-01T03:46:38.873Z"
   },
   {
    "duration": 121,
    "start_time": "2024-08-01T03:46:38.881Z"
   },
   {
    "duration": 29,
    "start_time": "2024-08-01T03:46:39.005Z"
   },
   {
    "duration": 10,
    "start_time": "2024-08-01T03:46:39.037Z"
   },
   {
    "duration": 32,
    "start_time": "2024-08-01T03:46:39.051Z"
   },
   {
    "duration": 62,
    "start_time": "2024-08-01T03:46:39.086Z"
   },
   {
    "duration": 17,
    "start_time": "2024-08-01T03:46:39.151Z"
   },
   {
    "duration": 12,
    "start_time": "2024-08-01T03:46:39.171Z"
   },
   {
    "duration": 54,
    "start_time": "2024-08-01T03:46:39.186Z"
   },
   {
    "duration": 12,
    "start_time": "2024-08-01T03:46:39.243Z"
   },
   {
    "duration": 88,
    "start_time": "2024-08-01T03:46:39.259Z"
   },
   {
    "duration": 25,
    "start_time": "2024-08-01T03:46:39.350Z"
   },
   {
    "duration": 21,
    "start_time": "2024-08-01T03:46:39.378Z"
   },
   {
    "duration": 45,
    "start_time": "2024-08-01T03:46:39.401Z"
   },
   {
    "duration": 21,
    "start_time": "2024-08-01T03:46:39.449Z"
   },
   {
    "duration": 15,
    "start_time": "2024-08-01T03:46:39.474Z"
   },
   {
    "duration": 52,
    "start_time": "2024-08-01T03:46:39.492Z"
   },
   {
    "duration": 24,
    "start_time": "2024-08-01T03:46:39.547Z"
   },
   {
    "duration": 84,
    "start_time": "2024-08-01T03:46:39.575Z"
   },
   {
    "duration": 14,
    "start_time": "2024-08-01T03:46:39.663Z"
   },
   {
    "duration": 3,
    "start_time": "2024-08-01T03:46:39.680Z"
   },
   {
    "duration": 64,
    "start_time": "2024-08-01T03:46:39.686Z"
   },
   {
    "duration": 17,
    "start_time": "2024-08-01T03:46:39.753Z"
   },
   {
    "duration": 31,
    "start_time": "2024-08-01T03:46:39.772Z"
   },
   {
    "duration": 22,
    "start_time": "2024-08-01T03:46:39.838Z"
   },
   {
    "duration": 5,
    "start_time": "2024-08-01T03:46:39.863Z"
   },
   {
    "duration": 16,
    "start_time": "2024-08-01T03:46:39.871Z"
   },
   {
    "duration": 62,
    "start_time": "2024-08-01T03:46:39.890Z"
   },
   {
    "duration": 16,
    "start_time": "2024-08-01T03:46:39.955Z"
   },
   {
    "duration": 59,
    "start_time": "2024-08-01T03:46:39.974Z"
   },
   {
    "duration": 6,
    "start_time": "2024-08-01T03:46:40.036Z"
   },
   {
    "duration": 7,
    "start_time": "2024-08-01T03:46:40.045Z"
   },
   {
    "duration": 4,
    "start_time": "2024-08-01T03:46:40.055Z"
   },
   {
    "duration": 11,
    "start_time": "2024-08-01T03:46:40.063Z"
   },
   {
    "duration": 5,
    "start_time": "2024-08-01T03:46:40.077Z"
   },
   {
    "duration": 50,
    "start_time": "2024-08-01T03:46:40.085Z"
   },
   {
    "duration": 61,
    "start_time": "2024-08-01T03:46:40.138Z"
   },
   {
    "duration": 35,
    "start_time": "2024-08-01T03:46:40.201Z"
   },
   {
    "duration": 5,
    "start_time": "2024-08-01T03:46:40.239Z"
   },
   {
    "duration": 91,
    "start_time": "2024-08-01T03:46:40.247Z"
   },
   {
    "duration": 9,
    "start_time": "2024-08-01T03:46:40.341Z"
   },
   {
    "duration": 6,
    "start_time": "2024-08-01T03:46:40.353Z"
   },
   {
    "duration": 86,
    "start_time": "2024-08-01T03:46:40.361Z"
   },
   {
    "duration": 13,
    "start_time": "2024-08-01T03:46:40.450Z"
   },
   {
    "duration": 6,
    "start_time": "2024-08-01T03:46:40.465Z"
   },
   {
    "duration": 122,
    "start_time": "2024-08-01T03:46:40.475Z"
   },
   {
    "duration": 4,
    "start_time": "2024-08-01T03:46:40.599Z"
   },
   {
    "duration": 28,
    "start_time": "2024-08-01T03:46:40.606Z"
   },
   {
    "duration": 808,
    "start_time": "2024-08-01T03:46:40.637Z"
   },
   {
    "duration": 18,
    "start_time": "2024-08-01T03:46:41.447Z"
   },
   {
    "duration": 529,
    "start_time": "2024-08-01T03:46:41.468Z"
   },
   {
    "duration": 330,
    "start_time": "2024-08-01T03:46:42.000Z"
   },
   {
    "duration": 14,
    "start_time": "2024-08-01T03:46:42.335Z"
   },
   {
    "duration": 13,
    "start_time": "2024-08-01T03:46:42.363Z"
   },
   {
    "duration": 179,
    "start_time": "2024-08-01T03:46:42.378Z"
   },
   {
    "duration": 156,
    "start_time": "2024-08-01T03:46:42.560Z"
   },
   {
    "duration": 162,
    "start_time": "2024-08-01T03:46:42.719Z"
   },
   {
    "duration": 18,
    "start_time": "2024-08-01T03:46:42.884Z"
   },
   {
    "duration": 477,
    "start_time": "2024-08-01T03:46:42.905Z"
   },
   {
    "duration": 333,
    "start_time": "2024-08-01T03:46:43.386Z"
   },
   {
    "duration": 22,
    "start_time": "2024-08-01T03:46:43.722Z"
   },
   {
    "duration": 16,
    "start_time": "2024-08-01T03:46:43.747Z"
   },
   {
    "duration": 167,
    "start_time": "2024-08-01T03:46:43.767Z"
   },
   {
    "duration": 145,
    "start_time": "2024-08-01T03:46:43.938Z"
   },
   {
    "duration": 149,
    "start_time": "2024-08-01T03:46:44.085Z"
   },
   {
    "duration": 18,
    "start_time": "2024-08-01T03:46:44.237Z"
   },
   {
    "duration": 448,
    "start_time": "2024-08-01T03:46:44.259Z"
   },
   {
    "duration": 434,
    "start_time": "2024-08-01T03:46:44.710Z"
   },
   {
    "duration": 13,
    "start_time": "2024-08-01T03:46:45.147Z"
   },
   {
    "duration": 14,
    "start_time": "2024-08-01T03:46:45.163Z"
   },
   {
    "duration": 183,
    "start_time": "2024-08-01T03:46:45.180Z"
   },
   {
    "duration": 159,
    "start_time": "2024-08-01T03:46:45.366Z"
   },
   {
    "duration": 140,
    "start_time": "2024-08-01T03:46:45.535Z"
   },
   {
    "duration": 10,
    "start_time": "2024-08-01T03:46:45.678Z"
   },
   {
    "duration": 201,
    "start_time": "2024-08-01T03:46:45.691Z"
   },
   {
    "duration": 12,
    "start_time": "2024-08-01T03:46:45.896Z"
   },
   {
    "duration": 32,
    "start_time": "2024-08-01T03:46:45.911Z"
   },
   {
    "duration": 8,
    "start_time": "2024-08-01T03:46:45.946Z"
   },
   {
    "duration": 10,
    "start_time": "2024-08-01T03:46:45.957Z"
   },
   {
    "duration": 13,
    "start_time": "2024-08-01T03:46:45.973Z"
   },
   {
    "duration": 46,
    "start_time": "2024-08-01T03:46:45.989Z"
   },
   {
    "duration": 18,
    "start_time": "2024-08-01T03:46:46.038Z"
   },
   {
    "duration": 6,
    "start_time": "2024-08-01T03:46:46.059Z"
   },
   {
    "duration": 5,
    "start_time": "2024-08-01T03:46:46.068Z"
   },
   {
    "duration": 7,
    "start_time": "2024-08-01T04:36:16.098Z"
   },
   {
    "duration": 5,
    "start_time": "2024-08-01T04:36:38.464Z"
   },
   {
    "duration": 3,
    "start_time": "2024-08-01T04:36:51.008Z"
   },
   {
    "duration": 16,
    "start_time": "2024-08-04T15:22:11.081Z"
   }
  ],
  "colab": {
   "provenance": []
  },
  "kernelspec": {
   "display_name": "Python 3 (ipykernel)",
   "language": "python",
   "name": "python3"
  },
  "language_info": {
   "codemirror_mode": {
    "name": "ipython",
    "version": 3
   },
   "file_extension": ".py",
   "mimetype": "text/x-python",
   "name": "python",
   "nbconvert_exporter": "python",
   "pygments_lexer": "ipython3",
   "version": "3.12.4"
  },
  "toc": {
   "base_numbering": 1,
   "nav_menu": {},
   "number_sections": true,
   "sideBar": true,
   "skip_h1_title": false,
   "title_cell": "Table of Contents",
   "title_sidebar": "Contents",
   "toc_cell": false,
   "toc_position": {},
   "toc_section_display": true,
   "toc_window_display": true
  }
 },
 "nbformat": 4,
 "nbformat_minor": 4
}
